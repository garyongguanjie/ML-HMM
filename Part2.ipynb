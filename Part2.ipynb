{
 "cells": [
  {
   "cell_type": "code",
   "execution_count": 14,
   "metadata": {},
   "outputs": [],
   "source": [
    "import pandas as pd\n",
    "\n",
    "\n",
    "data_ls = []\n",
    "name=['EN','AL','CN','SG']\n",
    "\n",
    "for i in name:\n",
    "    file = \"./\"+i+\"/train\"\n",
    "    file_object = open(file, \"r\",encoding='UTF-8')\n",
    "    dataset=[]\n",
    "    for line in file_object:\n",
    "        dataset.append(line)\n",
    "    data=[]\n",
    "    for i in range(len(dataset)):\n",
    "        temp = dataset[i].split()\n",
    "        if (len(temp)==2):\n",
    "            data.append(temp)\n",
    "    data_ls.append(pd.DataFrame(data, columns = ['Word', 'Tag']))\n",
    "\n",
    "EN = data_ls[0]\n",
    "AL = data_ls[1]\n",
    "CN = data_ls[2]\n",
    "SG = data_ls[3]"
   ]
  },
  {
   "cell_type": "code",
   "execution_count": 15,
   "metadata": {},
   "outputs": [
    {
     "name": "stdout",
     "output_type": "stream",
     "text": [
      "EN\n",
      "        Word     Tag\n",
      "0  Municipal    B-NP\n",
      "1      bonds    I-NP\n",
      "2        are    B-VP\n",
      "3  generally  B-ADVP\n",
      "4          a  B-ADJP\n",
      "\n",
      "\n",
      "AL\n",
      "  Word         Tag\n",
      "0    小  B-DISTRICT\n",
      "1    港  I-DISTRICT\n",
      "2    四       B-POI\n",
      "3    方       I-POI\n",
      "4    家       I-POI\n",
      "\n",
      "\n",
      "CN\n",
      "  Word Tag\n",
      "0    这   O\n",
      "1   大概   O\n",
      "2    是   O\n",
      "3   所有   O\n",
      "4   版本   O\n",
      "\n",
      "\n",
      "SG\n",
      "    Word         Tag\n",
      "0    I'm           O\n",
      "1  about           O\n",
      "2     to           O\n",
      "3    see           O\n",
      "4   Adam  B-positive\n",
      "\n",
      "\n"
     ]
    }
   ],
   "source": [
    "for i in range(len(data_ls)):\n",
    "    print(name[i])\n",
    "    print(data_ls[i].head())\n",
    "    print(\"\\n\")"
   ]
  },
  {
   "cell_type": "code",
   "execution_count": 16,
   "metadata": {},
   "outputs": [
    {
     "name": "stdout",
     "output_type": "stream",
     "text": [
      "EN\n",
      "I-NP       54591\n",
      "B-NP       47305\n",
      "O          23872\n",
      "B-PP       18387\n",
      "B-VP       18261\n",
      "I-VP       10159\n",
      "B-ADVP      3565\n",
      "B-SBAR      1899\n",
      "B-ADJP      1751\n",
      "I-ADJP       574\n",
      "B-PRT        468\n",
      "I-ADVP       363\n",
      "I-PP         223\n",
      "I-CONJP       64\n",
      "B-CONJP       49\n",
      "I-SBAR        48\n",
      "B-INTJ        26\n",
      "B-LST         11\n",
      "I-INTJ         7\n",
      "I-UCP          4\n",
      "B-UCP          1\n",
      "Name: Tag, dtype: int64\n",
      "\n",
      "\n",
      "AL\n",
      "I-POI          28472\n",
      "I-ROAD         15178\n",
      "I-DISTRICT     13364\n",
      "I-TOWN         10748\n",
      "I-CITY         10430\n",
      "I-PROV          8666\n",
      "B-POI           7348\n",
      "B-DISTRICT      6856\n",
      "B-ROAD          6324\n",
      "B-CITY          5697\n",
      "B-ROADNO        5061\n",
      "I-ROADNO        4666\n",
      "B-TOWN          4612\n",
      "I-SUBPOI        4557\n",
      "B-PROV          4488\n",
      "B-REDUNDANT     4137\n",
      "I-REDUNDANT     3668\n",
      "B-HOUSENO       3455\n",
      "I-COMMUNITY     3148\n",
      "B-ROOMNO        3107\n",
      "I-HOUSENO       3045\n",
      "I-PERSON        2232\n",
      "I-DEVZONE       1834\n",
      "B-SUBPOI        1650\n",
      "I-CELLNO        1488\n",
      "B-COMMUNITY     1479\n",
      "B-CELLNO        1326\n",
      "I-FLOORNO       1237\n",
      "B-FLOORNO       1229\n",
      "I-ROOMNO        1204\n",
      "B-ASSIST         801\n",
      "I-ASSIST         741\n",
      "I-SUBROAD        714\n",
      "B-PERSON         713\n",
      "B-DEVZONE        401\n",
      "B-SUBROAD        387\n",
      "B-SUBROADNO      202\n",
      "I-SUBROADNO      186\n",
      "I-COUNTRY         47\n",
      "B-COUNTRY         47\n",
      "B-OTHERINFO        3\n",
      "I-OTHERINFO        1\n",
      "Name: Tag, dtype: int64\n",
      "\n",
      "\n",
      "CN\n",
      "O             146226\n",
      "I-neutral       7254\n",
      "B-neutral       6234\n",
      "I-positive      4527\n",
      "B-positive      3663\n",
      "B-negative       531\n",
      "I-negative       317\n",
      "Name: Tag, dtype: int64\n",
      "\n",
      "\n",
      "SG\n",
      "O             279410\n",
      "B-neutral      20190\n",
      "I-neutral      18893\n",
      "B-positive      7456\n",
      "I-positive      4899\n",
      "B-negative      3864\n",
      "I-negative      1509\n",
      "Name: Tag, dtype: int64\n",
      "\n",
      "\n"
     ]
    }
   ],
   "source": [
    "for i in range(len(data_ls)):\n",
    "    print(name[i])\n",
    "    print(data_ls[i]['Tag'].value_counts())\n",
    "    print(\"\\n\")"
   ]
  },
  {
   "cell_type": "code",
   "execution_count": 17,
   "metadata": {},
   "outputs": [],
   "source": [
    "def emission(df,word,tag):\n",
    "    is_tag = (df.Tag==tag)\n",
    "    y = is_tag.sum()\n",
    "    xy = (df.Word[is_tag]==word).sum()\n",
    "    return xy/y"
   ]
  },
  {
   "cell_type": "code",
   "execution_count": 18,
   "metadata": {},
   "outputs": [
    {
     "name": "stdout",
     "output_type": "stream",
     "text": [
      "0.03707354471277586\n"
     ]
    }
   ],
   "source": [
    "print(emission(EN,\"are\",\"B-VP\"))"
   ]
  },
  {
   "cell_type": "code",
   "execution_count": 19,
   "metadata": {},
   "outputs": [],
   "source": [
    "def smoothen(df,k):\n",
    "    ls = df['Word'].value_counts()[df['Word'].value_counts()<k].index.tolist()\n",
    "    df.loc[df['Word'].isin(ls), 'Word'] = \"#UNK#\"\n",
    "    return df\n",
    "\n",
    "EN=smoothen(EN,k=3)\n",
    "AL=smoothen(AL,k=3)\n",
    "CN=smoothen(CN,k=3)\n",
    "SG=smoothen(SG,k=3)"
   ]
  },
  {
   "cell_type": "code",
   "execution_count": 20,
   "metadata": {},
   "outputs": [
    {
     "name": "stdout",
     "output_type": "stream",
     "text": [
      "EN\n",
      "         Word     Tag\n",
      "0       #UNK#    B-NP\n",
      "1       bonds    I-NP\n",
      "2         are    B-VP\n",
      "3   generally  B-ADVP\n",
      "4           a  B-ADJP\n",
      "5         bit  I-ADJP\n",
      "6       #UNK#  I-ADJP\n",
      "7        than    B-PP\n",
      "8   corporate    B-NP\n",
      "9       bonds    I-NP\n",
      "10         in    B-PP\n",
      "11          a    B-NP\n",
      "12  recession    I-NP\n",
      "13          ,       O\n",
      "14        but       O\n",
      "15        not  B-ADJP\n",
      "16         as  I-ADJP\n",
      "17       safe  I-ADJP\n",
      "18         as    B-PP\n",
      "19      bonds    B-NP\n",
      "\n",
      "\n",
      "AL\n",
      "    Word         Tag\n",
      "0      小  B-DISTRICT\n",
      "1      港  I-DISTRICT\n",
      "2      四       B-POI\n",
      "3      方       I-POI\n",
      "4      家       I-POI\n",
      "5      园       I-POI\n",
      "6     17   B-HOUSENO\n",
      "7      幢   I-HOUSENO\n",
      "8   1363    B-CELLNO\n",
      "9      室    I-CELLNO\n",
      "10     嘉      B-CITY\n",
      "11     兴      I-CITY\n",
      "12     南  B-DISTRICT\n",
      "13     湖  I-DISTRICT\n",
      "14     区  I-DISTRICT\n",
      "15     文      B-ROAD\n",
      "16     昌      I-ROAD\n",
      "17     路      I-ROAD\n",
      "18     新       B-POI\n",
      "19     文       I-POI\n",
      "\n",
      "\n",
      "CN\n",
      "     Word        Tag\n",
      "0       这          O\n",
      "1      大概          O\n",
      "2       是          O\n",
      "3      所有          O\n",
      "4      版本          O\n",
      "5       里          O\n",
      "6   #UNK#  B-neutral\n",
      "7      哥哥  I-neutral\n",
      "8       对          O\n",
      "9   #UNK#  B-neutral\n",
      "10      说          O\n",
      "11      过          O\n",
      "12      的          O\n",
      "13     最美          O\n",
      "14      的          O\n",
      "15     情话          O\n",
      "16      了          O\n",
      "17      ~          O\n",
      "18      【          O\n",
      "19     北大  B-neutral\n",
      "\n",
      "\n",
      "SG\n",
      "        Word         Tag\n",
      "0        I'm           O\n",
      "1      about           O\n",
      "2         to           O\n",
      "3        see           O\n",
      "4       Adam  B-positive\n",
      "5     Levine  I-positive\n",
      "6        and           O\n",
      "7        I'm           O\n",
      "8   probably           O\n",
      "9      going           O\n",
      "10        to           O\n",
      "11      drop           O\n",
      "12      dead           O\n",
      "13     #UNK#           O\n",
      "14      Come           O\n",
      "15        to           O\n",
      "16       our           O\n",
      "17     #UNK#           O\n",
      "18   session           O\n",
      "19  tomorrow           O\n",
      "\n",
      "\n"
     ]
    }
   ],
   "source": [
    "for i in range(len(data_ls)):\n",
    "    print(name[i])\n",
    "    print(data_ls[i].head(20))\n",
    "    print(\"\\n\")"
   ]
  },
  {
   "cell_type": "code",
   "execution_count": 21,
   "metadata": {},
   "outputs": [
    {
     "data": {
      "application/vnd.jupyter.widget-view+json": {
       "model_id": "6fb742ef62e141d79ee6ba47d1dd3c7a",
       "version_major": 2,
       "version_minor": 0
      },
      "text/plain": [
       "HBox(children=(IntProgress(value=1, bar_style='info', max=1), HTML(value='')))"
      ]
     },
     "metadata": {},
     "output_type": "display_data"
    },
    {
     "name": "stdout",
     "output_type": "stream",
     "text": [
      "\n"
     ]
    },
    {
     "data": {
      "application/vnd.jupyter.widget-view+json": {
       "model_id": "5dd958d362d84d6193334694f5139b21",
       "version_major": 2,
       "version_minor": 0
      },
      "text/plain": [
       "HBox(children=(IntProgress(value=0, max=12171), HTML(value='')))"
      ]
     },
     "metadata": {},
     "output_type": "display_data"
    },
    {
     "name": "stdout",
     "output_type": "stream",
     "text": [
      "\n"
     ]
    },
    {
     "data": {
      "application/vnd.jupyter.widget-view+json": {
       "model_id": "e0549b8540874d63b2cd0c0f0357970a",
       "version_major": 2,
       "version_minor": 0
      },
      "text/plain": [
       "HBox(children=(IntProgress(value=0, max=13781), HTML(value='')))"
      ]
     },
     "metadata": {},
     "output_type": "display_data"
    },
    {
     "name": "stdout",
     "output_type": "stream",
     "text": [
      "\n"
     ]
    },
    {
     "data": {
      "application/vnd.jupyter.widget-view+json": {
       "model_id": "58954875beb14934aac5a2f139da340b",
       "version_major": 2,
       "version_minor": 0
      },
      "text/plain": [
       "HBox(children=(IntProgress(value=0, max=12562), HTML(value='')))"
      ]
     },
     "metadata": {},
     "output_type": "display_data"
    },
    {
     "name": "stdout",
     "output_type": "stream",
     "text": [
      "\n"
     ]
    },
    {
     "data": {
      "application/vnd.jupyter.widget-view+json": {
       "model_id": "a0c33d627d034c52a353a6f147da60c4",
       "version_major": 2,
       "version_minor": 0
      },
      "text/plain": [
       "HBox(children=(IntProgress(value=0, max=20143), HTML(value='')))"
      ]
     },
     "metadata": {},
     "output_type": "display_data"
    },
    {
     "name": "stdout",
     "output_type": "stream",
     "text": [
      "\n"
     ]
    }
   ],
   "source": [
    "from tqdm import tqdm_notebook\n",
    "tqdm_notebook().pandas()\n",
    "\n",
    "\n",
    "EN_count_series = EN.groupby(['Word', 'Tag']).size()\n",
    "AL_count_series = AL.groupby(['Word', 'Tag']).size()\n",
    "CN_count_series = CN.groupby(['Word', 'Tag']).size()\n",
    "SG_count_series = SG.groupby(['Word', 'Tag']).size()\n",
    "\n",
    "EN_tag_count = EN['Tag'].value_counts()\n",
    "AL_tag_count = AL['Tag'].value_counts()\n",
    "CN_tag_count = CN['Tag'].value_counts()\n",
    "SG_tag_count = SG['Tag'].value_counts()\n",
    "\n",
    "EN_count_u = pd.Series(EN_count_series.index.get_level_values('Tag').tolist(), index=EN_count_series.index).progress_apply(lambda x: EN_tag_count[x])\n",
    "AL_count_u = pd.Series(AL_count_series.index.get_level_values('Tag').tolist(), index=AL_count_series.index).progress_apply(lambda x: AL_tag_count[x])\n",
    "CN_count_u = pd.Series(CN_count_series.index.get_level_values('Tag').tolist(), index=CN_count_series.index).progress_apply(lambda x: CN_tag_count[x])\n",
    "SG_count_u = pd.Series(SG_count_series.index.get_level_values('Tag').tolist(), index=SG_count_series.index).progress_apply(lambda x: SG_tag_count[x])\n",
    "\n",
    "EN_count_series = EN_count_series / EN_count_u\n",
    "AL_count_series = AL_count_series / AL_count_u\n",
    "CN_count_series = CN_count_series / CN_count_u\n",
    "SG_count_series = SG_count_series / SG_count_u\n",
    "\n",
    "\n",
    "count_series=[EN_count_series, AL_count_series, CN_count_series, SG_count_series]"
   ]
  },
  {
   "cell_type": "code",
   "execution_count": 22,
   "metadata": {},
   "outputs": [
    {
     "name": "stdout",
     "output_type": "stream",
     "text": [
      "EN\n",
      "Word     Tag   \n",
      "!        O         0.000628\n",
      "#        B-ADJP    0.001713\n",
      "         B-NP      0.000423\n",
      "         I-NP      0.000183\n",
      "         O         0.000042\n",
      "                     ...   \n",
      "young    I-NP      0.000128\n",
      "younger  B-NP      0.000085\n",
      "         I-NP      0.000092\n",
      "your     B-NP      0.000803\n",
      "         I-NP      0.000037\n",
      "Length: 12171, dtype: float64\n",
      "\n",
      "\n",
      "AL\n",
      "Word   Tag        \n",
      "#UNK#  B-ASSIST       0.004994\n",
      "       B-CELLNO       0.003771\n",
      "       B-CITY         0.003160\n",
      "       B-COMMUNITY    0.031778\n",
      "       B-DEVZONE      0.004988\n",
      "                        ...   \n",
      "龙      I-SUBROAD      0.002801\n",
      "       I-TOWN         0.002512\n",
      "龚      B-POI          0.000680\n",
      "       I-POI          0.000035\n",
      "       I-ROAD         0.000066\n",
      "Length: 13781, dtype: float64\n",
      "\n",
      "\n",
      "CN\n",
      "Word  Tag       \n",
      "!     I-neutral     0.000551\n",
      "      I-positive    0.000884\n",
      "      O             0.000554\n",
      "\"     B-negative    0.001883\n",
      "      B-positive    0.000273\n",
      "                      ...   \n",
      "［     O             0.000021\n",
      "］     O             0.000021\n",
      "～     O             0.000547\n",
      "￣     O             0.000055\n",
      "￥     O             0.000103\n",
      "Length: 12562, dtype: float64\n",
      "\n",
      "\n",
      "SG\n",
      "Word  Tag       \n",
      "!     I-negative    0.001988\n",
      "      I-neutral     0.000212\n",
      "      I-positive    0.001837\n",
      "      O             0.018800\n",
      "\"     B-negative    0.000776\n",
      "                      ...   \n",
      "⭐     O             0.000032\n",
      "・     O             0.000075\n",
      "️     I-positive    0.000408\n",
      "      O             0.002487\n",
      "；     O             0.000014\n",
      "Length: 20143, dtype: float64\n",
      "\n",
      "\n"
     ]
    }
   ],
   "source": [
    "for i in range(len(count_series)):\n",
    "    print(name[i])\n",
    "    print(count_series[i])\n",
    "    print(\"\\n\")"
   ]
  },
  {
   "cell_type": "code",
   "execution_count": 23,
   "metadata": {},
   "outputs": [],
   "source": [
    "# def argmax(df,word):\n",
    "#     if (word==\"\"):\n",
    "#         return \"\"\n",
    "#     tags = (df.Tag[df.Word==word]).value_counts().index.tolist()\n",
    "#     if (len(tags)==0):\n",
    "#         tags = (df.Tag[df.Word==\"#UNK#\"]).value_counts().index.tolist()\n",
    "#     emission_ls=[]\n",
    "#     for i in tags:\n",
    "#         emission_ls.append(emission(df,word,i))\n",
    "#     return(tags[emission_ls.index(max(emission_ls))])\n",
    "\n",
    "def argmax(df,word):\n",
    "    if (word==\"\"):\n",
    "        return \"\"\n",
    "    try:\n",
    "        value = df.loc[word].idxmax()\n",
    "    except:\n",
    "        value = df.loc[\"#UNK#\"].idxmax()\n",
    "    \n",
    "    return (value)\n",
    "\n",
    "# def argmax(df,word):\n",
    "#     if (word==\"\"):\n",
    "#         return \"\"\n",
    "#     tags = pd.DataFrame((df.Tag[df.Word==word]).value_counts().index.tolist(), columns=['Tags'])\n",
    "#     if (len(tags.index)==0):\n",
    "#         tags = pd.DataFrame((df.Tag[df.Word==\"#UNK#\"]).value_counts().index.tolist(), columns=['Tags'])\n",
    "#         word=\"#UNK#\"\n",
    "#     tags['Emission'] = tags['Tags'].apply(lambda x: emission(df,word,x))\n",
    "#     return(tags['Tags'].loc[tags['Emission'].idxmax()])"
   ]
  },
  {
   "cell_type": "code",
   "execution_count": 24,
   "metadata": {},
   "outputs": [
    {
     "data": {
      "application/vnd.jupyter.widget-view+json": {
       "model_id": "237bf8a292a942e08cce4fd50dd41a32",
       "version_major": 2,
       "version_minor": 0
      },
      "text/plain": [
       "HBox(children=(IntProgress(value=0, max=27225), HTML(value='')))"
      ]
     },
     "metadata": {},
     "output_type": "display_data"
    },
    {
     "name": "stdout",
     "output_type": "stream",
     "text": [
      "\n"
     ]
    },
    {
     "data": {
      "application/vnd.jupyter.widget-view+json": {
       "model_id": "64e04fce1c814e2dace249c46914acb7",
       "version_major": 2,
       "version_minor": 0
      },
      "text/plain": [
       "HBox(children=(IntProgress(value=0, max=26155), HTML(value='')))"
      ]
     },
     "metadata": {},
     "output_type": "display_data"
    },
    {
     "name": "stdout",
     "output_type": "stream",
     "text": [
      "\n"
     ]
    },
    {
     "data": {
      "application/vnd.jupyter.widget-view+json": {
       "model_id": "1ec24a7c1eea460eaefbfffee689f28b",
       "version_major": 2,
       "version_minor": 0
      },
      "text/plain": [
       "HBox(children=(IntProgress(value=0, max=24225), HTML(value='')))"
      ]
     },
     "metadata": {},
     "output_type": "display_data"
    },
    {
     "name": "stdout",
     "output_type": "stream",
     "text": [
      "\n"
     ]
    },
    {
     "data": {
      "application/vnd.jupyter.widget-view+json": {
       "model_id": "7562807788794082b6c7caba1ac074cd",
       "version_major": 2,
       "version_minor": 0
      },
      "text/plain": [
       "HBox(children=(IntProgress(value=0, max=50763), HTML(value='')))"
      ]
     },
     "metadata": {},
     "output_type": "display_data"
    },
    {
     "name": "stdout",
     "output_type": "stream",
     "text": [
      "\n"
     ]
    }
   ],
   "source": [
    "test_ls = []\n",
    "count=0\n",
    "for i in name:\n",
    "    file = \"./\"+i+\"/dev.in\"\n",
    "    file_object = open(file, \"r\",encoding='UTF-8')\n",
    "    ls=[]\n",
    "    for line in file_object:\n",
    "        ls.append(line.strip())\n",
    "    df = pd.DataFrame(ls, columns = ['Word'])\n",
    "    df['Tag'] = df['Word'].progress_apply(lambda x: argmax(count_series[count], x))\n",
    "    test_ls.append(df)\n",
    "    count+=1\n",
    "\n",
    "EN_test = test_ls[0]\n",
    "AL_test = test_ls[1]\n",
    "CN_test = test_ls[2]\n",
    "SG_test = test_ls[3]"
   ]
  },
  {
   "cell_type": "code",
   "execution_count": 25,
   "metadata": {},
   "outputs": [
    {
     "name": "stdout",
     "output_type": "stream",
     "text": [
      "EN\n",
      "           Word     Tag\n",
      "0           HBO    B-NP\n",
      "1           has    B-VP\n",
      "2         close  B-ADJP\n",
      "3            to    B-PP\n",
      "4            24    I-NP\n",
      "...         ...     ...\n",
      "27220      were    B-VP\n",
      "27221        in    B-PP\n",
      "27222  Congress    B-NP\n",
      "27223         .       O\n",
      "27224                  \n",
      "\n",
      "[27225 rows x 2 columns]\n",
      "\n",
      "\n",
      "AL\n",
      "      Word          Tag\n",
      "0        杭       B-CITY\n",
      "1        州       I-CITY\n",
      "2        市       I-CITY\n",
      "3        西     B-ASSIST\n",
      "4        湖   I-DISTRICT\n",
      "...    ...          ...\n",
      "26150    油     I-SUBPOI\n",
      "26151    站     I-SUBPOI\n",
      "26152    电  B-OTHERINFO\n",
      "26153    联  I-OTHERINFO\n",
      "26154                  \n",
      "\n",
      "[26155 rows x 2 columns]\n",
      "\n",
      "\n",
      "CN\n",
      "      Word         Tag\n",
      "0        一  I-negative\n",
      "1       觉醒  B-negative\n",
      "2       来天  B-negative\n",
      "3        都           O\n",
      "4        黑   B-neutral\n",
      "...    ...         ...\n",
      "24220   甜蜜  B-positive\n",
      "24221    的           O\n",
      "24222   浪漫           O\n",
      "24223    。           O\n",
      "24224                 \n",
      "\n",
      "[24225 rows x 2 columns]\n",
      "\n",
      "\n",
      "SG\n",
      "                          Word         Tag\n",
      "0                         Tour  B-positive\n",
      "1                     Scotland   B-neutral\n",
      "2                    followers           O\n",
      "3                           to           O\n",
      "4                        visit           O\n",
      "...                        ...         ...\n",
      "50758                   trends           O\n",
      "50759                       at           O\n",
      "50760  https://t.co/psP0GzBgZB           O\n",
      "50761                  #trndnl           O\n",
      "50762                                     \n",
      "\n",
      "[50763 rows x 2 columns]\n",
      "\n",
      "\n"
     ]
    }
   ],
   "source": [
    "for i in range(len(test_ls)):\n",
    "    print(name[i])\n",
    "    print(test_ls[i])\n",
    "    print(\"\\n\")"
   ]
  },
  {
   "cell_type": "code",
   "execution_count": 26,
   "metadata": {},
   "outputs": [],
   "source": [
    "test_out_ls=[]\n",
    "for i in name:\n",
    "    file = \"./\"+i+\"/dev.out\"\n",
    "    file_object = open(file, \"r\",encoding='UTF-8')\n",
    "    ls=[]\n",
    "    for line in file_object:\n",
    "        temp=line.split()\n",
    "        if (len(temp)==0):\n",
    "            temp.append(\"\")\n",
    "            temp.append(\"\")\n",
    "        ls.append(temp)\n",
    "    test_out_ls.append(pd.DataFrame(ls, columns = ['Word', 'Tag']))\n",
    "\n",
    "EN_test_out = test_out_ls[0]\n",
    "AL_test_out = test_out_ls[1]\n",
    "CN_test_out = test_out_ls[2]\n",
    "SG_test_out = test_out_ls[3]"
   ]
  },
  {
   "cell_type": "code",
   "execution_count": 27,
   "metadata": {},
   "outputs": [
    {
     "name": "stdout",
     "output_type": "stream",
     "text": [
      "EN\n",
      "           Word   Tag\n",
      "0           HBO  B-NP\n",
      "1           has  B-VP\n",
      "2         close  B-NP\n",
      "3            to  I-NP\n",
      "4            24  I-NP\n",
      "...         ...   ...\n",
      "27220      were  B-VP\n",
      "27221        in  B-PP\n",
      "27222  Congress  B-NP\n",
      "27223         .     O\n",
      "27224                \n",
      "\n",
      "[27225 rows x 2 columns]\n",
      "\n",
      "\n",
      "AL\n",
      "      Word          Tag\n",
      "0        杭       B-CITY\n",
      "1        州       I-CITY\n",
      "2        市       I-CITY\n",
      "3        西   B-DISTRICT\n",
      "4        湖   I-DISTRICT\n",
      "...    ...          ...\n",
      "26150    油        I-POI\n",
      "26151    站        I-POI\n",
      "26152    电  B-REDUNDANT\n",
      "26153    联  I-REDUNDANT\n",
      "26154                  \n",
      "\n",
      "[26155 rows x 2 columns]\n",
      "\n",
      "\n",
      "CN\n",
      "      Word Tag\n",
      "0        一   O\n",
      "1       觉醒   O\n",
      "2       来天   O\n",
      "3        都   O\n",
      "4        黑   O\n",
      "...    ...  ..\n",
      "24220   甜蜜   O\n",
      "24221    的   O\n",
      "24222   浪漫   O\n",
      "24223    。   O\n",
      "24224         \n",
      "\n",
      "[24225 rows x 2 columns]\n",
      "\n",
      "\n",
      "SG\n",
      "                          Word        Tag\n",
      "0                         Tour  B-neutral\n",
      "1                     Scotland  I-neutral\n",
      "2                    followers          O\n",
      "3                           to          O\n",
      "4                        visit          O\n",
      "...                        ...        ...\n",
      "50758                   trends          O\n",
      "50759                       at          O\n",
      "50760  https://t.co/psP0GzBgZB          O\n",
      "50761                  #trndnl          O\n",
      "50762                                    \n",
      "\n",
      "[50763 rows x 2 columns]\n",
      "\n",
      "\n"
     ]
    }
   ],
   "source": [
    "for i in range(len(test_out_ls)):\n",
    "    print(name[i])\n",
    "    print(test_out_ls[i])\n",
    "    print(\"\\n\")"
   ]
  },
  {
   "cell_type": "code",
   "execution_count": 28,
   "metadata": {},
   "outputs": [],
   "source": [
    "for i in range(len(name)):\n",
    "    file = \"./\"+name[i]+\"/dev.prediction\"\n",
    "    test_ls[i].to_csv(file, sep=\" \", index=False, header=False)"
   ]
  },
  {
   "cell_type": "code",
   "execution_count": 29,
   "metadata": {},
   "outputs": [
    {
     "name": "stderr",
     "output_type": "stream",
     "text": [
      "'python3' is not recognized as an internal or external command,\n",
      "operable program or batch file.\n"
     ]
    }
   ],
   "source": [
    "!python3 ./EvalScript/evalResult.py ./EN/dev.out ./EN/dev.prediction"
   ]
  },
  {
   "cell_type": "code",
   "execution_count": 30,
   "metadata": {},
   "outputs": [
    {
     "name": "stderr",
     "output_type": "stream",
     "text": [
      "'python3' is not recognized as an internal or external command,\n",
      "operable program or batch file.\n"
     ]
    }
   ],
   "source": [
    "!python3 ./EvalScript/evalResult.py ./AL/dev.out ./AL/dev.prediction"
   ]
  },
  {
   "cell_type": "code",
   "execution_count": 31,
   "metadata": {},
   "outputs": [
    {
     "name": "stderr",
     "output_type": "stream",
     "text": [
      "'python3' is not recognized as an internal or external command,\n",
      "operable program or batch file.\n"
     ]
    }
   ],
   "source": [
    "!python3 ./EvalScript/evalResult.py ./CN/dev.out ./CN/dev.prediction"
   ]
  },
  {
   "cell_type": "code",
   "execution_count": 32,
   "metadata": {},
   "outputs": [
    {
     "name": "stderr",
     "output_type": "stream",
     "text": [
      "'python3' is not recognized as an internal or external command,\n",
      "operable program or batch file.\n"
     ]
    }
   ],
   "source": [
    "!python3 ./EvalScript/evalResult.py ./SG/dev.out ./SG/dev.prediction"
   ]
  },
  {
   "cell_type": "code",
   "execution_count": null,
   "metadata": {},
   "outputs": [],
   "source": []
  }
 ],
 "metadata": {
  "kernelspec": {
   "display_name": "Python 3",
   "language": "python",
   "name": "python3"
  },
  "language_info": {
   "codemirror_mode": {
    "name": "ipython",
    "version": 3
   },
   "file_extension": ".py",
   "mimetype": "text/x-python",
   "name": "python",
   "nbconvert_exporter": "python",
   "pygments_lexer": "ipython3",
   "version": "3.7.4"
  }
 },
 "nbformat": 4,
 "nbformat_minor": 2
}
