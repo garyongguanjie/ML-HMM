{
 "cells": [
  {
   "cell_type": "code",
   "execution_count": 23,
   "metadata": {},
   "outputs": [],
   "source": [
    "import numpy as np\n",
    "import pandas as pd"
   ]
  },
  {
   "cell_type": "code",
   "execution_count": 24,
   "metadata": {},
   "outputs": [],
   "source": [
    "class Hmm:\n",
    "    def __init__(self,file,k=3):\n",
    "        self.words = None #set of unique words\n",
    "        self.tag_word_count = None # dict((tag,word),count)\n",
    "        self.transmissions = None # dict((tag_u,tag_v),count)\n",
    "        self.count = None # dict(tag,count)\n",
    "        self.read_file(file,k)\n",
    "        self.tags = set(self.count.keys())\n",
    "        \n",
    "        self.word_ls = tuple(self.words)#tuple cause immutable\n",
    "        self._tag_ls = tuple(self.tags)\n",
    "        #move #START# to first row and #END# to last row\n",
    "        ls = list(self._tag_ls)\n",
    "        ls.remove('#START#')\n",
    "        ls.remove('#END#')\n",
    "        ls.insert(0,'#START#')\n",
    "        ls.append('#END#')\n",
    "        self.tag_ls = tuple(ls)\n",
    "        \n",
    "        self.make_matrix()\n",
    "    \n",
    "    def make_matrix(self):\n",
    "        tag_length = len(self.tag_ls)\n",
    "        transition_matrix = np.zeros((tag_length,tag_length))\n",
    "        \n",
    "        for i in range(tag_length):\n",
    "            for j in range(tag_length):\n",
    "                tag_u = self.tag_ls[i]\n",
    "                tag_v = self.tag_ls[j]\n",
    "                transition_matrix[i][j] = self.transmissions[(tag_u,tag_v)]/self.count[tag_u]\n",
    "        self.transition_matrix = pd.DataFrame(transition_matrix,index=self.tag_ls,columns=self.tag_ls)\n",
    "        \n",
    "        word_length = len(self.word_ls)\n",
    "        em_matrix = np.zeros((tag_length,word_length))\n",
    "        for i in range(tag_length):\n",
    "            for j in range(word_length):\n",
    "                tag = self.tag_ls[i]\n",
    "                word = self.word_ls[j]\n",
    "                em_matrix[i][j] = self.tag_word_count[(tag,word)]/self.count[tag]\n",
    "        self.em_matrix = pd.DataFrame(em_matrix,index=self.tag_ls,columns=self.word_ls)\n",
    "        pass\n",
    "    \n",
    "    def read_file(self,file,k):\n",
    "        from collections import defaultdict\n",
    "        seq = ['#START#']\n",
    "        f = open(file,'r',encoding='UTF-8')\n",
    "        tag_word_ls = []\n",
    "        word_count = defaultdict(int)\n",
    "        for line in f:\n",
    "            split = line.split(' ')\n",
    "            if len(split)<2:\n",
    "                #this is a line break\n",
    "                seq.append('#END#')\n",
    "                seq.append('#START#')\n",
    "                continue\n",
    "            word,tag = split\n",
    "            word = word.strip()\n",
    "            tag = tag.strip()\n",
    "            tag_word_ls.append([tag,word])\n",
    "            word_count[word]+=1\n",
    "            seq.append(tag)\n",
    "        f.close()\n",
    "        \n",
    "        #Emissions\n",
    "        for i in range(len(tag_word_ls)):\n",
    "            tag,word = tag_word_ls[i]\n",
    "            if word_count[word]<k:\n",
    "                tag_word_ls[i] = [tag,'#UNK#']\n",
    "        tag_word_count = defaultdict(int)\n",
    "        \n",
    "        words = []\n",
    "        for tag,word in tag_word_ls:\n",
    "            tag_word_count[tag,word]+=1\n",
    "            words.append(word)\n",
    "        self.words = set(words)\n",
    "        self.tag_word_count= tag_word_count\n",
    "        \n",
    "        #Transistions\n",
    "        del seq[-1] #delete last item from the list\n",
    "         #print(seq)\n",
    "        trans_dict = defaultdict(int)\n",
    "        count_u = defaultdict(int)\n",
    "        for i in range(len(seq)-1):\n",
    "            tag_u = seq[i]\n",
    "            count_u[tag_u] += 1 # need to count #END# too\n",
    "            if tag_u == \"#END#\":\n",
    "                continue\n",
    "            #if u is not #END# we count the transmission \n",
    "            tag_v = seq[i+1]\n",
    "            if (tag_u ==\"#START#\" and tag_v == \"#END#\"):\n",
    "                #check for empty blank lines at the end and dont count them\n",
    "                print('these are blank lines')\n",
    "                count_u[\"#START#\"] -= 1 #remove additional start\n",
    "                break\n",
    "            trans_dict[(tag_u,tag_v)] += 1\n",
    "        self.transmissions = trans_dict\n",
    "        self.count = count_u"
   ]
  },
  {
   "cell_type": "code",
   "execution_count": 25,
   "metadata": {},
   "outputs": [],
   "source": [
    "EN = Hmm('./EN/train')"
   ]
  },
  {
   "cell_type": "code",
   "execution_count": 26,
   "metadata": {},
   "outputs": [
    {
     "data": {
      "text/plain": [
       "0.018661098786376094"
      ]
     },
     "execution_count": 26,
     "metadata": {},
     "output_type": "execute_result"
    }
   ],
   "source": [
    "EN.transition_matrix.loc['#START#','B-VP']"
   ]
  },
  {
   "cell_type": "code",
   "execution_count": 27,
   "metadata": {},
   "outputs": [
    {
     "data": {
      "text/plain": [
       "array([0.00000000e+00, 0.00000000e+00, 1.30497194e-03, 0.00000000e+00,\n",
       "       0.00000000e+00, 5.42868328e-02, 0.00000000e+00, 1.04397755e-03,\n",
       "       0.00000000e+00, 0.00000000e+00, 3.26242986e-03, 0.00000000e+00,\n",
       "       2.25760146e-02, 0.00000000e+00, 1.08704163e-01, 1.41850450e-01,\n",
       "       0.00000000e+00, 2.60994389e-04, 0.00000000e+00, 1.86610988e-02,\n",
       "       6.48049067e-01, 0.00000000e+00, 0.00000000e+00])"
      ]
     },
     "execution_count": 27,
     "metadata": {},
     "output_type": "execute_result"
    }
   ],
   "source": [
    "EN.transition_matrix.values[0,:]"
   ]
  },
  {
   "cell_type": "code",
   "execution_count": 28,
   "metadata": {},
   "outputs": [
    {
     "data": {
      "text/html": [
       "<div>\n",
       "<style scoped>\n",
       "    .dataframe tbody tr th:only-of-type {\n",
       "        vertical-align: middle;\n",
       "    }\n",
       "\n",
       "    .dataframe tbody tr th {\n",
       "        vertical-align: top;\n",
       "    }\n",
       "\n",
       "    .dataframe thead th {\n",
       "        text-align: right;\n",
       "    }\n",
       "</style>\n",
       "<table border=\"1\" class=\"dataframe\">\n",
       "  <thead>\n",
       "    <tr style=\"text-align: right;\">\n",
       "      <th></th>\n",
       "      <th>#START#</th>\n",
       "      <th>I-UCP</th>\n",
       "      <th>B-INTJ</th>\n",
       "      <th>I-SBAR</th>\n",
       "      <th>B-PRT</th>\n",
       "      <th>B-ADVP</th>\n",
       "      <th>I-CONJP</th>\n",
       "      <th>B-LST</th>\n",
       "      <th>I-PP</th>\n",
       "      <th>I-VP</th>\n",
       "      <th>...</th>\n",
       "      <th>I-NP</th>\n",
       "      <th>B-PP</th>\n",
       "      <th>O</th>\n",
       "      <th>B-UCP</th>\n",
       "      <th>B-CONJP</th>\n",
       "      <th>I-INTJ</th>\n",
       "      <th>B-VP</th>\n",
       "      <th>B-NP</th>\n",
       "      <th>I-ADVP</th>\n",
       "      <th>#END#</th>\n",
       "    </tr>\n",
       "  </thead>\n",
       "  <tbody>\n",
       "    <tr>\n",
       "      <td>#START#</td>\n",
       "      <td>0.0</td>\n",
       "      <td>0.00</td>\n",
       "      <td>0.001305</td>\n",
       "      <td>0.000000</td>\n",
       "      <td>0.000000</td>\n",
       "      <td>0.054287</td>\n",
       "      <td>0.000000</td>\n",
       "      <td>0.001044</td>\n",
       "      <td>0.000000</td>\n",
       "      <td>0.000000</td>\n",
       "      <td>...</td>\n",
       "      <td>0.000000</td>\n",
       "      <td>0.108704</td>\n",
       "      <td>0.141850</td>\n",
       "      <td>0.000000</td>\n",
       "      <td>0.000261</td>\n",
       "      <td>0.000000</td>\n",
       "      <td>0.018661</td>\n",
       "      <td>0.648049</td>\n",
       "      <td>0.000000</td>\n",
       "      <td>0.000000</td>\n",
       "    </tr>\n",
       "    <tr>\n",
       "      <td>I-UCP</td>\n",
       "      <td>0.0</td>\n",
       "      <td>0.75</td>\n",
       "      <td>0.000000</td>\n",
       "      <td>0.000000</td>\n",
       "      <td>0.000000</td>\n",
       "      <td>0.000000</td>\n",
       "      <td>0.000000</td>\n",
       "      <td>0.000000</td>\n",
       "      <td>0.000000</td>\n",
       "      <td>0.000000</td>\n",
       "      <td>...</td>\n",
       "      <td>0.000000</td>\n",
       "      <td>0.000000</td>\n",
       "      <td>0.000000</td>\n",
       "      <td>0.000000</td>\n",
       "      <td>0.000000</td>\n",
       "      <td>0.000000</td>\n",
       "      <td>0.000000</td>\n",
       "      <td>0.250000</td>\n",
       "      <td>0.000000</td>\n",
       "      <td>0.000000</td>\n",
       "    </tr>\n",
       "    <tr>\n",
       "      <td>B-INTJ</td>\n",
       "      <td>0.0</td>\n",
       "      <td>0.00</td>\n",
       "      <td>0.000000</td>\n",
       "      <td>0.000000</td>\n",
       "      <td>0.000000</td>\n",
       "      <td>0.038462</td>\n",
       "      <td>0.000000</td>\n",
       "      <td>0.000000</td>\n",
       "      <td>0.000000</td>\n",
       "      <td>0.000000</td>\n",
       "      <td>...</td>\n",
       "      <td>0.000000</td>\n",
       "      <td>0.038462</td>\n",
       "      <td>0.615385</td>\n",
       "      <td>0.000000</td>\n",
       "      <td>0.000000</td>\n",
       "      <td>0.192308</td>\n",
       "      <td>0.076923</td>\n",
       "      <td>0.038462</td>\n",
       "      <td>0.000000</td>\n",
       "      <td>0.000000</td>\n",
       "    </tr>\n",
       "    <tr>\n",
       "      <td>I-SBAR</td>\n",
       "      <td>0.0</td>\n",
       "      <td>0.00</td>\n",
       "      <td>0.000000</td>\n",
       "      <td>0.000000</td>\n",
       "      <td>0.000000</td>\n",
       "      <td>0.000000</td>\n",
       "      <td>0.000000</td>\n",
       "      <td>0.000000</td>\n",
       "      <td>0.000000</td>\n",
       "      <td>0.000000</td>\n",
       "      <td>...</td>\n",
       "      <td>0.000000</td>\n",
       "      <td>0.020833</td>\n",
       "      <td>0.000000</td>\n",
       "      <td>0.000000</td>\n",
       "      <td>0.000000</td>\n",
       "      <td>0.000000</td>\n",
       "      <td>0.020833</td>\n",
       "      <td>0.958333</td>\n",
       "      <td>0.000000</td>\n",
       "      <td>0.000000</td>\n",
       "    </tr>\n",
       "    <tr>\n",
       "      <td>B-PRT</td>\n",
       "      <td>0.0</td>\n",
       "      <td>0.00</td>\n",
       "      <td>0.000000</td>\n",
       "      <td>0.000000</td>\n",
       "      <td>0.000000</td>\n",
       "      <td>0.029915</td>\n",
       "      <td>0.000000</td>\n",
       "      <td>0.000000</td>\n",
       "      <td>0.000000</td>\n",
       "      <td>0.000000</td>\n",
       "      <td>...</td>\n",
       "      <td>0.000000</td>\n",
       "      <td>0.241453</td>\n",
       "      <td>0.158120</td>\n",
       "      <td>0.000000</td>\n",
       "      <td>0.000000</td>\n",
       "      <td>0.000000</td>\n",
       "      <td>0.042735</td>\n",
       "      <td>0.506410</td>\n",
       "      <td>0.000000</td>\n",
       "      <td>0.000000</td>\n",
       "    </tr>\n",
       "    <tr>\n",
       "      <td>B-ADVP</td>\n",
       "      <td>0.0</td>\n",
       "      <td>0.00</td>\n",
       "      <td>0.000000</td>\n",
       "      <td>0.000000</td>\n",
       "      <td>0.000281</td>\n",
       "      <td>0.016269</td>\n",
       "      <td>0.000000</td>\n",
       "      <td>0.000000</td>\n",
       "      <td>0.000000</td>\n",
       "      <td>0.000000</td>\n",
       "      <td>...</td>\n",
       "      <td>0.000000</td>\n",
       "      <td>0.170547</td>\n",
       "      <td>0.265358</td>\n",
       "      <td>0.000000</td>\n",
       "      <td>0.000561</td>\n",
       "      <td>0.000000</td>\n",
       "      <td>0.215989</td>\n",
       "      <td>0.210379</td>\n",
       "      <td>0.086957</td>\n",
       "      <td>0.000842</td>\n",
       "    </tr>\n",
       "    <tr>\n",
       "      <td>I-CONJP</td>\n",
       "      <td>0.0</td>\n",
       "      <td>0.00</td>\n",
       "      <td>0.000000</td>\n",
       "      <td>0.000000</td>\n",
       "      <td>0.000000</td>\n",
       "      <td>0.000000</td>\n",
       "      <td>0.281250</td>\n",
       "      <td>0.000000</td>\n",
       "      <td>0.000000</td>\n",
       "      <td>0.000000</td>\n",
       "      <td>...</td>\n",
       "      <td>0.000000</td>\n",
       "      <td>0.109375</td>\n",
       "      <td>0.015625</td>\n",
       "      <td>0.000000</td>\n",
       "      <td>0.000000</td>\n",
       "      <td>0.000000</td>\n",
       "      <td>0.156250</td>\n",
       "      <td>0.437500</td>\n",
       "      <td>0.000000</td>\n",
       "      <td>0.000000</td>\n",
       "    </tr>\n",
       "    <tr>\n",
       "      <td>B-LST</td>\n",
       "      <td>0.0</td>\n",
       "      <td>0.00</td>\n",
       "      <td>0.000000</td>\n",
       "      <td>0.000000</td>\n",
       "      <td>0.000000</td>\n",
       "      <td>0.000000</td>\n",
       "      <td>0.000000</td>\n",
       "      <td>0.000000</td>\n",
       "      <td>0.000000</td>\n",
       "      <td>0.000000</td>\n",
       "      <td>...</td>\n",
       "      <td>0.000000</td>\n",
       "      <td>0.000000</td>\n",
       "      <td>1.000000</td>\n",
       "      <td>0.000000</td>\n",
       "      <td>0.000000</td>\n",
       "      <td>0.000000</td>\n",
       "      <td>0.000000</td>\n",
       "      <td>0.000000</td>\n",
       "      <td>0.000000</td>\n",
       "      <td>0.000000</td>\n",
       "    </tr>\n",
       "    <tr>\n",
       "      <td>I-PP</td>\n",
       "      <td>0.0</td>\n",
       "      <td>0.00</td>\n",
       "      <td>0.000000</td>\n",
       "      <td>0.000000</td>\n",
       "      <td>0.000000</td>\n",
       "      <td>0.004484</td>\n",
       "      <td>0.000000</td>\n",
       "      <td>0.000000</td>\n",
       "      <td>0.071749</td>\n",
       "      <td>0.000000</td>\n",
       "      <td>...</td>\n",
       "      <td>0.000000</td>\n",
       "      <td>0.062780</td>\n",
       "      <td>0.040359</td>\n",
       "      <td>0.000000</td>\n",
       "      <td>0.000000</td>\n",
       "      <td>0.000000</td>\n",
       "      <td>0.031390</td>\n",
       "      <td>0.784753</td>\n",
       "      <td>0.000000</td>\n",
       "      <td>0.000000</td>\n",
       "    </tr>\n",
       "    <tr>\n",
       "      <td>I-VP</td>\n",
       "      <td>0.0</td>\n",
       "      <td>0.00</td>\n",
       "      <td>0.000000</td>\n",
       "      <td>0.000000</td>\n",
       "      <td>0.023329</td>\n",
       "      <td>0.037602</td>\n",
       "      <td>0.000000</td>\n",
       "      <td>0.000000</td>\n",
       "      <td>0.000000</td>\n",
       "      <td>0.327887</td>\n",
       "      <td>...</td>\n",
       "      <td>0.000000</td>\n",
       "      <td>0.148341</td>\n",
       "      <td>0.056698</td>\n",
       "      <td>0.000000</td>\n",
       "      <td>0.000197</td>\n",
       "      <td>0.000000</td>\n",
       "      <td>0.008269</td>\n",
       "      <td>0.355350</td>\n",
       "      <td>0.000000</td>\n",
       "      <td>0.000098</td>\n",
       "    </tr>\n",
       "    <tr>\n",
       "      <td>B-ADJP</td>\n",
       "      <td>0.0</td>\n",
       "      <td>0.00</td>\n",
       "      <td>0.000000</td>\n",
       "      <td>0.000000</td>\n",
       "      <td>0.000571</td>\n",
       "      <td>0.015991</td>\n",
       "      <td>0.000000</td>\n",
       "      <td>0.000000</td>\n",
       "      <td>0.000000</td>\n",
       "      <td>0.000000</td>\n",
       "      <td>...</td>\n",
       "      <td>0.000000</td>\n",
       "      <td>0.244432</td>\n",
       "      <td>0.256996</td>\n",
       "      <td>0.000000</td>\n",
       "      <td>0.000000</td>\n",
       "      <td>0.000000</td>\n",
       "      <td>0.110794</td>\n",
       "      <td>0.051970</td>\n",
       "      <td>0.000000</td>\n",
       "      <td>0.000571</td>\n",
       "    </tr>\n",
       "    <tr>\n",
       "      <td>I-ADJP</td>\n",
       "      <td>0.0</td>\n",
       "      <td>0.00</td>\n",
       "      <td>0.000000</td>\n",
       "      <td>0.000000</td>\n",
       "      <td>0.000000</td>\n",
       "      <td>0.013937</td>\n",
       "      <td>0.000000</td>\n",
       "      <td>0.000000</td>\n",
       "      <td>0.000000</td>\n",
       "      <td>0.000000</td>\n",
       "      <td>...</td>\n",
       "      <td>0.000000</td>\n",
       "      <td>0.285714</td>\n",
       "      <td>0.320557</td>\n",
       "      <td>0.000000</td>\n",
       "      <td>0.000000</td>\n",
       "      <td>0.000000</td>\n",
       "      <td>0.069686</td>\n",
       "      <td>0.088850</td>\n",
       "      <td>0.000000</td>\n",
       "      <td>0.001742</td>\n",
       "    </tr>\n",
       "    <tr>\n",
       "      <td>B-SBAR</td>\n",
       "      <td>0.0</td>\n",
       "      <td>0.00</td>\n",
       "      <td>0.000000</td>\n",
       "      <td>0.025276</td>\n",
       "      <td>0.000000</td>\n",
       "      <td>0.008952</td>\n",
       "      <td>0.000000</td>\n",
       "      <td>0.000527</td>\n",
       "      <td>0.000000</td>\n",
       "      <td>0.000000</td>\n",
       "      <td>...</td>\n",
       "      <td>0.000000</td>\n",
       "      <td>0.014218</td>\n",
       "      <td>0.028436</td>\n",
       "      <td>0.000000</td>\n",
       "      <td>0.000000</td>\n",
       "      <td>0.000000</td>\n",
       "      <td>0.038441</td>\n",
       "      <td>0.872565</td>\n",
       "      <td>0.000000</td>\n",
       "      <td>0.000000</td>\n",
       "    </tr>\n",
       "    <tr>\n",
       "      <td>I-NP</td>\n",
       "      <td>0.0</td>\n",
       "      <td>0.00</td>\n",
       "      <td>0.000000</td>\n",
       "      <td>0.000000</td>\n",
       "      <td>0.000128</td>\n",
       "      <td>0.015332</td>\n",
       "      <td>0.000000</td>\n",
       "      <td>0.000000</td>\n",
       "      <td>0.000000</td>\n",
       "      <td>0.000000</td>\n",
       "      <td>...</td>\n",
       "      <td>0.406679</td>\n",
       "      <td>0.156509</td>\n",
       "      <td>0.227327</td>\n",
       "      <td>0.000000</td>\n",
       "      <td>0.000201</td>\n",
       "      <td>0.000000</td>\n",
       "      <td>0.134912</td>\n",
       "      <td>0.047645</td>\n",
       "      <td>0.000000</td>\n",
       "      <td>0.000788</td>\n",
       "    </tr>\n",
       "    <tr>\n",
       "      <td>B-PP</td>\n",
       "      <td>0.0</td>\n",
       "      <td>0.00</td>\n",
       "      <td>0.000000</td>\n",
       "      <td>0.000000</td>\n",
       "      <td>0.000000</td>\n",
       "      <td>0.003318</td>\n",
       "      <td>0.000000</td>\n",
       "      <td>0.000000</td>\n",
       "      <td>0.011258</td>\n",
       "      <td>0.000000</td>\n",
       "      <td>...</td>\n",
       "      <td>0.000000</td>\n",
       "      <td>0.018491</td>\n",
       "      <td>0.008484</td>\n",
       "      <td>0.000000</td>\n",
       "      <td>0.000000</td>\n",
       "      <td>0.000000</td>\n",
       "      <td>0.026595</td>\n",
       "      <td>0.928047</td>\n",
       "      <td>0.000000</td>\n",
       "      <td>0.000218</td>\n",
       "    </tr>\n",
       "    <tr>\n",
       "      <td>O</td>\n",
       "      <td>0.0</td>\n",
       "      <td>0.00</td>\n",
       "      <td>0.000586</td>\n",
       "      <td>0.000000</td>\n",
       "      <td>0.000042</td>\n",
       "      <td>0.029197</td>\n",
       "      <td>0.000000</td>\n",
       "      <td>0.000084</td>\n",
       "      <td>0.000000</td>\n",
       "      <td>0.000000</td>\n",
       "      <td>...</td>\n",
       "      <td>0.000000</td>\n",
       "      <td>0.050142</td>\n",
       "      <td>0.113522</td>\n",
       "      <td>0.000000</td>\n",
       "      <td>0.001047</td>\n",
       "      <td>0.000000</td>\n",
       "      <td>0.115030</td>\n",
       "      <td>0.347185</td>\n",
       "      <td>0.000000</td>\n",
       "      <td>0.318281</td>\n",
       "    </tr>\n",
       "    <tr>\n",
       "      <td>B-UCP</td>\n",
       "      <td>0.0</td>\n",
       "      <td>1.00</td>\n",
       "      <td>0.000000</td>\n",
       "      <td>0.000000</td>\n",
       "      <td>0.000000</td>\n",
       "      <td>0.000000</td>\n",
       "      <td>0.000000</td>\n",
       "      <td>0.000000</td>\n",
       "      <td>0.000000</td>\n",
       "      <td>0.000000</td>\n",
       "      <td>...</td>\n",
       "      <td>0.000000</td>\n",
       "      <td>0.000000</td>\n",
       "      <td>0.000000</td>\n",
       "      <td>0.000000</td>\n",
       "      <td>0.000000</td>\n",
       "      <td>0.000000</td>\n",
       "      <td>0.000000</td>\n",
       "      <td>0.000000</td>\n",
       "      <td>0.000000</td>\n",
       "      <td>0.000000</td>\n",
       "    </tr>\n",
       "    <tr>\n",
       "      <td>B-CONJP</td>\n",
       "      <td>0.0</td>\n",
       "      <td>0.00</td>\n",
       "      <td>0.000000</td>\n",
       "      <td>0.000000</td>\n",
       "      <td>0.000000</td>\n",
       "      <td>0.000000</td>\n",
       "      <td>0.938776</td>\n",
       "      <td>0.000000</td>\n",
       "      <td>0.000000</td>\n",
       "      <td>0.000000</td>\n",
       "      <td>...</td>\n",
       "      <td>0.000000</td>\n",
       "      <td>0.000000</td>\n",
       "      <td>0.061224</td>\n",
       "      <td>0.000000</td>\n",
       "      <td>0.000000</td>\n",
       "      <td>0.000000</td>\n",
       "      <td>0.000000</td>\n",
       "      <td>0.000000</td>\n",
       "      <td>0.000000</td>\n",
       "      <td>0.000000</td>\n",
       "    </tr>\n",
       "    <tr>\n",
       "      <td>I-INTJ</td>\n",
       "      <td>0.0</td>\n",
       "      <td>0.00</td>\n",
       "      <td>0.000000</td>\n",
       "      <td>0.000000</td>\n",
       "      <td>0.000000</td>\n",
       "      <td>0.000000</td>\n",
       "      <td>0.000000</td>\n",
       "      <td>0.000000</td>\n",
       "      <td>0.000000</td>\n",
       "      <td>0.000000</td>\n",
       "      <td>...</td>\n",
       "      <td>0.000000</td>\n",
       "      <td>0.000000</td>\n",
       "      <td>0.714286</td>\n",
       "      <td>0.000000</td>\n",
       "      <td>0.000000</td>\n",
       "      <td>0.285714</td>\n",
       "      <td>0.000000</td>\n",
       "      <td>0.000000</td>\n",
       "      <td>0.000000</td>\n",
       "      <td>0.000000</td>\n",
       "    </tr>\n",
       "    <tr>\n",
       "      <td>B-VP</td>\n",
       "      <td>0.0</td>\n",
       "      <td>0.00</td>\n",
       "      <td>0.000110</td>\n",
       "      <td>0.000000</td>\n",
       "      <td>0.011171</td>\n",
       "      <td>0.031214</td>\n",
       "      <td>0.000000</td>\n",
       "      <td>0.000000</td>\n",
       "      <td>0.000000</td>\n",
       "      <td>0.373912</td>\n",
       "      <td>...</td>\n",
       "      <td>0.000000</td>\n",
       "      <td>0.098735</td>\n",
       "      <td>0.067411</td>\n",
       "      <td>0.000000</td>\n",
       "      <td>0.000164</td>\n",
       "      <td>0.000000</td>\n",
       "      <td>0.007229</td>\n",
       "      <td>0.345217</td>\n",
       "      <td>0.000000</td>\n",
       "      <td>0.000055</td>\n",
       "    </tr>\n",
       "    <tr>\n",
       "      <td>B-NP</td>\n",
       "      <td>0.0</td>\n",
       "      <td>0.00</td>\n",
       "      <td>0.000000</td>\n",
       "      <td>0.000000</td>\n",
       "      <td>0.000359</td>\n",
       "      <td>0.009809</td>\n",
       "      <td>0.000000</td>\n",
       "      <td>0.000000</td>\n",
       "      <td>0.000000</td>\n",
       "      <td>0.000000</td>\n",
       "      <td>...</td>\n",
       "      <td>0.684706</td>\n",
       "      <td>0.058007</td>\n",
       "      <td>0.080964</td>\n",
       "      <td>0.000021</td>\n",
       "      <td>0.000085</td>\n",
       "      <td>0.000000</td>\n",
       "      <td>0.130303</td>\n",
       "      <td>0.028898</td>\n",
       "      <td>0.000000</td>\n",
       "      <td>0.000233</td>\n",
       "    </tr>\n",
       "    <tr>\n",
       "      <td>I-ADVP</td>\n",
       "      <td>0.0</td>\n",
       "      <td>0.00</td>\n",
       "      <td>0.000000</td>\n",
       "      <td>0.000000</td>\n",
       "      <td>0.000000</td>\n",
       "      <td>0.030303</td>\n",
       "      <td>0.000000</td>\n",
       "      <td>0.000000</td>\n",
       "      <td>0.000000</td>\n",
       "      <td>0.000000</td>\n",
       "      <td>...</td>\n",
       "      <td>0.000000</td>\n",
       "      <td>0.154270</td>\n",
       "      <td>0.327824</td>\n",
       "      <td>0.000000</td>\n",
       "      <td>0.000000</td>\n",
       "      <td>0.000000</td>\n",
       "      <td>0.057851</td>\n",
       "      <td>0.187328</td>\n",
       "      <td>0.146006</td>\n",
       "      <td>0.000000</td>\n",
       "    </tr>\n",
       "    <tr>\n",
       "      <td>#END#</td>\n",
       "      <td>0.0</td>\n",
       "      <td>0.00</td>\n",
       "      <td>0.000000</td>\n",
       "      <td>0.000000</td>\n",
       "      <td>0.000000</td>\n",
       "      <td>0.000000</td>\n",
       "      <td>0.000000</td>\n",
       "      <td>0.000000</td>\n",
       "      <td>0.000000</td>\n",
       "      <td>0.000000</td>\n",
       "      <td>...</td>\n",
       "      <td>0.000000</td>\n",
       "      <td>0.000000</td>\n",
       "      <td>0.000000</td>\n",
       "      <td>0.000000</td>\n",
       "      <td>0.000000</td>\n",
       "      <td>0.000000</td>\n",
       "      <td>0.000000</td>\n",
       "      <td>0.000000</td>\n",
       "      <td>0.000000</td>\n",
       "      <td>0.000000</td>\n",
       "    </tr>\n",
       "  </tbody>\n",
       "</table>\n",
       "<p>23 rows × 23 columns</p>\n",
       "</div>"
      ],
      "text/plain": [
       "         #START#  I-UCP    B-INTJ    I-SBAR     B-PRT    B-ADVP   I-CONJP  \\\n",
       "#START#      0.0   0.00  0.001305  0.000000  0.000000  0.054287  0.000000   \n",
       "I-UCP        0.0   0.75  0.000000  0.000000  0.000000  0.000000  0.000000   \n",
       "B-INTJ       0.0   0.00  0.000000  0.000000  0.000000  0.038462  0.000000   \n",
       "I-SBAR       0.0   0.00  0.000000  0.000000  0.000000  0.000000  0.000000   \n",
       "B-PRT        0.0   0.00  0.000000  0.000000  0.000000  0.029915  0.000000   \n",
       "B-ADVP       0.0   0.00  0.000000  0.000000  0.000281  0.016269  0.000000   \n",
       "I-CONJP      0.0   0.00  0.000000  0.000000  0.000000  0.000000  0.281250   \n",
       "B-LST        0.0   0.00  0.000000  0.000000  0.000000  0.000000  0.000000   \n",
       "I-PP         0.0   0.00  0.000000  0.000000  0.000000  0.004484  0.000000   \n",
       "I-VP         0.0   0.00  0.000000  0.000000  0.023329  0.037602  0.000000   \n",
       "B-ADJP       0.0   0.00  0.000000  0.000000  0.000571  0.015991  0.000000   \n",
       "I-ADJP       0.0   0.00  0.000000  0.000000  0.000000  0.013937  0.000000   \n",
       "B-SBAR       0.0   0.00  0.000000  0.025276  0.000000  0.008952  0.000000   \n",
       "I-NP         0.0   0.00  0.000000  0.000000  0.000128  0.015332  0.000000   \n",
       "B-PP         0.0   0.00  0.000000  0.000000  0.000000  0.003318  0.000000   \n",
       "O            0.0   0.00  0.000586  0.000000  0.000042  0.029197  0.000000   \n",
       "B-UCP        0.0   1.00  0.000000  0.000000  0.000000  0.000000  0.000000   \n",
       "B-CONJP      0.0   0.00  0.000000  0.000000  0.000000  0.000000  0.938776   \n",
       "I-INTJ       0.0   0.00  0.000000  0.000000  0.000000  0.000000  0.000000   \n",
       "B-VP         0.0   0.00  0.000110  0.000000  0.011171  0.031214  0.000000   \n",
       "B-NP         0.0   0.00  0.000000  0.000000  0.000359  0.009809  0.000000   \n",
       "I-ADVP       0.0   0.00  0.000000  0.000000  0.000000  0.030303  0.000000   \n",
       "#END#        0.0   0.00  0.000000  0.000000  0.000000  0.000000  0.000000   \n",
       "\n",
       "            B-LST      I-PP      I-VP  ...      I-NP      B-PP         O  \\\n",
       "#START#  0.001044  0.000000  0.000000  ...  0.000000  0.108704  0.141850   \n",
       "I-UCP    0.000000  0.000000  0.000000  ...  0.000000  0.000000  0.000000   \n",
       "B-INTJ   0.000000  0.000000  0.000000  ...  0.000000  0.038462  0.615385   \n",
       "I-SBAR   0.000000  0.000000  0.000000  ...  0.000000  0.020833  0.000000   \n",
       "B-PRT    0.000000  0.000000  0.000000  ...  0.000000  0.241453  0.158120   \n",
       "B-ADVP   0.000000  0.000000  0.000000  ...  0.000000  0.170547  0.265358   \n",
       "I-CONJP  0.000000  0.000000  0.000000  ...  0.000000  0.109375  0.015625   \n",
       "B-LST    0.000000  0.000000  0.000000  ...  0.000000  0.000000  1.000000   \n",
       "I-PP     0.000000  0.071749  0.000000  ...  0.000000  0.062780  0.040359   \n",
       "I-VP     0.000000  0.000000  0.327887  ...  0.000000  0.148341  0.056698   \n",
       "B-ADJP   0.000000  0.000000  0.000000  ...  0.000000  0.244432  0.256996   \n",
       "I-ADJP   0.000000  0.000000  0.000000  ...  0.000000  0.285714  0.320557   \n",
       "B-SBAR   0.000527  0.000000  0.000000  ...  0.000000  0.014218  0.028436   \n",
       "I-NP     0.000000  0.000000  0.000000  ...  0.406679  0.156509  0.227327   \n",
       "B-PP     0.000000  0.011258  0.000000  ...  0.000000  0.018491  0.008484   \n",
       "O        0.000084  0.000000  0.000000  ...  0.000000  0.050142  0.113522   \n",
       "B-UCP    0.000000  0.000000  0.000000  ...  0.000000  0.000000  0.000000   \n",
       "B-CONJP  0.000000  0.000000  0.000000  ...  0.000000  0.000000  0.061224   \n",
       "I-INTJ   0.000000  0.000000  0.000000  ...  0.000000  0.000000  0.714286   \n",
       "B-VP     0.000000  0.000000  0.373912  ...  0.000000  0.098735  0.067411   \n",
       "B-NP     0.000000  0.000000  0.000000  ...  0.684706  0.058007  0.080964   \n",
       "I-ADVP   0.000000  0.000000  0.000000  ...  0.000000  0.154270  0.327824   \n",
       "#END#    0.000000  0.000000  0.000000  ...  0.000000  0.000000  0.000000   \n",
       "\n",
       "            B-UCP   B-CONJP    I-INTJ      B-VP      B-NP    I-ADVP     #END#  \n",
       "#START#  0.000000  0.000261  0.000000  0.018661  0.648049  0.000000  0.000000  \n",
       "I-UCP    0.000000  0.000000  0.000000  0.000000  0.250000  0.000000  0.000000  \n",
       "B-INTJ   0.000000  0.000000  0.192308  0.076923  0.038462  0.000000  0.000000  \n",
       "I-SBAR   0.000000  0.000000  0.000000  0.020833  0.958333  0.000000  0.000000  \n",
       "B-PRT    0.000000  0.000000  0.000000  0.042735  0.506410  0.000000  0.000000  \n",
       "B-ADVP   0.000000  0.000561  0.000000  0.215989  0.210379  0.086957  0.000842  \n",
       "I-CONJP  0.000000  0.000000  0.000000  0.156250  0.437500  0.000000  0.000000  \n",
       "B-LST    0.000000  0.000000  0.000000  0.000000  0.000000  0.000000  0.000000  \n",
       "I-PP     0.000000  0.000000  0.000000  0.031390  0.784753  0.000000  0.000000  \n",
       "I-VP     0.000000  0.000197  0.000000  0.008269  0.355350  0.000000  0.000098  \n",
       "B-ADJP   0.000000  0.000000  0.000000  0.110794  0.051970  0.000000  0.000571  \n",
       "I-ADJP   0.000000  0.000000  0.000000  0.069686  0.088850  0.000000  0.001742  \n",
       "B-SBAR   0.000000  0.000000  0.000000  0.038441  0.872565  0.000000  0.000000  \n",
       "I-NP     0.000000  0.000201  0.000000  0.134912  0.047645  0.000000  0.000788  \n",
       "B-PP     0.000000  0.000000  0.000000  0.026595  0.928047  0.000000  0.000218  \n",
       "O        0.000000  0.001047  0.000000  0.115030  0.347185  0.000000  0.318281  \n",
       "B-UCP    0.000000  0.000000  0.000000  0.000000  0.000000  0.000000  0.000000  \n",
       "B-CONJP  0.000000  0.000000  0.000000  0.000000  0.000000  0.000000  0.000000  \n",
       "I-INTJ   0.000000  0.000000  0.285714  0.000000  0.000000  0.000000  0.000000  \n",
       "B-VP     0.000000  0.000164  0.000000  0.007229  0.345217  0.000000  0.000055  \n",
       "B-NP     0.000021  0.000085  0.000000  0.130303  0.028898  0.000000  0.000233  \n",
       "I-ADVP   0.000000  0.000000  0.000000  0.057851  0.187328  0.146006  0.000000  \n",
       "#END#    0.000000  0.000000  0.000000  0.000000  0.000000  0.000000  0.000000  \n",
       "\n",
       "[23 rows x 23 columns]"
      ]
     },
     "execution_count": 28,
     "metadata": {},
     "output_type": "execute_result"
    }
   ],
   "source": [
    "EN.transition_matrix"
   ]
  },
  {
   "cell_type": "code",
   "execution_count": 29,
   "metadata": {},
   "outputs": [
    {
     "data": {
      "text/plain": [
       "0.6480490669450607"
      ]
     },
     "execution_count": 29,
     "metadata": {},
     "output_type": "execute_result"
    }
   ],
   "source": [
    "EN.transition_matrix.loc['#START#','B-NP']"
   ]
  },
  {
   "cell_type": "code",
   "execution_count": 331,
   "metadata": {},
   "outputs": [],
   "source": [
    "def log(m):\n",
    "    m = np.clip(m, 1e-32, None)\n",
    "    x = np.log(m)\n",
    "    return x"
   ]
  },
  {
   "cell_type": "code",
   "execution_count": 380,
   "metadata": {},
   "outputs": [],
   "source": [
    "def vertebi_k(word_arr,Hmm,k=7):\n",
    "    \"\"\"\n",
    "    Followed pseudocode here\n",
    "    https://en.wikipedia.org/wiki/Viterbi_algorithm#Pseudocode\n",
    "    \"\"\"\n",
    "    S = Hmm.tag_ls[1:-1] #set of all possible tags remove #START# and #STOP#\n",
    "    \n",
    "    A = Hmm.transition_matrix.values[1:-1,1:-1] # A(tag_u_vector,tag_v)\n",
    "    B = Hmm.em_matrix[1:-1] # B(tag_u->word)\n",
    "    \n",
    "    T = len(S) # Total number unique tags\n",
    "    N = len(word_arr) # Length of sentence make sure no #START# and #STOP#\n",
    "    \n",
    "    T1 = np.zeros((T,N,k)) #probability table of most possible path to node i.e. store scores of each node\n",
    "    T2 = np.zeros((T,N,k)) # Table of paths where the ith row stores highest scoring paths to T1[i,j]\n",
    "    \n",
    "    #Handle first word and base case at the same time\n",
    "    word = word_arr[0]\n",
    "    if word not in Hmm.words:\n",
    "        word = '#UNK#'\n",
    "        \n",
    "    T1[:,0,:] = log(Hmm.transition_matrix.loc['#START#'][1:-1].values*B[word].values)[:,None]\n",
    "    \n",
    "    #Note A is vector operation\n",
    "    # Fill up each column by using previous column\n",
    "    # j is position of word\n",
    "    for j in range(1,N):\n",
    "        # i is position of tag\n",
    "        #ignore #START# and #END# tag when looping\n",
    "        word = word_arr[j]\n",
    "        if word not in Hmm.words:\n",
    "            word = '#UNK#'\n",
    "        #note A(S,tag_u gives a vector)\n",
    "        \n",
    "        edge_matrix = (np.repeat(T1[:,j-1,None],T,axis=1)+np.repeat(log(A*B[word].values)[:,:,None],k,axis=2))\n",
    "        \n",
    "        #map all edges from 1 layer to the next\n",
    "        for edge in range(T):\n",
    "            #get top k values\n",
    "            #top argsort and get top k\n",
    "            current_col = edge_matrix[:,edge,:]\n",
    "            top_k_scores = np.sort(current_col.ravel())[::-1][:k]\n",
    "            top_k_backpointers = np.dstack(np.unravel_index(current_col.ravel().argsort(),current_col.shape))[0][::-1][:k]\n",
    "            print(top_k_backpointers)\n",
    "            T1[edge][j] = top_k_scores\n",
    "            T2[edge][j] = top_k_backpointers\n",
    "#             print(top_k_scores)\n",
    "#             print(top_k_backpointers)\n",
    "\n",
    "        \n",
    "    #handle last word to #END#\n",
    "    #no emission of #END# \n",
    "#     print(T1)\n",
    "#     print(T2)\n",
    "\n",
    "    best_row = np.argmax(T1[:,N-1]+log(Hmm.transition_matrix['#END#'].values[1:-1]))\n",
    "    ans=[]\n",
    "    curr_index = best_row\n",
    "    ans.append(S[curr_index])\n",
    "    for j in range(N-1,0,-1):\n",
    "        prev_index = T2[int(curr_index)][j]\n",
    "        ans.append(S[int(prev_index)])\n",
    "        curr_index = prev_index\n",
    "#         print(S[j])\n",
    "    ans = ans[::-1]\n",
    "#     print(T1)\n",
    "    return ans"
   ]
  },
  {
   "cell_type": "code",
   "execution_count": 381,
   "metadata": {},
   "outputs": [
    {
     "data": {
      "text/plain": [
       "8"
      ]
     },
     "execution_count": 381,
     "metadata": {},
     "output_type": "execute_result"
    }
   ],
   "source": [
    "word = \"Trump is the best president in the world\".split(' ')\n",
    "len(word)"
   ]
  },
  {
   "cell_type": "code",
   "execution_count": 382,
   "metadata": {
    "scrolled": false
   },
   "outputs": [
    {
     "name": "stdout",
     "output_type": "stream",
     "text": [
      "[[20  6]\n",
      " [ 5  1]\n",
      " [ 7  3]\n",
      " [ 7  2]\n",
      " [ 7  1]\n",
      " [ 7  0]\n",
      " [ 6  6]]\n"
     ]
    },
    {
     "ename": "ValueError",
     "evalue": "could not broadcast input array from shape (7,2) into shape (7)",
     "output_type": "error",
     "traceback": [
      "\u001b[1;31m---------------------------------------------------------------------------\u001b[0m",
      "\u001b[1;31mValueError\u001b[0m                                Traceback (most recent call last)",
      "\u001b[1;32m<ipython-input-382-da3cac8b8888>\u001b[0m in \u001b[0;36m<module>\u001b[1;34m\u001b[0m\n\u001b[1;32m----> 1\u001b[1;33m \u001b[0mvertebi_k\u001b[0m\u001b[1;33m(\u001b[0m\u001b[0mword\u001b[0m\u001b[1;33m,\u001b[0m\u001b[0mEN\u001b[0m\u001b[1;33m)\u001b[0m\u001b[1;33m\u001b[0m\u001b[1;33m\u001b[0m\u001b[0m\n\u001b[0m",
      "\u001b[1;32m<ipython-input-380-4db9236208ff>\u001b[0m in \u001b[0;36mvertebi_k\u001b[1;34m(word_arr, Hmm, k)\u001b[0m\n\u001b[0;32m     44\u001b[0m             \u001b[0mprint\u001b[0m\u001b[1;33m(\u001b[0m\u001b[0mtop_k_backpointers\u001b[0m\u001b[1;33m)\u001b[0m\u001b[1;33m\u001b[0m\u001b[1;33m\u001b[0m\u001b[0m\n\u001b[0;32m     45\u001b[0m             \u001b[0mT1\u001b[0m\u001b[1;33m[\u001b[0m\u001b[0medge\u001b[0m\u001b[1;33m]\u001b[0m\u001b[1;33m[\u001b[0m\u001b[0mj\u001b[0m\u001b[1;33m]\u001b[0m \u001b[1;33m=\u001b[0m \u001b[0mtop_k_scores\u001b[0m\u001b[1;33m\u001b[0m\u001b[1;33m\u001b[0m\u001b[0m\n\u001b[1;32m---> 46\u001b[1;33m             \u001b[0mT2\u001b[0m\u001b[1;33m[\u001b[0m\u001b[0medge\u001b[0m\u001b[1;33m]\u001b[0m\u001b[1;33m[\u001b[0m\u001b[0mj\u001b[0m\u001b[1;33m]\u001b[0m \u001b[1;33m=\u001b[0m \u001b[0mtop_k_backpointers\u001b[0m\u001b[1;33m\u001b[0m\u001b[1;33m\u001b[0m\u001b[0m\n\u001b[0m\u001b[0;32m     47\u001b[0m \u001b[1;31m#             print(top_k_scores)\u001b[0m\u001b[1;33m\u001b[0m\u001b[1;33m\u001b[0m\u001b[1;33m\u001b[0m\u001b[0m\n\u001b[0;32m     48\u001b[0m \u001b[1;31m#             print(top_k_backpointers)\u001b[0m\u001b[1;33m\u001b[0m\u001b[1;33m\u001b[0m\u001b[1;33m\u001b[0m\u001b[0m\n",
      "\u001b[1;31mValueError\u001b[0m: could not broadcast input array from shape (7,2) into shape (7)"
     ]
    }
   ],
   "source": [
    "vertebi_k(word,EN)"
   ]
  },
  {
   "cell_type": "code",
   "execution_count": 12,
   "metadata": {},
   "outputs": [],
   "source": [
    "LANG = ['AL','CN','EN','SG']\n",
    "eval_params = lambda lang: {'devin':f'./{lang}/dev.in','devout':f'./{lang}/dev.p3.out','ground_truth':f'./{lang}/dev.out','trainfile':f'./{lang}/train'}"
   ]
  },
  {
   "cell_type": "code",
   "execution_count": 13,
   "metadata": {},
   "outputs": [],
   "source": [
    "import os\n",
    "def pred_out(devin,devout,ground_truth,trainfile):\n",
    "    H = Hmm(trainfile)\n",
    "    file_object = open(devin, \"r\",encoding='UTF-8',)\n",
    "    ls=[[]]\n",
    "    index=0\n",
    "    test=[]\n",
    "    for line in file_object:\n",
    "        test.append(line.strip())\n",
    "        if (line.strip()==\"\"):\n",
    "            ls.append([])\n",
    "            index+=1\n",
    "        else:\n",
    "            ls[index].append(line.strip())\n",
    "    ls.pop(-1)\n",
    "    df = pd.DataFrame(test, columns = ['Word'])\n",
    "    \n",
    "    from tqdm.notebook import tqdm\n",
    "    predict=[]\n",
    "    for i in tqdm(ls):\n",
    "        for j in vertebi(i,H):\n",
    "            predict.append(j)\n",
    "        predict.append(\"\")\n",
    "    df['Tag'] = predict\n",
    "    \n",
    "    df.to_csv(devout, sep=\" \", index=False, header=False)\n",
    "    \n",
    "    if os.name == 'nt':#if it is on windows\n",
    "        !python ./EvalScript/evalResult.py {ground_truth} {devout}\n",
    "    else:\n",
    "        !python3 ./EvalScript/evalResult.py {ground_truth} {devout}"
   ]
  },
  {
   "cell_type": "code",
   "execution_count": 14,
   "metadata": {
    "scrolled": false
   },
   "outputs": [
    {
     "name": "stdout",
     "output_type": "stream",
     "text": [
      "AL\n"
     ]
    },
    {
     "data": {
      "application/vnd.jupyter.widget-view+json": {
       "model_id": "d750c5d4667c4f98967ac16c1e74828b",
       "version_major": 2,
       "version_minor": 0
      },
      "text/plain": [
       "HBox(children=(IntProgress(value=0, max=1492), HTML(value='')))"
      ]
     },
     "metadata": {},
     "output_type": "display_data"
    },
    {
     "name": "stdout",
     "output_type": "stream",
     "text": [
      "\n",
      "\n",
      "#Entity in gold data: 8408\n",
      "#Entity in prediction: 8498\n",
      "\n",
      "#Correct Entity : 6740\n",
      "Entity  precision: 0.7931\n",
      "Entity  recall: 0.8016\n",
      "Entity  F: 0.7974\n",
      "\n",
      "#Correct Sentiment : 6087\n",
      "Sentiment  precision: 0.7163\n",
      "Sentiment  recall: 0.7240\n",
      "Sentiment  F: 0.7201\n",
      "---------------------------------\n",
      "CN\n"
     ]
    },
    {
     "data": {
      "application/vnd.jupyter.widget-view+json": {
       "model_id": "ddbdf68d34234ee78b6746dd4b260640",
       "version_major": 2,
       "version_minor": 0
      },
      "text/plain": [
       "HBox(children=(IntProgress(value=0, max=642), HTML(value='')))"
      ]
     },
     "metadata": {},
     "output_type": "display_data"
    },
    {
     "name": "stdout",
     "output_type": "stream",
     "text": [
      "\n",
      "\n",
      "#Entity in gold data: 1478\n",
      "#Entity in prediction: 712\n",
      "\n",
      "#Correct Entity : 307\n",
      "Entity  precision: 0.4312\n",
      "Entity  recall: 0.2077\n",
      "Entity  F: 0.2804\n",
      "\n",
      "#Correct Sentiment : 210\n",
      "Sentiment  precision: 0.2949\n",
      "Sentiment  recall: 0.1421\n",
      "Sentiment  F: 0.1918\n",
      "---------------------------------\n",
      "EN\n"
     ]
    },
    {
     "data": {
      "application/vnd.jupyter.widget-view+json": {
       "model_id": "128e3a803b4d483897790226412e6e96",
       "version_major": 2,
       "version_minor": 0
      },
      "text/plain": [
       "HBox(children=(IntProgress(value=0, max=1094), HTML(value='')))"
      ]
     },
     "metadata": {},
     "output_type": "display_data"
    },
    {
     "name": "stdout",
     "output_type": "stream",
     "text": [
      "\n",
      "\n",
      "#Entity in gold data: 13179\n",
      "#Entity in prediction: 13060\n",
      "\n",
      "#Correct Entity : 11079\n",
      "Entity  precision: 0.8483\n",
      "Entity  recall: 0.8407\n",
      "Entity  F: 0.8445\n",
      "\n",
      "#Correct Sentiment : 10651\n",
      "Sentiment  precision: 0.8155\n",
      "Sentiment  recall: 0.8082\n",
      "Sentiment  F: 0.8118\n",
      "---------------------------------\n",
      "SG\n"
     ]
    },
    {
     "data": {
      "application/vnd.jupyter.widget-view+json": {
       "model_id": "9be6be1fcc974490b1d0facb4f73503c",
       "version_major": 2,
       "version_minor": 0
      },
      "text/plain": [
       "HBox(children=(IntProgress(value=0, max=3107), HTML(value='')))"
      ]
     },
     "metadata": {},
     "output_type": "display_data"
    },
    {
     "name": "stdout",
     "output_type": "stream",
     "text": [
      "\n",
      "\n",
      "#Entity in gold data: 4537\n",
      "#Entity in prediction: 3008\n",
      "\n",
      "#Correct Entity : 1665\n",
      "Entity  precision: 0.5535\n",
      "Entity  recall: 0.3670\n",
      "Entity  F: 0.4414\n",
      "\n",
      "#Correct Sentiment : 1036\n",
      "Sentiment  precision: 0.3444\n",
      "Sentiment  recall: 0.2283\n",
      "Sentiment  F: 0.2746\n",
      "---------------------------------\n"
     ]
    }
   ],
   "source": [
    "for lang in LANG:\n",
    "    print(lang)\n",
    "    pred_out(**eval_params(lang))\n",
    "    print('---------------------------------')"
   ]
  },
  {
   "cell_type": "code",
   "execution_count": 62,
   "metadata": {},
   "outputs": [],
   "source": [
    "a = np.random.rand(3,3)"
   ]
  },
  {
   "cell_type": "code",
   "execution_count": 63,
   "metadata": {},
   "outputs": [
    {
     "data": {
      "text/plain": [
       "array([[0.58554262, 0.15672213, 0.05409078],\n",
       "       [0.25433011, 0.13347871, 0.17217374],\n",
       "       [0.37576197, 0.75958957, 0.09796061]])"
      ]
     },
     "execution_count": 63,
     "metadata": {},
     "output_type": "execute_result"
    }
   ],
   "source": [
    "a"
   ]
  },
  {
   "cell_type": "code",
   "execution_count": 79,
   "metadata": {},
   "outputs": [
    {
     "data": {
      "text/plain": [
       "array([[[0.58554262, 0.58554262, 0.58554262, 0.58554262, 0.58554262,\n",
       "         0.58554262, 0.58554262],\n",
       "        [0.15672213, 0.15672213, 0.15672213, 0.15672213, 0.15672213,\n",
       "         0.15672213, 0.15672213],\n",
       "        [0.05409078, 0.05409078, 0.05409078, 0.05409078, 0.05409078,\n",
       "         0.05409078, 0.05409078]],\n",
       "\n",
       "       [[0.25433011, 0.25433011, 0.25433011, 0.25433011, 0.25433011,\n",
       "         0.25433011, 0.25433011],\n",
       "        [0.13347871, 0.13347871, 0.13347871, 0.13347871, 0.13347871,\n",
       "         0.13347871, 0.13347871],\n",
       "        [0.17217374, 0.17217374, 0.17217374, 0.17217374, 0.17217374,\n",
       "         0.17217374, 0.17217374]],\n",
       "\n",
       "       [[0.37576197, 0.37576197, 0.37576197, 0.37576197, 0.37576197,\n",
       "         0.37576197, 0.37576197],\n",
       "        [0.75958957, 0.75958957, 0.75958957, 0.75958957, 0.75958957,\n",
       "         0.75958957, 0.75958957],\n",
       "        [0.09796061, 0.09796061, 0.09796061, 0.09796061, 0.09796061,\n",
       "         0.09796061, 0.09796061]]])"
      ]
     },
     "execution_count": 79,
     "metadata": {},
     "output_type": "execute_result"
    }
   ],
   "source": [
    "np.repeat(a[:,:,None],7,axis=2)"
   ]
  },
  {
   "cell_type": "code",
   "execution_count": 204,
   "metadata": {},
   "outputs": [],
   "source": [
    "b= np.arange(28,1,-1)"
   ]
  },
  {
   "cell_type": "code",
   "execution_count": 205,
   "metadata": {},
   "outputs": [],
   "source": [
    "b = b.reshape(3,3,3)"
   ]
  },
  {
   "cell_type": "code",
   "execution_count": 206,
   "metadata": {},
   "outputs": [
    {
     "name": "stdout",
     "output_type": "stream",
     "text": [
      "\n",
      "\n",
      "\t28 27 26 \t25 24 23 \t22 21 20 \n",
      "\n",
      "\t19 18 17 \t16 15 14 \t13 12 11 \n",
      "\n",
      "\t10 9 8 \t7 6 5 \t4 3 2 "
     ]
    }
   ],
   "source": [
    "for i in b:\n",
    "    print('\\n')\n",
    "    for j in i:\n",
    "        print('',end= '\\t')\n",
    "        for k in j:\n",
    "            print(k,end= ' ')"
   ]
  },
  {
   "cell_type": "code",
   "execution_count": 207,
   "metadata": {},
   "outputs": [],
   "source": [
    "b = np.max(b,axis=2)"
   ]
  },
  {
   "cell_type": "code",
   "execution_count": 221,
   "metadata": {},
   "outputs": [
    {
     "data": {
      "text/plain": [
       "array([[28, 25, 22],\n",
       "       [19, 16, 13],\n",
       "       [10,  7,  4]])"
      ]
     },
     "execution_count": 221,
     "metadata": {},
     "output_type": "execute_result"
    }
   ],
   "source": [
    "b"
   ]
  },
  {
   "cell_type": "code",
   "execution_count": 224,
   "metadata": {},
   "outputs": [
    {
     "data": {
      "text/plain": [
       "array([28, 25, 22, 19, 16, 13, 10,  7,  4])"
      ]
     },
     "execution_count": 224,
     "metadata": {},
     "output_type": "execute_result"
    }
   ],
   "source": [
    "b.reshape(9)"
   ]
  },
  {
   "cell_type": "code",
   "execution_count": 284,
   "metadata": {},
   "outputs": [],
   "source": [
    "b[1][1] =100"
   ]
  },
  {
   "cell_type": "code",
   "execution_count": 270,
   "metadata": {},
   "outputs": [
    {
     "data": {
      "text/plain": [
       "array([[[2, 2],\n",
       "        [2, 1],\n",
       "        [2, 0],\n",
       "        [1, 2],\n",
       "        [1, 0],\n",
       "        [0, 2],\n",
       "        [0, 1],\n",
       "        [0, 0],\n",
       "        [1, 1]]], dtype=int64)"
      ]
     },
     "execution_count": 270,
     "metadata": {},
     "output_type": "execute_result"
    }
   ],
   "source": [
    "np.dstack(np.unravel_index(b.ravel().argsort(),b.shape))"
   ]
  },
  {
   "cell_type": "code",
   "execution_count": 285,
   "metadata": {},
   "outputs": [
    {
     "data": {
      "text/plain": [
       "array([[  4,   7,  10],\n",
       "       [ 13, 100,  22],\n",
       "       [ 25,  28, 100]])"
      ]
     },
     "execution_count": 285,
     "metadata": {},
     "output_type": "execute_result"
    }
   ],
   "source": [
    "b"
   ]
  },
  {
   "cell_type": "code",
   "execution_count": 297,
   "metadata": {},
   "outputs": [
    {
     "data": {
      "text/plain": [
       "array([  4,   7,  10,  13,  22,  25,  28, 100, 100])"
      ]
     },
     "execution_count": 297,
     "metadata": {},
     "output_type": "execute_result"
    }
   ],
   "source": [
    "np.sort(b.ravel())"
   ]
  },
  {
   "cell_type": "code",
   "execution_count": 279,
   "metadata": {},
   "outputs": [
    {
     "data": {
      "text/plain": [
       "array([  4,   7,  10,  13,  19,  22,  25,  28, 100])"
      ]
     },
     "execution_count": 279,
     "metadata": {},
     "output_type": "execute_result"
    }
   ],
   "source": [
    "np.sort(b.ravel())"
   ]
  },
  {
   "cell_type": "code",
   "execution_count": 289,
   "metadata": {},
   "outputs": [
    {
     "data": {
      "text/plain": [
       "array([0, 1, 2, 3, 5, 6, 7, 4, 8], dtype=int64)"
      ]
     },
     "execution_count": 289,
     "metadata": {},
     "output_type": "execute_result"
    }
   ],
   "source": [
    "b.ravel().argsort()"
   ]
  },
  {
   "cell_type": "code",
   "execution_count": 295,
   "metadata": {},
   "outputs": [
    {
     "data": {
      "text/plain": [
       "array([  4,   7,  10,  13,  22,  25,  28, 100, 100])"
      ]
     },
     "execution_count": 295,
     "metadata": {},
     "output_type": "execute_result"
    }
   ],
   "source": [
    "np.sort(b.ravel())"
   ]
  },
  {
   "cell_type": "code",
   "execution_count": null,
   "metadata": {},
   "outputs": [],
   "source": []
  }
 ],
 "metadata": {
  "kernelspec": {
   "display_name": "Python 3",
   "language": "python",
   "name": "python3"
  },
  "language_info": {
   "codemirror_mode": {
    "name": "ipython",
    "version": 3
   },
   "file_extension": ".py",
   "mimetype": "text/x-python",
   "name": "python",
   "nbconvert_exporter": "python",
   "pygments_lexer": "ipython3",
   "version": "3.7.4"
  },
  "varInspector": {
   "cols": {
    "lenName": 16,
    "lenType": 16,
    "lenVar": 40
   },
   "kernels_config": {
    "python": {
     "delete_cmd_postfix": "",
     "delete_cmd_prefix": "del ",
     "library": "var_list.py",
     "varRefreshCmd": "print(var_dic_list())"
    },
    "r": {
     "delete_cmd_postfix": ") ",
     "delete_cmd_prefix": "rm(",
     "library": "var_list.r",
     "varRefreshCmd": "cat(var_dic_list()) "
    }
   },
   "position": {
    "height": "421.823px",
    "left": "1124.16px",
    "right": "20px",
    "top": "157.992px",
    "width": "448.32px"
   },
   "types_to_exclude": [
    "module",
    "function",
    "builtin_function_or_method",
    "instance",
    "_Feature"
   ],
   "window_display": false
  }
 },
 "nbformat": 4,
 "nbformat_minor": 2
}
