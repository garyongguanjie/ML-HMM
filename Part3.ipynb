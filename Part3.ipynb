{
 "cells": [
  {
   "cell_type": "code",
   "execution_count": 1,
   "metadata": {},
   "outputs": [],
   "source": [
    "import pandas as pd"
   ]
  },
  {
   "cell_type": "code",
   "execution_count": 2,
   "metadata": {},
   "outputs": [],
   "source": [
    "class Emission:\n",
    "    def __init__(self,file,k=3):\n",
    "        self.df = None\n",
    "        self.k = k\n",
    "        self.count_series = None\n",
    "        self.read_file(file)\n",
    "        pass\n",
    "    def read_file(self,file):\n",
    "        file_object = open(file, \"r\",encoding='UTF-8')\n",
    "        dataset=[]\n",
    "        for line in file_object:\n",
    "            dataset.append(line)\n",
    "        data=[]\n",
    "        for i in range(len(dataset)):\n",
    "            temp = dataset[i].split()\n",
    "            if (len(temp)==2):\n",
    "                data.append(temp)\n",
    "        self.df = self.smoothen(pd.DataFrame(data, columns = ['Word', 'Tag']),self.k)\n",
    "        self.count_series = self.df.groupby(['Word', 'Tag']).size()\n",
    "        file_object.close()\n",
    "    def emission(self,word,tag):\n",
    "        df = self.df\n",
    "        is_tag = (df.Tag==tag)\n",
    "        y = is_tag.sum()\n",
    "        xy = (df.Word[is_tag]==word).sum()\n",
    "        return xy/y\n",
    "    @staticmethod\n",
    "    def smoothen(df,k):\n",
    "        ls = df['Word'].value_counts()[df['Word'].value_counts()<k].index.tolist()\n",
    "        df.loc[df['Word'].isin(ls), 'Word'] = \"#UNK#\"\n",
    "        return df\n",
    "    def argmax(self,word):\n",
    "        \"\"\"\n",
    "        This part not needed in part 3?\n",
    "        produces the tag with highest probability for the word in the sequence.\n",
    "        \"\"\"\n",
    "        if (word==\"\"):\n",
    "            return \"\"\n",
    "        try:\n",
    "            value = self.count_series.loc[word].idxmax()\n",
    "            probability = value/self.count_series[word].sum()\n",
    "        except:\n",
    "            tag = self.count_series.loc[\"#UNK#\"].idxmax()\n",
    "            probability = self.count_series[word,value]/self.count_series[word].sum()\n",
    "        return (value,probability)"
   ]
  },
  {
   "cell_type": "code",
   "execution_count": 5,
   "metadata": {},
   "outputs": [
    {
     "name": "stdout",
     "output_type": "stream",
     "text": [
      "0.03707354471277586\n",
      "('B-VP', 0.9941262848751835)\n"
     ]
    }
   ],
   "source": [
    "EN_Emission = Emission('./EN/train')\n",
    "print(EN_Emission.emission('are','B-VP'))\n",
    "print(EN_Emission.argmax('are'))"
   ]
  },
  {
   "cell_type": "code",
   "execution_count": 60,
   "metadata": {},
   "outputs": [],
   "source": [
    "class Transmission:    \n",
    "    def __init__(self,file):\n",
    "        self.transmissions = None #dictionary where KEY is a tuple (tag_u,tag_v) where tag_u -> tag_v and VALUE = count\n",
    "        self.count = None #dictionary where KEY is the tag and VALUE = count\n",
    "        self.read_file(file)\n",
    "    def read_file(self,file):\n",
    "        \"\"\"\n",
    "        read training file and returns 2 dictionaries\n",
    "        RETURNS trans_dict,count_u\n",
    "        trans_dict - > dictionary where KEY is a tuple (tag_u,tag_v) where tag_u _> tag_v and VALUE = count\n",
    "        count_u -> KEY is the tag and VALUE = count\n",
    "        \"\"\"\n",
    "        from collections import defaultdict\n",
    "        seq = ['#START#']\n",
    "        f = open(file,'r',encoding='UTF-8')\n",
    "        for line in f:\n",
    "            split = line.split(' ')\n",
    "            if len(split)<2:\n",
    "                #this is a line break\n",
    "                seq.append('#END#')\n",
    "                seq.append('#START#')\n",
    "                continue\n",
    "            word,tag = split\n",
    "            word = word.strip()\n",
    "            tag = tag.strip()\n",
    "            seq.append(tag)\n",
    "        f.close()\n",
    "        del seq[-1] #delete last item from the list\n",
    "#         print(seq)\n",
    "        trans_dict = defaultdict(int)\n",
    "        count_u = defaultdict(int)\n",
    "        for i in range(len(seq)-1):\n",
    "            tag_u = seq[i]\n",
    "            count_u[tag_u] += 1 # need to count #END# too\n",
    "            if tag_u == \"#END#\":\n",
    "                continue\n",
    "            #if u is not #END# we count the transmission \n",
    "            tag_v = seq[i+1]\n",
    "            if (tag_u ==\"#START#\" and tag_v == \"#END#\"):\n",
    "                #check for empty blank lines at the end and dont count them\n",
    "                print('these are blank lines')\n",
    "                count_u[\"#START#\"] -= 1 #remove additional start\n",
    "                break\n",
    "            trans_dict[(tag_u,tag_v)] += 1\n",
    "        self.transmissions = trans_dict\n",
    "        self.count = count_u\n",
    "        return trans_dict,count_u\n",
    "    def transmission_proba(self,tag_u,tag_v):\n",
    "        \"\"\"\n",
    "        Auv = Count(tag_u->tag_v)/Count(tag_u)\n",
    "        \"\"\"\n",
    "        return self.transmissions[(tag_u,tag_v)]/self.count[tag_u]"
   ]
  },
  {
   "cell_type": "code",
   "execution_count": 61,
   "metadata": {},
   "outputs": [
    {
     "name": "stdout",
     "output_type": "stream",
     "text": [
      "0.6480490669450607\n",
      "0.00023253355882042067\n",
      "0.0\n"
     ]
    }
   ],
   "source": [
    "EN_transmission = Transmission('./EN/train')\n",
    "print(EN_transmission.transmission_proba('#START#','B-NP'))\n",
    "print(EN_transmission.transmission_proba('B-NP','#END#'))\n",
    "print(EN_transmission.transmission_proba('#START#','#START#'))"
   ]
  },
  {
   "cell_type": "code",
   "execution_count": null,
   "metadata": {},
   "outputs": [],
   "source": []
  }
 ],
 "metadata": {
  "kernelspec": {
   "display_name": "Python 3",
   "language": "python",
   "name": "python3"
  },
  "language_info": {
   "codemirror_mode": {
    "name": "ipython",
    "version": 3
   },
   "file_extension": ".py",
   "mimetype": "text/x-python",
   "name": "python",
   "nbconvert_exporter": "python",
   "pygments_lexer": "ipython3",
   "version": "3.7.4"
  }
 },
 "nbformat": 4,
 "nbformat_minor": 2
}
