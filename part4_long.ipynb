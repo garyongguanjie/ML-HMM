{
 "cells": [
  {
   "cell_type": "code",
   "execution_count": 1,
   "metadata": {},
   "outputs": [],
   "source": [
    "import numpy as np\n",
    "import pandas as pd"
   ]
  },
  {
   "cell_type": "code",
   "execution_count": 2,
   "metadata": {},
   "outputs": [],
   "source": [
    "class Hmm:\n",
    "    def __init__(self,file,k=3):\n",
    "        self.words = None #set of unique words\n",
    "        self.tag_word_count = None # dict((tag,word),count)\n",
    "        self.transmissions = None # dict((tag_u,tag_v),count)\n",
    "        self.count = None # dict(tag,count)\n",
    "        self.read_file(file,k)\n",
    "        self.tags = set(self.count.keys())\n",
    "        \n",
    "        self.word_ls = tuple(self.words)#tuple cause immutable\n",
    "        self._tag_ls = tuple(self.tags)\n",
    "        #move #START# to first row and #END# to last row\n",
    "        ls = list(self._tag_ls)\n",
    "        ls.remove('#START#')\n",
    "        ls.remove('#END#')\n",
    "        ls.insert(0,'#START#')\n",
    "        ls.append('#END#')\n",
    "        self.tag_ls = tuple(ls)\n",
    "        \n",
    "        self.make_matrix()\n",
    "    \n",
    "    def make_matrix(self):\n",
    "        tag_length = len(self.tag_ls)\n",
    "        transition_matrix = np.zeros((tag_length,tag_length))\n",
    "        \n",
    "        for i in range(tag_length):\n",
    "            for j in range(tag_length):\n",
    "                tag_u = self.tag_ls[i]\n",
    "                tag_v = self.tag_ls[j]\n",
    "                transition_matrix[i][j] = self.transmissions[(tag_u,tag_v)]/self.count[tag_u]\n",
    "        self.transition_matrix = pd.DataFrame(transition_matrix,index=self.tag_ls,columns=self.tag_ls)\n",
    "        \n",
    "        word_length = len(self.word_ls)\n",
    "        em_matrix = np.zeros((tag_length,word_length))\n",
    "        for i in range(tag_length):\n",
    "            for j in range(word_length):\n",
    "                tag = self.tag_ls[i]\n",
    "                word = self.word_ls[j]\n",
    "                em_matrix[i][j] = self.tag_word_count[(tag,word)]/self.count[tag]\n",
    "        self.em_matrix = pd.DataFrame(em_matrix,index=self.tag_ls,columns=self.word_ls)\n",
    "        pass\n",
    "    \n",
    "    def read_file(self,file,k):\n",
    "        from collections import defaultdict\n",
    "        seq = ['#START#']\n",
    "        f = open(file,'r',encoding='UTF-8')\n",
    "        tag_word_ls = []\n",
    "        word_count = defaultdict(int)\n",
    "        for line in f:\n",
    "            split = line.split(' ')\n",
    "            if len(split)<2:\n",
    "                #this is a line break\n",
    "                seq.append('#END#')\n",
    "                seq.append('#START#')\n",
    "                continue\n",
    "            word,tag = split\n",
    "            word = word.strip()\n",
    "            tag = tag.strip()\n",
    "            tag_word_ls.append([tag,word])\n",
    "            word_count[word]+=1\n",
    "            seq.append(tag)\n",
    "        f.close()\n",
    "        \n",
    "        #Emissions\n",
    "        for i in range(len(tag_word_ls)):\n",
    "            tag,word = tag_word_ls[i]\n",
    "            if word_count[word]<k:\n",
    "                tag_word_ls[i] = [tag,'#UNK#']\n",
    "        tag_word_count = defaultdict(int)\n",
    "        \n",
    "        words = []\n",
    "        for tag,word in tag_word_ls:\n",
    "            tag_word_count[tag,word]+=1\n",
    "            words.append(word)\n",
    "        self.words = set(words)\n",
    "        self.tag_word_count= tag_word_count\n",
    "        \n",
    "        #Transistions\n",
    "        del seq[-1] #delete last item from the list\n",
    "         #print(seq)\n",
    "        trans_dict = defaultdict(int)\n",
    "        count_u = defaultdict(int)\n",
    "        for i in range(len(seq)-1):\n",
    "            tag_u = seq[i]\n",
    "            count_u[tag_u] += 1 # need to count #END# too\n",
    "            if tag_u == \"#END#\":\n",
    "                continue\n",
    "            #if u is not #END# we count the transmission \n",
    "            tag_v = seq[i+1]\n",
    "            if (tag_u ==\"#START#\" and tag_v == \"#END#\"):\n",
    "                #check for empty blank lines at the end and dont count them\n",
    "                print('these are blank lines')\n",
    "                count_u[\"#START#\"] -= 1 #remove additional start\n",
    "                break\n",
    "            trans_dict[(tag_u,tag_v)] += 1\n",
    "        self.transmissions = trans_dict\n",
    "        self.count = count_u"
   ]
  },
  {
   "cell_type": "code",
   "execution_count": 3,
   "metadata": {},
   "outputs": [],
   "source": [
    "EN = Hmm('./EN/train')"
   ]
  },
  {
   "cell_type": "code",
   "execution_count": 4,
   "metadata": {},
   "outputs": [
    {
     "data": {
      "text/plain": [
       "0.018661098786376094"
      ]
     },
     "execution_count": 4,
     "metadata": {},
     "output_type": "execute_result"
    }
   ],
   "source": [
    "EN.transition_matrix.loc['#START#','B-VP']"
   ]
  },
  {
   "cell_type": "code",
   "execution_count": 5,
   "metadata": {},
   "outputs": [
    {
     "data": {
      "text/plain": [
       "array([0.00000000e+00, 1.08704163e-01, 5.42868328e-02, 2.60994389e-04,\n",
       "       0.00000000e+00, 0.00000000e+00, 3.26242986e-03, 1.86610988e-02,\n",
       "       1.41850450e-01, 0.00000000e+00, 0.00000000e+00, 0.00000000e+00,\n",
       "       6.48049067e-01, 0.00000000e+00, 1.04397755e-03, 0.00000000e+00,\n",
       "       0.00000000e+00, 2.25760146e-02, 0.00000000e+00, 1.30497194e-03,\n",
       "       0.00000000e+00, 0.00000000e+00, 0.00000000e+00])"
      ]
     },
     "execution_count": 5,
     "metadata": {},
     "output_type": "execute_result"
    }
   ],
   "source": [
    "EN.transition_matrix.values[0,:]"
   ]
  },
  {
   "cell_type": "code",
   "execution_count": 6,
   "metadata": {},
   "outputs": [
    {
     "data": {
      "text/html": [
       "<div>\n",
       "<style scoped>\n",
       "    .dataframe tbody tr th:only-of-type {\n",
       "        vertical-align: middle;\n",
       "    }\n",
       "\n",
       "    .dataframe tbody tr th {\n",
       "        vertical-align: top;\n",
       "    }\n",
       "\n",
       "    .dataframe thead th {\n",
       "        text-align: right;\n",
       "    }\n",
       "</style>\n",
       "<table border=\"1\" class=\"dataframe\">\n",
       "  <thead>\n",
       "    <tr style=\"text-align: right;\">\n",
       "      <th></th>\n",
       "      <th>#START#</th>\n",
       "      <th>B-PP</th>\n",
       "      <th>B-ADVP</th>\n",
       "      <th>B-CONJP</th>\n",
       "      <th>I-NP</th>\n",
       "      <th>I-INTJ</th>\n",
       "      <th>B-ADJP</th>\n",
       "      <th>B-VP</th>\n",
       "      <th>O</th>\n",
       "      <th>I-SBAR</th>\n",
       "      <th>...</th>\n",
       "      <th>I-CONJP</th>\n",
       "      <th>B-LST</th>\n",
       "      <th>I-ADVP</th>\n",
       "      <th>I-UCP</th>\n",
       "      <th>B-SBAR</th>\n",
       "      <th>B-PRT</th>\n",
       "      <th>B-INTJ</th>\n",
       "      <th>I-VP</th>\n",
       "      <th>I-PP</th>\n",
       "      <th>#END#</th>\n",
       "    </tr>\n",
       "  </thead>\n",
       "  <tbody>\n",
       "    <tr>\n",
       "      <td>#START#</td>\n",
       "      <td>0.0</td>\n",
       "      <td>0.108704</td>\n",
       "      <td>0.054287</td>\n",
       "      <td>0.000261</td>\n",
       "      <td>0.000000</td>\n",
       "      <td>0.000000</td>\n",
       "      <td>0.003262</td>\n",
       "      <td>0.018661</td>\n",
       "      <td>0.141850</td>\n",
       "      <td>0.000000</td>\n",
       "      <td>...</td>\n",
       "      <td>0.000000</td>\n",
       "      <td>0.001044</td>\n",
       "      <td>0.000000</td>\n",
       "      <td>0.00</td>\n",
       "      <td>0.022576</td>\n",
       "      <td>0.000000</td>\n",
       "      <td>0.001305</td>\n",
       "      <td>0.000000</td>\n",
       "      <td>0.000000</td>\n",
       "      <td>0.000000</td>\n",
       "    </tr>\n",
       "    <tr>\n",
       "      <td>B-PP</td>\n",
       "      <td>0.0</td>\n",
       "      <td>0.018491</td>\n",
       "      <td>0.003318</td>\n",
       "      <td>0.000000</td>\n",
       "      <td>0.000000</td>\n",
       "      <td>0.000000</td>\n",
       "      <td>0.002611</td>\n",
       "      <td>0.026595</td>\n",
       "      <td>0.008484</td>\n",
       "      <td>0.000000</td>\n",
       "      <td>...</td>\n",
       "      <td>0.000000</td>\n",
       "      <td>0.000000</td>\n",
       "      <td>0.000000</td>\n",
       "      <td>0.00</td>\n",
       "      <td>0.000979</td>\n",
       "      <td>0.000000</td>\n",
       "      <td>0.000000</td>\n",
       "      <td>0.000000</td>\n",
       "      <td>0.011258</td>\n",
       "      <td>0.000218</td>\n",
       "    </tr>\n",
       "    <tr>\n",
       "      <td>B-ADVP</td>\n",
       "      <td>0.0</td>\n",
       "      <td>0.170547</td>\n",
       "      <td>0.016269</td>\n",
       "      <td>0.000561</td>\n",
       "      <td>0.000000</td>\n",
       "      <td>0.000000</td>\n",
       "      <td>0.016550</td>\n",
       "      <td>0.215989</td>\n",
       "      <td>0.265358</td>\n",
       "      <td>0.000000</td>\n",
       "      <td>...</td>\n",
       "      <td>0.000000</td>\n",
       "      <td>0.000000</td>\n",
       "      <td>0.086957</td>\n",
       "      <td>0.00</td>\n",
       "      <td>0.016269</td>\n",
       "      <td>0.000281</td>\n",
       "      <td>0.000000</td>\n",
       "      <td>0.000000</td>\n",
       "      <td>0.000000</td>\n",
       "      <td>0.000842</td>\n",
       "    </tr>\n",
       "    <tr>\n",
       "      <td>B-CONJP</td>\n",
       "      <td>0.0</td>\n",
       "      <td>0.000000</td>\n",
       "      <td>0.000000</td>\n",
       "      <td>0.000000</td>\n",
       "      <td>0.000000</td>\n",
       "      <td>0.000000</td>\n",
       "      <td>0.000000</td>\n",
       "      <td>0.000000</td>\n",
       "      <td>0.061224</td>\n",
       "      <td>0.000000</td>\n",
       "      <td>...</td>\n",
       "      <td>0.938776</td>\n",
       "      <td>0.000000</td>\n",
       "      <td>0.000000</td>\n",
       "      <td>0.00</td>\n",
       "      <td>0.000000</td>\n",
       "      <td>0.000000</td>\n",
       "      <td>0.000000</td>\n",
       "      <td>0.000000</td>\n",
       "      <td>0.000000</td>\n",
       "      <td>0.000000</td>\n",
       "    </tr>\n",
       "    <tr>\n",
       "      <td>I-NP</td>\n",
       "      <td>0.0</td>\n",
       "      <td>0.156509</td>\n",
       "      <td>0.015332</td>\n",
       "      <td>0.000201</td>\n",
       "      <td>0.406679</td>\n",
       "      <td>0.000000</td>\n",
       "      <td>0.004103</td>\n",
       "      <td>0.134912</td>\n",
       "      <td>0.227327</td>\n",
       "      <td>0.000000</td>\n",
       "      <td>...</td>\n",
       "      <td>0.000000</td>\n",
       "      <td>0.000000</td>\n",
       "      <td>0.000000</td>\n",
       "      <td>0.00</td>\n",
       "      <td>0.006375</td>\n",
       "      <td>0.000128</td>\n",
       "      <td>0.000000</td>\n",
       "      <td>0.000000</td>\n",
       "      <td>0.000000</td>\n",
       "      <td>0.000788</td>\n",
       "    </tr>\n",
       "    <tr>\n",
       "      <td>I-INTJ</td>\n",
       "      <td>0.0</td>\n",
       "      <td>0.000000</td>\n",
       "      <td>0.000000</td>\n",
       "      <td>0.000000</td>\n",
       "      <td>0.000000</td>\n",
       "      <td>0.285714</td>\n",
       "      <td>0.000000</td>\n",
       "      <td>0.000000</td>\n",
       "      <td>0.714286</td>\n",
       "      <td>0.000000</td>\n",
       "      <td>...</td>\n",
       "      <td>0.000000</td>\n",
       "      <td>0.000000</td>\n",
       "      <td>0.000000</td>\n",
       "      <td>0.00</td>\n",
       "      <td>0.000000</td>\n",
       "      <td>0.000000</td>\n",
       "      <td>0.000000</td>\n",
       "      <td>0.000000</td>\n",
       "      <td>0.000000</td>\n",
       "      <td>0.000000</td>\n",
       "    </tr>\n",
       "    <tr>\n",
       "      <td>B-ADJP</td>\n",
       "      <td>0.0</td>\n",
       "      <td>0.244432</td>\n",
       "      <td>0.015991</td>\n",
       "      <td>0.000000</td>\n",
       "      <td>0.000000</td>\n",
       "      <td>0.000000</td>\n",
       "      <td>0.001142</td>\n",
       "      <td>0.110794</td>\n",
       "      <td>0.256996</td>\n",
       "      <td>0.000000</td>\n",
       "      <td>...</td>\n",
       "      <td>0.000000</td>\n",
       "      <td>0.000000</td>\n",
       "      <td>0.000000</td>\n",
       "      <td>0.00</td>\n",
       "      <td>0.037693</td>\n",
       "      <td>0.000571</td>\n",
       "      <td>0.000000</td>\n",
       "      <td>0.000000</td>\n",
       "      <td>0.000000</td>\n",
       "      <td>0.000571</td>\n",
       "    </tr>\n",
       "    <tr>\n",
       "      <td>B-VP</td>\n",
       "      <td>0.0</td>\n",
       "      <td>0.098735</td>\n",
       "      <td>0.031214</td>\n",
       "      <td>0.000164</td>\n",
       "      <td>0.000000</td>\n",
       "      <td>0.000000</td>\n",
       "      <td>0.039209</td>\n",
       "      <td>0.007229</td>\n",
       "      <td>0.067411</td>\n",
       "      <td>0.000000</td>\n",
       "      <td>...</td>\n",
       "      <td>0.000000</td>\n",
       "      <td>0.000000</td>\n",
       "      <td>0.000000</td>\n",
       "      <td>0.00</td>\n",
       "      <td>0.025574</td>\n",
       "      <td>0.011171</td>\n",
       "      <td>0.000110</td>\n",
       "      <td>0.373912</td>\n",
       "      <td>0.000000</td>\n",
       "      <td>0.000055</td>\n",
       "    </tr>\n",
       "    <tr>\n",
       "      <td>O</td>\n",
       "      <td>0.0</td>\n",
       "      <td>0.050142</td>\n",
       "      <td>0.029197</td>\n",
       "      <td>0.001047</td>\n",
       "      <td>0.000000</td>\n",
       "      <td>0.000000</td>\n",
       "      <td>0.008755</td>\n",
       "      <td>0.115030</td>\n",
       "      <td>0.113522</td>\n",
       "      <td>0.000000</td>\n",
       "      <td>...</td>\n",
       "      <td>0.000000</td>\n",
       "      <td>0.000084</td>\n",
       "      <td>0.000000</td>\n",
       "      <td>0.00</td>\n",
       "      <td>0.016128</td>\n",
       "      <td>0.000042</td>\n",
       "      <td>0.000586</td>\n",
       "      <td>0.000000</td>\n",
       "      <td>0.000000</td>\n",
       "      <td>0.318281</td>\n",
       "    </tr>\n",
       "    <tr>\n",
       "      <td>I-SBAR</td>\n",
       "      <td>0.0</td>\n",
       "      <td>0.020833</td>\n",
       "      <td>0.000000</td>\n",
       "      <td>0.000000</td>\n",
       "      <td>0.000000</td>\n",
       "      <td>0.000000</td>\n",
       "      <td>0.000000</td>\n",
       "      <td>0.020833</td>\n",
       "      <td>0.000000</td>\n",
       "      <td>0.000000</td>\n",
       "      <td>...</td>\n",
       "      <td>0.000000</td>\n",
       "      <td>0.000000</td>\n",
       "      <td>0.000000</td>\n",
       "      <td>0.00</td>\n",
       "      <td>0.000000</td>\n",
       "      <td>0.000000</td>\n",
       "      <td>0.000000</td>\n",
       "      <td>0.000000</td>\n",
       "      <td>0.000000</td>\n",
       "      <td>0.000000</td>\n",
       "    </tr>\n",
       "    <tr>\n",
       "      <td>B-UCP</td>\n",
       "      <td>0.0</td>\n",
       "      <td>0.000000</td>\n",
       "      <td>0.000000</td>\n",
       "      <td>0.000000</td>\n",
       "      <td>0.000000</td>\n",
       "      <td>0.000000</td>\n",
       "      <td>0.000000</td>\n",
       "      <td>0.000000</td>\n",
       "      <td>0.000000</td>\n",
       "      <td>0.000000</td>\n",
       "      <td>...</td>\n",
       "      <td>0.000000</td>\n",
       "      <td>0.000000</td>\n",
       "      <td>0.000000</td>\n",
       "      <td>1.00</td>\n",
       "      <td>0.000000</td>\n",
       "      <td>0.000000</td>\n",
       "      <td>0.000000</td>\n",
       "      <td>0.000000</td>\n",
       "      <td>0.000000</td>\n",
       "      <td>0.000000</td>\n",
       "    </tr>\n",
       "    <tr>\n",
       "      <td>I-ADJP</td>\n",
       "      <td>0.0</td>\n",
       "      <td>0.285714</td>\n",
       "      <td>0.013937</td>\n",
       "      <td>0.000000</td>\n",
       "      <td>0.000000</td>\n",
       "      <td>0.000000</td>\n",
       "      <td>0.012195</td>\n",
       "      <td>0.069686</td>\n",
       "      <td>0.320557</td>\n",
       "      <td>0.000000</td>\n",
       "      <td>...</td>\n",
       "      <td>0.000000</td>\n",
       "      <td>0.000000</td>\n",
       "      <td>0.000000</td>\n",
       "      <td>0.00</td>\n",
       "      <td>0.060976</td>\n",
       "      <td>0.000000</td>\n",
       "      <td>0.000000</td>\n",
       "      <td>0.000000</td>\n",
       "      <td>0.000000</td>\n",
       "      <td>0.001742</td>\n",
       "    </tr>\n",
       "    <tr>\n",
       "      <td>B-NP</td>\n",
       "      <td>0.0</td>\n",
       "      <td>0.058007</td>\n",
       "      <td>0.009809</td>\n",
       "      <td>0.000085</td>\n",
       "      <td>0.684706</td>\n",
       "      <td>0.000000</td>\n",
       "      <td>0.003213</td>\n",
       "      <td>0.130303</td>\n",
       "      <td>0.080964</td>\n",
       "      <td>0.000000</td>\n",
       "      <td>...</td>\n",
       "      <td>0.000000</td>\n",
       "      <td>0.000000</td>\n",
       "      <td>0.000000</td>\n",
       "      <td>0.00</td>\n",
       "      <td>0.003403</td>\n",
       "      <td>0.000359</td>\n",
       "      <td>0.000000</td>\n",
       "      <td>0.000000</td>\n",
       "      <td>0.000000</td>\n",
       "      <td>0.000233</td>\n",
       "    </tr>\n",
       "    <tr>\n",
       "      <td>I-CONJP</td>\n",
       "      <td>0.0</td>\n",
       "      <td>0.109375</td>\n",
       "      <td>0.000000</td>\n",
       "      <td>0.000000</td>\n",
       "      <td>0.000000</td>\n",
       "      <td>0.000000</td>\n",
       "      <td>0.000000</td>\n",
       "      <td>0.156250</td>\n",
       "      <td>0.015625</td>\n",
       "      <td>0.000000</td>\n",
       "      <td>...</td>\n",
       "      <td>0.281250</td>\n",
       "      <td>0.000000</td>\n",
       "      <td>0.000000</td>\n",
       "      <td>0.00</td>\n",
       "      <td>0.000000</td>\n",
       "      <td>0.000000</td>\n",
       "      <td>0.000000</td>\n",
       "      <td>0.000000</td>\n",
       "      <td>0.000000</td>\n",
       "      <td>0.000000</td>\n",
       "    </tr>\n",
       "    <tr>\n",
       "      <td>B-LST</td>\n",
       "      <td>0.0</td>\n",
       "      <td>0.000000</td>\n",
       "      <td>0.000000</td>\n",
       "      <td>0.000000</td>\n",
       "      <td>0.000000</td>\n",
       "      <td>0.000000</td>\n",
       "      <td>0.000000</td>\n",
       "      <td>0.000000</td>\n",
       "      <td>1.000000</td>\n",
       "      <td>0.000000</td>\n",
       "      <td>...</td>\n",
       "      <td>0.000000</td>\n",
       "      <td>0.000000</td>\n",
       "      <td>0.000000</td>\n",
       "      <td>0.00</td>\n",
       "      <td>0.000000</td>\n",
       "      <td>0.000000</td>\n",
       "      <td>0.000000</td>\n",
       "      <td>0.000000</td>\n",
       "      <td>0.000000</td>\n",
       "      <td>0.000000</td>\n",
       "    </tr>\n",
       "    <tr>\n",
       "      <td>I-ADVP</td>\n",
       "      <td>0.0</td>\n",
       "      <td>0.154270</td>\n",
       "      <td>0.030303</td>\n",
       "      <td>0.000000</td>\n",
       "      <td>0.000000</td>\n",
       "      <td>0.000000</td>\n",
       "      <td>0.016529</td>\n",
       "      <td>0.057851</td>\n",
       "      <td>0.327824</td>\n",
       "      <td>0.000000</td>\n",
       "      <td>...</td>\n",
       "      <td>0.000000</td>\n",
       "      <td>0.000000</td>\n",
       "      <td>0.146006</td>\n",
       "      <td>0.00</td>\n",
       "      <td>0.079890</td>\n",
       "      <td>0.000000</td>\n",
       "      <td>0.000000</td>\n",
       "      <td>0.000000</td>\n",
       "      <td>0.000000</td>\n",
       "      <td>0.000000</td>\n",
       "    </tr>\n",
       "    <tr>\n",
       "      <td>I-UCP</td>\n",
       "      <td>0.0</td>\n",
       "      <td>0.000000</td>\n",
       "      <td>0.000000</td>\n",
       "      <td>0.000000</td>\n",
       "      <td>0.000000</td>\n",
       "      <td>0.000000</td>\n",
       "      <td>0.000000</td>\n",
       "      <td>0.000000</td>\n",
       "      <td>0.000000</td>\n",
       "      <td>0.000000</td>\n",
       "      <td>...</td>\n",
       "      <td>0.000000</td>\n",
       "      <td>0.000000</td>\n",
       "      <td>0.000000</td>\n",
       "      <td>0.75</td>\n",
       "      <td>0.000000</td>\n",
       "      <td>0.000000</td>\n",
       "      <td>0.000000</td>\n",
       "      <td>0.000000</td>\n",
       "      <td>0.000000</td>\n",
       "      <td>0.000000</td>\n",
       "    </tr>\n",
       "    <tr>\n",
       "      <td>B-SBAR</td>\n",
       "      <td>0.0</td>\n",
       "      <td>0.014218</td>\n",
       "      <td>0.008952</td>\n",
       "      <td>0.000000</td>\n",
       "      <td>0.000000</td>\n",
       "      <td>0.000000</td>\n",
       "      <td>0.003160</td>\n",
       "      <td>0.038441</td>\n",
       "      <td>0.028436</td>\n",
       "      <td>0.025276</td>\n",
       "      <td>...</td>\n",
       "      <td>0.000000</td>\n",
       "      <td>0.000527</td>\n",
       "      <td>0.000000</td>\n",
       "      <td>0.00</td>\n",
       "      <td>0.008425</td>\n",
       "      <td>0.000000</td>\n",
       "      <td>0.000000</td>\n",
       "      <td>0.000000</td>\n",
       "      <td>0.000000</td>\n",
       "      <td>0.000000</td>\n",
       "    </tr>\n",
       "    <tr>\n",
       "      <td>B-PRT</td>\n",
       "      <td>0.0</td>\n",
       "      <td>0.241453</td>\n",
       "      <td>0.029915</td>\n",
       "      <td>0.000000</td>\n",
       "      <td>0.000000</td>\n",
       "      <td>0.000000</td>\n",
       "      <td>0.002137</td>\n",
       "      <td>0.042735</td>\n",
       "      <td>0.158120</td>\n",
       "      <td>0.000000</td>\n",
       "      <td>...</td>\n",
       "      <td>0.000000</td>\n",
       "      <td>0.000000</td>\n",
       "      <td>0.000000</td>\n",
       "      <td>0.00</td>\n",
       "      <td>0.019231</td>\n",
       "      <td>0.000000</td>\n",
       "      <td>0.000000</td>\n",
       "      <td>0.000000</td>\n",
       "      <td>0.000000</td>\n",
       "      <td>0.000000</td>\n",
       "    </tr>\n",
       "    <tr>\n",
       "      <td>B-INTJ</td>\n",
       "      <td>0.0</td>\n",
       "      <td>0.038462</td>\n",
       "      <td>0.038462</td>\n",
       "      <td>0.000000</td>\n",
       "      <td>0.000000</td>\n",
       "      <td>0.192308</td>\n",
       "      <td>0.000000</td>\n",
       "      <td>0.076923</td>\n",
       "      <td>0.615385</td>\n",
       "      <td>0.000000</td>\n",
       "      <td>...</td>\n",
       "      <td>0.000000</td>\n",
       "      <td>0.000000</td>\n",
       "      <td>0.000000</td>\n",
       "      <td>0.00</td>\n",
       "      <td>0.000000</td>\n",
       "      <td>0.000000</td>\n",
       "      <td>0.000000</td>\n",
       "      <td>0.000000</td>\n",
       "      <td>0.000000</td>\n",
       "      <td>0.000000</td>\n",
       "    </tr>\n",
       "    <tr>\n",
       "      <td>I-VP</td>\n",
       "      <td>0.0</td>\n",
       "      <td>0.148341</td>\n",
       "      <td>0.037602</td>\n",
       "      <td>0.000197</td>\n",
       "      <td>0.000000</td>\n",
       "      <td>0.000000</td>\n",
       "      <td>0.029038</td>\n",
       "      <td>0.008269</td>\n",
       "      <td>0.056698</td>\n",
       "      <td>0.000000</td>\n",
       "      <td>...</td>\n",
       "      <td>0.000000</td>\n",
       "      <td>0.000000</td>\n",
       "      <td>0.000000</td>\n",
       "      <td>0.00</td>\n",
       "      <td>0.013190</td>\n",
       "      <td>0.023329</td>\n",
       "      <td>0.000000</td>\n",
       "      <td>0.327887</td>\n",
       "      <td>0.000000</td>\n",
       "      <td>0.000098</td>\n",
       "    </tr>\n",
       "    <tr>\n",
       "      <td>I-PP</td>\n",
       "      <td>0.0</td>\n",
       "      <td>0.062780</td>\n",
       "      <td>0.004484</td>\n",
       "      <td>0.000000</td>\n",
       "      <td>0.000000</td>\n",
       "      <td>0.000000</td>\n",
       "      <td>0.004484</td>\n",
       "      <td>0.031390</td>\n",
       "      <td>0.040359</td>\n",
       "      <td>0.000000</td>\n",
       "      <td>...</td>\n",
       "      <td>0.000000</td>\n",
       "      <td>0.000000</td>\n",
       "      <td>0.000000</td>\n",
       "      <td>0.00</td>\n",
       "      <td>0.000000</td>\n",
       "      <td>0.000000</td>\n",
       "      <td>0.000000</td>\n",
       "      <td>0.000000</td>\n",
       "      <td>0.071749</td>\n",
       "      <td>0.000000</td>\n",
       "    </tr>\n",
       "    <tr>\n",
       "      <td>#END#</td>\n",
       "      <td>0.0</td>\n",
       "      <td>0.000000</td>\n",
       "      <td>0.000000</td>\n",
       "      <td>0.000000</td>\n",
       "      <td>0.000000</td>\n",
       "      <td>0.000000</td>\n",
       "      <td>0.000000</td>\n",
       "      <td>0.000000</td>\n",
       "      <td>0.000000</td>\n",
       "      <td>0.000000</td>\n",
       "      <td>...</td>\n",
       "      <td>0.000000</td>\n",
       "      <td>0.000000</td>\n",
       "      <td>0.000000</td>\n",
       "      <td>0.00</td>\n",
       "      <td>0.000000</td>\n",
       "      <td>0.000000</td>\n",
       "      <td>0.000000</td>\n",
       "      <td>0.000000</td>\n",
       "      <td>0.000000</td>\n",
       "      <td>0.000000</td>\n",
       "    </tr>\n",
       "  </tbody>\n",
       "</table>\n",
       "<p>23 rows × 23 columns</p>\n",
       "</div>"
      ],
      "text/plain": [
       "         #START#      B-PP    B-ADVP   B-CONJP      I-NP    I-INTJ    B-ADJP  \\\n",
       "#START#      0.0  0.108704  0.054287  0.000261  0.000000  0.000000  0.003262   \n",
       "B-PP         0.0  0.018491  0.003318  0.000000  0.000000  0.000000  0.002611   \n",
       "B-ADVP       0.0  0.170547  0.016269  0.000561  0.000000  0.000000  0.016550   \n",
       "B-CONJP      0.0  0.000000  0.000000  0.000000  0.000000  0.000000  0.000000   \n",
       "I-NP         0.0  0.156509  0.015332  0.000201  0.406679  0.000000  0.004103   \n",
       "I-INTJ       0.0  0.000000  0.000000  0.000000  0.000000  0.285714  0.000000   \n",
       "B-ADJP       0.0  0.244432  0.015991  0.000000  0.000000  0.000000  0.001142   \n",
       "B-VP         0.0  0.098735  0.031214  0.000164  0.000000  0.000000  0.039209   \n",
       "O            0.0  0.050142  0.029197  0.001047  0.000000  0.000000  0.008755   \n",
       "I-SBAR       0.0  0.020833  0.000000  0.000000  0.000000  0.000000  0.000000   \n",
       "B-UCP        0.0  0.000000  0.000000  0.000000  0.000000  0.000000  0.000000   \n",
       "I-ADJP       0.0  0.285714  0.013937  0.000000  0.000000  0.000000  0.012195   \n",
       "B-NP         0.0  0.058007  0.009809  0.000085  0.684706  0.000000  0.003213   \n",
       "I-CONJP      0.0  0.109375  0.000000  0.000000  0.000000  0.000000  0.000000   \n",
       "B-LST        0.0  0.000000  0.000000  0.000000  0.000000  0.000000  0.000000   \n",
       "I-ADVP       0.0  0.154270  0.030303  0.000000  0.000000  0.000000  0.016529   \n",
       "I-UCP        0.0  0.000000  0.000000  0.000000  0.000000  0.000000  0.000000   \n",
       "B-SBAR       0.0  0.014218  0.008952  0.000000  0.000000  0.000000  0.003160   \n",
       "B-PRT        0.0  0.241453  0.029915  0.000000  0.000000  0.000000  0.002137   \n",
       "B-INTJ       0.0  0.038462  0.038462  0.000000  0.000000  0.192308  0.000000   \n",
       "I-VP         0.0  0.148341  0.037602  0.000197  0.000000  0.000000  0.029038   \n",
       "I-PP         0.0  0.062780  0.004484  0.000000  0.000000  0.000000  0.004484   \n",
       "#END#        0.0  0.000000  0.000000  0.000000  0.000000  0.000000  0.000000   \n",
       "\n",
       "             B-VP         O    I-SBAR  ...   I-CONJP     B-LST    I-ADVP  \\\n",
       "#START#  0.018661  0.141850  0.000000  ...  0.000000  0.001044  0.000000   \n",
       "B-PP     0.026595  0.008484  0.000000  ...  0.000000  0.000000  0.000000   \n",
       "B-ADVP   0.215989  0.265358  0.000000  ...  0.000000  0.000000  0.086957   \n",
       "B-CONJP  0.000000  0.061224  0.000000  ...  0.938776  0.000000  0.000000   \n",
       "I-NP     0.134912  0.227327  0.000000  ...  0.000000  0.000000  0.000000   \n",
       "I-INTJ   0.000000  0.714286  0.000000  ...  0.000000  0.000000  0.000000   \n",
       "B-ADJP   0.110794  0.256996  0.000000  ...  0.000000  0.000000  0.000000   \n",
       "B-VP     0.007229  0.067411  0.000000  ...  0.000000  0.000000  0.000000   \n",
       "O        0.115030  0.113522  0.000000  ...  0.000000  0.000084  0.000000   \n",
       "I-SBAR   0.020833  0.000000  0.000000  ...  0.000000  0.000000  0.000000   \n",
       "B-UCP    0.000000  0.000000  0.000000  ...  0.000000  0.000000  0.000000   \n",
       "I-ADJP   0.069686  0.320557  0.000000  ...  0.000000  0.000000  0.000000   \n",
       "B-NP     0.130303  0.080964  0.000000  ...  0.000000  0.000000  0.000000   \n",
       "I-CONJP  0.156250  0.015625  0.000000  ...  0.281250  0.000000  0.000000   \n",
       "B-LST    0.000000  1.000000  0.000000  ...  0.000000  0.000000  0.000000   \n",
       "I-ADVP   0.057851  0.327824  0.000000  ...  0.000000  0.000000  0.146006   \n",
       "I-UCP    0.000000  0.000000  0.000000  ...  0.000000  0.000000  0.000000   \n",
       "B-SBAR   0.038441  0.028436  0.025276  ...  0.000000  0.000527  0.000000   \n",
       "B-PRT    0.042735  0.158120  0.000000  ...  0.000000  0.000000  0.000000   \n",
       "B-INTJ   0.076923  0.615385  0.000000  ...  0.000000  0.000000  0.000000   \n",
       "I-VP     0.008269  0.056698  0.000000  ...  0.000000  0.000000  0.000000   \n",
       "I-PP     0.031390  0.040359  0.000000  ...  0.000000  0.000000  0.000000   \n",
       "#END#    0.000000  0.000000  0.000000  ...  0.000000  0.000000  0.000000   \n",
       "\n",
       "         I-UCP    B-SBAR     B-PRT    B-INTJ      I-VP      I-PP     #END#  \n",
       "#START#   0.00  0.022576  0.000000  0.001305  0.000000  0.000000  0.000000  \n",
       "B-PP      0.00  0.000979  0.000000  0.000000  0.000000  0.011258  0.000218  \n",
       "B-ADVP    0.00  0.016269  0.000281  0.000000  0.000000  0.000000  0.000842  \n",
       "B-CONJP   0.00  0.000000  0.000000  0.000000  0.000000  0.000000  0.000000  \n",
       "I-NP      0.00  0.006375  0.000128  0.000000  0.000000  0.000000  0.000788  \n",
       "I-INTJ    0.00  0.000000  0.000000  0.000000  0.000000  0.000000  0.000000  \n",
       "B-ADJP    0.00  0.037693  0.000571  0.000000  0.000000  0.000000  0.000571  \n",
       "B-VP      0.00  0.025574  0.011171  0.000110  0.373912  0.000000  0.000055  \n",
       "O         0.00  0.016128  0.000042  0.000586  0.000000  0.000000  0.318281  \n",
       "I-SBAR    0.00  0.000000  0.000000  0.000000  0.000000  0.000000  0.000000  \n",
       "B-UCP     1.00  0.000000  0.000000  0.000000  0.000000  0.000000  0.000000  \n",
       "I-ADJP    0.00  0.060976  0.000000  0.000000  0.000000  0.000000  0.001742  \n",
       "B-NP      0.00  0.003403  0.000359  0.000000  0.000000  0.000000  0.000233  \n",
       "I-CONJP   0.00  0.000000  0.000000  0.000000  0.000000  0.000000  0.000000  \n",
       "B-LST     0.00  0.000000  0.000000  0.000000  0.000000  0.000000  0.000000  \n",
       "I-ADVP    0.00  0.079890  0.000000  0.000000  0.000000  0.000000  0.000000  \n",
       "I-UCP     0.75  0.000000  0.000000  0.000000  0.000000  0.000000  0.000000  \n",
       "B-SBAR    0.00  0.008425  0.000000  0.000000  0.000000  0.000000  0.000000  \n",
       "B-PRT     0.00  0.019231  0.000000  0.000000  0.000000  0.000000  0.000000  \n",
       "B-INTJ    0.00  0.000000  0.000000  0.000000  0.000000  0.000000  0.000000  \n",
       "I-VP      0.00  0.013190  0.023329  0.000000  0.327887  0.000000  0.000098  \n",
       "I-PP      0.00  0.000000  0.000000  0.000000  0.000000  0.071749  0.000000  \n",
       "#END#     0.00  0.000000  0.000000  0.000000  0.000000  0.000000  0.000000  \n",
       "\n",
       "[23 rows x 23 columns]"
      ]
     },
     "execution_count": 6,
     "metadata": {},
     "output_type": "execute_result"
    }
   ],
   "source": [
    "EN.transition_matrix"
   ]
  },
  {
   "cell_type": "code",
   "execution_count": 7,
   "metadata": {},
   "outputs": [
    {
     "data": {
      "text/plain": [
       "0.6480490669450607"
      ]
     },
     "execution_count": 7,
     "metadata": {},
     "output_type": "execute_result"
    }
   ],
   "source": [
    "EN.transition_matrix.loc['#START#','B-NP']"
   ]
  },
  {
   "cell_type": "code",
   "execution_count": 8,
   "metadata": {},
   "outputs": [],
   "source": [
    "def log(m):\n",
    "    m = np.clip(m, 1e-64, None)\n",
    "    x = np.log(m)\n",
    "    return x"
   ]
  },
  {
   "cell_type": "code",
   "execution_count": 55,
   "metadata": {},
   "outputs": [],
   "source": [
    "def vertebi_k(word_arr,Hmm,k=7,to_return=7):\n",
    "    \"\"\"\n",
    "    Followed pseudocode here\n",
    "    https://en.wikipedia.org/wiki/Viterbi_algorithm#Pseudocode\n",
    "    to_return which k to return \n",
    "    \"\"\"\n",
    "    S = Hmm.tag_ls[1:-1] #set of all possible tags remove #START# and #STOP#\n",
    "    \n",
    "    A = Hmm.transition_matrix.values[1:-1,1:-1] # A(tag_u_vector,tag_v)\n",
    "    B = Hmm.em_matrix[1:-1] # B(tag_u->word)\n",
    "    \n",
    "    T = len(S) # Total number unique tags\n",
    "    N = len(word_arr) # Length of sentence make sure no #START# and #STOP#\n",
    "    \n",
    "    T1 = np.full((T,N,k),-99999.) #probability table of most possible path to node i.e. store scores of each node\n",
    "    T2 = np.full((T,N,k),-99999.) # Table of paths where the ith row stores highest scoring paths to T1[i,j]\n",
    "    \n",
    "    #Handle first word and base case at the same time\n",
    "    word = word_arr[0]\n",
    "    if word not in Hmm.words:\n",
    "        word = '#UNK#'\n",
    "    \n",
    "    temp_matrix = np.full((T,k),-99999.)\n",
    "    temp_matrix[:,k-1] = log(Hmm.transition_matrix.loc['#START#'][1:-1].values)+log(B[word].values)\n",
    "    T1[:,0,:] = temp_matrix\n",
    "\n",
    "#     T1[:,0,:] = (log(Hmm.transition_matrix.loc['#START#'][1:-1].values)+log(B[word].values))[:,None]\n",
    "    #Note A is vector operation\n",
    "    # Fill up each column by using previous column\n",
    "    # j is position of word\n",
    "    for j in range(1,N):\n",
    "        # i is position of tag\n",
    "        #ignore #START# and #END# tag when looping\n",
    "        word = word_arr[j]\n",
    "        if word not in Hmm.words:\n",
    "            word = '#UNK#'\n",
    "        \n",
    "        for i in range(T):\n",
    "            \n",
    "            T1[i][j] = np.sort((T1[:,j-1]+(log(A[:,i])+log(B.loc[S[i],word]))[:,None]).ravel())[::-1][:k]\n",
    "            T2[i][j] = np.argsort((T1[:,j-1]+log(A[:,i])[:,None]).ravel())[::-1][:k]\n",
    "\n",
    "            \n",
    "    last_col = np.argsort((T1[:,N-1]+log(Hmm.transition_matrix['#END#'].values[1:-1])[:,None]).ravel())[::-1][:k]\n",
    "    ans = []\n",
    "    for sol in last_col:\n",
    "        ls = []\n",
    "        index = np.unravel_index(sol,(T,k))\n",
    "        a,b = index\n",
    "        ls.append(S[a])\n",
    "        for j in range(N-1,0,-1):\n",
    "            if j != N-1:\n",
    "                a,b = np.unravel_index(int(index),(T,k))\n",
    "            prev_index = T2[a][j][b]\n",
    "            c,d = np.unravel_index(int(prev_index),(T,k))\n",
    "            ls.append(S[int(c)])\n",
    "            index = prev_index\n",
    "        final = ls[::-1]\n",
    "        ans.append(final)\n",
    "        \n",
    "    return ans[to_return-1]"
   ]
  },
  {
   "cell_type": "code",
   "execution_count": 56,
   "metadata": {},
   "outputs": [
    {
     "data": {
      "text/plain": [
       "8"
      ]
     },
     "execution_count": 56,
     "metadata": {},
     "output_type": "execute_result"
    }
   ],
   "source": [
    "word = \"Trump is the best president in the world\".split(' ')\n",
    "len(word)"
   ]
  },
  {
   "cell_type": "code",
   "execution_count": 57,
   "metadata": {
    "scrolled": false
   },
   "outputs": [
    {
     "data": {
      "text/plain": [
       "['O', 'B-VP', 'B-NP', 'I-NP', 'B-NP', 'B-PP', 'B-NP', 'I-NP']"
      ]
     },
     "execution_count": 57,
     "metadata": {},
     "output_type": "execute_result"
    }
   ],
   "source": [
    "vertebi_k(word,EN,k=7)"
   ]
  },
  {
   "cell_type": "code",
   "execution_count": 58,
   "metadata": {},
   "outputs": [],
   "source": [
    "LANG = ['AL','EN']\n",
    "eval_params = lambda lang: {'devin':f'./{lang}/dev.in','devout':f'./{lang}/dev.p4.out','ground_truth':f'./{lang}/dev.out','trainfile':f'./{lang}/train'}"
   ]
  },
  {
   "cell_type": "code",
   "execution_count": 59,
   "metadata": {},
   "outputs": [],
   "source": [
    "import os\n",
    "def pred_out(devin,devout,ground_truth,trainfile):\n",
    "    H = Hmm(trainfile)\n",
    "    file_object = open(devin, \"r\",encoding='UTF-8',)\n",
    "    ls=[[]]\n",
    "    index=0\n",
    "    test=[]\n",
    "    for line in file_object:\n",
    "        test.append(line.strip())\n",
    "        if (line.strip()==\"\"):\n",
    "            ls.append([])\n",
    "            index+=1\n",
    "        else:\n",
    "            ls[index].append(line.strip())\n",
    "    ls.pop(-1)\n",
    "    df = pd.DataFrame(test, columns = ['Word'])\n",
    "    \n",
    "    from tqdm.notebook import tqdm\n",
    "    predict=[]\n",
    "    for i in tqdm(ls):\n",
    "        for j in vertebi_k(i,H):\n",
    "            predict.append(j)\n",
    "        predict.append(\"\")\n",
    "    df['Tag'] = predict\n",
    "    \n",
    "    df.to_csv(devout, sep=\" \", index=False, header=False)\n",
    "    \n",
    "    if os.name == 'nt':#if it is on windows\n",
    "        !python ./EvalScript/evalResult.py {ground_truth} {devout}\n",
    "    else:\n",
    "        !python3 ./EvalScript/evalResult.py {ground_truth} {devout}"
   ]
  },
  {
   "cell_type": "code",
   "execution_count": 60,
   "metadata": {
    "scrolled": false
   },
   "outputs": [
    {
     "name": "stdout",
     "output_type": "stream",
     "text": [
      "AL\n"
     ]
    },
    {
     "data": {
      "application/vnd.jupyter.widget-view+json": {
       "model_id": "f5eabc8b8b8a45a68446eaa8f78d6332",
       "version_major": 2,
       "version_minor": 0
      },
      "text/plain": [
       "HBox(children=(IntProgress(value=0, max=1492), HTML(value='')))"
      ]
     },
     "metadata": {},
     "output_type": "display_data"
    },
    {
     "name": "stdout",
     "output_type": "stream",
     "text": [
      "\n",
      "\n",
      "#Entity in gold data: 8408\n",
      "#Entity in prediction: 8941\n",
      "\n",
      "#Correct Entity : 5993\n",
      "Entity  precision: 0.6703\n",
      "Entity  recall: 0.7128\n",
      "Entity  F: 0.6909\n",
      "\n",
      "#Correct Sentiment : 5024\n",
      "Sentiment  precision: 0.5619\n",
      "Sentiment  recall: 0.5975\n",
      "Sentiment  F: 0.5792\n",
      "---------------------------------\n",
      "EN\n"
     ]
    },
    {
     "data": {
      "application/vnd.jupyter.widget-view+json": {
       "model_id": "247ae004fc244a38bd048a72374310b3",
       "version_major": 2,
       "version_minor": 0
      },
      "text/plain": [
       "HBox(children=(IntProgress(value=0, max=1094), HTML(value='')))"
      ]
     },
     "metadata": {},
     "output_type": "display_data"
    },
    {
     "name": "stdout",
     "output_type": "stream",
     "text": [
      "\n",
      "\n",
      "#Entity in gold data: 13179\n",
      "#Entity in prediction: 13442\n",
      "\n",
      "#Correct Entity : 10523\n",
      "Entity  precision: 0.7828\n",
      "Entity  recall: 0.7985\n",
      "Entity  F: 0.7906\n",
      "\n",
      "#Correct Sentiment : 9995\n",
      "Sentiment  precision: 0.7436\n",
      "Sentiment  recall: 0.7584\n",
      "Sentiment  F: 0.7509\n",
      "---------------------------------\n"
     ]
    }
   ],
   "source": [
    "for lang in LANG:\n",
    "    print(lang)\n",
    "    pred_out(**eval_params(lang))\n",
    "    print('---------------------------------')"
   ]
  },
  {
   "cell_type": "code",
   "execution_count": 61,
   "metadata": {},
   "outputs": [],
   "source": [
    "a = np.random.rand(3,3)"
   ]
  },
  {
   "cell_type": "code",
   "execution_count": 63,
   "metadata": {},
   "outputs": [
    {
     "data": {
      "text/plain": [
       "array([[0.58554262, 0.15672213, 0.05409078],\n",
       "       [0.25433011, 0.13347871, 0.17217374],\n",
       "       [0.37576197, 0.75958957, 0.09796061]])"
      ]
     },
     "execution_count": 63,
     "metadata": {},
     "output_type": "execute_result"
    }
   ],
   "source": [
    "a"
   ]
  },
  {
   "cell_type": "code",
   "execution_count": 79,
   "metadata": {},
   "outputs": [
    {
     "data": {
      "text/plain": [
       "array([[[0.58554262, 0.58554262, 0.58554262, 0.58554262, 0.58554262,\n",
       "         0.58554262, 0.58554262],\n",
       "        [0.15672213, 0.15672213, 0.15672213, 0.15672213, 0.15672213,\n",
       "         0.15672213, 0.15672213],\n",
       "        [0.05409078, 0.05409078, 0.05409078, 0.05409078, 0.05409078,\n",
       "         0.05409078, 0.05409078]],\n",
       "\n",
       "       [[0.25433011, 0.25433011, 0.25433011, 0.25433011, 0.25433011,\n",
       "         0.25433011, 0.25433011],\n",
       "        [0.13347871, 0.13347871, 0.13347871, 0.13347871, 0.13347871,\n",
       "         0.13347871, 0.13347871],\n",
       "        [0.17217374, 0.17217374, 0.17217374, 0.17217374, 0.17217374,\n",
       "         0.17217374, 0.17217374]],\n",
       "\n",
       "       [[0.37576197, 0.37576197, 0.37576197, 0.37576197, 0.37576197,\n",
       "         0.37576197, 0.37576197],\n",
       "        [0.75958957, 0.75958957, 0.75958957, 0.75958957, 0.75958957,\n",
       "         0.75958957, 0.75958957],\n",
       "        [0.09796061, 0.09796061, 0.09796061, 0.09796061, 0.09796061,\n",
       "         0.09796061, 0.09796061]]])"
      ]
     },
     "execution_count": 79,
     "metadata": {},
     "output_type": "execute_result"
    }
   ],
   "source": [
    "np.repeat(a[:,:,None],7,axis=2)"
   ]
  },
  {
   "cell_type": "code",
   "execution_count": 204,
   "metadata": {},
   "outputs": [],
   "source": [
    "b= np.arange(28,1,-1)"
   ]
  },
  {
   "cell_type": "code",
   "execution_count": 205,
   "metadata": {},
   "outputs": [],
   "source": [
    "b = b.reshape(3,3,3)"
   ]
  },
  {
   "cell_type": "code",
   "execution_count": 206,
   "metadata": {},
   "outputs": [
    {
     "name": "stdout",
     "output_type": "stream",
     "text": [
      "\n",
      "\n",
      "\t28 27 26 \t25 24 23 \t22 21 20 \n",
      "\n",
      "\t19 18 17 \t16 15 14 \t13 12 11 \n",
      "\n",
      "\t10 9 8 \t7 6 5 \t4 3 2 "
     ]
    }
   ],
   "source": [
    "for i in b:\n",
    "    print('\\n')\n",
    "    for j in i:\n",
    "        print('',end= '\\t')\n",
    "        for k in j:\n",
    "            print(k,end= ' ')"
   ]
  },
  {
   "cell_type": "code",
   "execution_count": 207,
   "metadata": {},
   "outputs": [],
   "source": [
    "b = np.max(b,axis=2)"
   ]
  },
  {
   "cell_type": "code",
   "execution_count": 221,
   "metadata": {},
   "outputs": [
    {
     "data": {
      "text/plain": [
       "array([[28, 25, 22],\n",
       "       [19, 16, 13],\n",
       "       [10,  7,  4]])"
      ]
     },
     "execution_count": 221,
     "metadata": {},
     "output_type": "execute_result"
    }
   ],
   "source": [
    "b"
   ]
  },
  {
   "cell_type": "code",
   "execution_count": 224,
   "metadata": {},
   "outputs": [
    {
     "data": {
      "text/plain": [
       "array([28, 25, 22, 19, 16, 13, 10,  7,  4])"
      ]
     },
     "execution_count": 224,
     "metadata": {},
     "output_type": "execute_result"
    }
   ],
   "source": [
    "b.reshape(9)"
   ]
  },
  {
   "cell_type": "code",
   "execution_count": 284,
   "metadata": {},
   "outputs": [],
   "source": [
    "b[1][1] =100"
   ]
  },
  {
   "cell_type": "code",
   "execution_count": 270,
   "metadata": {},
   "outputs": [
    {
     "data": {
      "text/plain": [
       "array([[[2, 2],\n",
       "        [2, 1],\n",
       "        [2, 0],\n",
       "        [1, 2],\n",
       "        [1, 0],\n",
       "        [0, 2],\n",
       "        [0, 1],\n",
       "        [0, 0],\n",
       "        [1, 1]]], dtype=int64)"
      ]
     },
     "execution_count": 270,
     "metadata": {},
     "output_type": "execute_result"
    }
   ],
   "source": [
    "np.dstack(np.unravel_index(b.ravel().argsort(),b.shape))"
   ]
  },
  {
   "cell_type": "code",
   "execution_count": 217,
   "metadata": {},
   "outputs": [],
   "source": [
    "a = np.array([[1,2],[3,4]])"
   ]
  },
  {
   "cell_type": "code",
   "execution_count": 234,
   "metadata": {},
   "outputs": [
    {
     "data": {
      "text/plain": [
       "array([[[1, 2]],\n",
       "\n",
       "       [[3, 4]]])"
      ]
     },
     "execution_count": 234,
     "metadata": {},
     "output_type": "execute_result"
    }
   ],
   "source": []
  },
  {
   "cell_type": "code",
   "execution_count": 258,
   "metadata": {},
   "outputs": [],
   "source": [
    "a[:,0] = 3"
   ]
  },
  {
   "cell_type": "code",
   "execution_count": 377,
   "metadata": {},
   "outputs": [
    {
     "data": {
      "text/plain": [
       "array([[3, 2],\n",
       "       [3, 4]])"
      ]
     },
     "execution_count": 377,
     "metadata": {},
     "output_type": "execute_result"
    }
   ],
   "source": [
    "a"
   ]
  },
  {
   "cell_type": "code",
   "execution_count": 378,
   "metadata": {},
   "outputs": [],
   "source": [
    "b = np.array([10,10])"
   ]
  },
  {
   "cell_type": "code",
   "execution_count": 381,
   "metadata": {},
   "outputs": [
    {
     "data": {
      "text/plain": [
       "array([[13, 12],\n",
       "       [13, 14]])"
      ]
     },
     "execution_count": 381,
     "metadata": {},
     "output_type": "execute_result"
    }
   ],
   "source": [
    "a+b[:,None]"
   ]
  },
  {
   "cell_type": "code",
   "execution_count": 382,
   "metadata": {},
   "outputs": [
    {
     "data": {
      "text/plain": [
       "array([[13, 12],\n",
       "       [13, 14]])"
      ]
     },
     "execution_count": 382,
     "metadata": {},
     "output_type": "execute_result"
    }
   ],
   "source": [
    "a+b"
   ]
  },
  {
   "cell_type": "code",
   "execution_count": null,
   "metadata": {},
   "outputs": [],
   "source": []
  }
 ],
 "metadata": {
  "kernelspec": {
   "display_name": "Python 3",
   "language": "python",
   "name": "python3"
  },
  "language_info": {
   "codemirror_mode": {
    "name": "ipython",
    "version": 3
   },
   "file_extension": ".py",
   "mimetype": "text/x-python",
   "name": "python",
   "nbconvert_exporter": "python",
   "pygments_lexer": "ipython3",
   "version": "3.7.4"
  },
  "varInspector": {
   "cols": {
    "lenName": 16,
    "lenType": 16,
    "lenVar": 40
   },
   "kernels_config": {
    "python": {
     "delete_cmd_postfix": "",
     "delete_cmd_prefix": "del ",
     "library": "var_list.py",
     "varRefreshCmd": "print(var_dic_list())"
    },
    "r": {
     "delete_cmd_postfix": ") ",
     "delete_cmd_prefix": "rm(",
     "library": "var_list.r",
     "varRefreshCmd": "cat(var_dic_list()) "
    }
   },
   "position": {
    "height": "421.823px",
    "left": "1124.16px",
    "right": "20px",
    "top": "157.992px",
    "width": "448.32px"
   },
   "types_to_exclude": [
    "module",
    "function",
    "builtin_function_or_method",
    "instance",
    "_Feature"
   ],
   "window_display": false
  }
 },
 "nbformat": 4,
 "nbformat_minor": 2
}
