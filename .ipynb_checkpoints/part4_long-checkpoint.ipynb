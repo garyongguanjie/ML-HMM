{
 "cells": [
  {
   "cell_type": "code",
   "execution_count": 5,
   "metadata": {},
   "outputs": [],
   "source": [
    "import numpy as np\n",
    "import pandas as pd"
   ]
  },
  {
   "cell_type": "code",
   "execution_count": 6,
   "metadata": {},
   "outputs": [],
   "source": [
    "class Hmm:\n",
    "    def __init__(self,file,k=3):\n",
    "        self.words = None #set of unique words\n",
    "        self.tag_word_count = None # dict((tag,word),count)\n",
    "        self.transmissions = None # dict((tag_u,tag_v),count)\n",
    "        self.count = None # dict(tag,count)\n",
    "        self.read_file(file,k)\n",
    "        self.tags = set(self.count.keys())\n",
    "        \n",
    "        self.word_ls = tuple(self.words)#tuple cause immutable\n",
    "        self._tag_ls = tuple(self.tags)\n",
    "        #move #START# to first row and #END# to last row\n",
    "        ls = list(self._tag_ls)\n",
    "        ls.remove('#START#')\n",
    "        ls.remove('#END#')\n",
    "        ls.insert(0,'#START#')\n",
    "        ls.append('#END#')\n",
    "        self.tag_ls = tuple(ls)\n",
    "        \n",
    "        self.make_matrix()\n",
    "    \n",
    "    def make_matrix(self):\n",
    "        tag_length = len(self.tag_ls)\n",
    "        transition_matrix = np.zeros((tag_length,tag_length))\n",
    "        \n",
    "        for i in range(tag_length):\n",
    "            for j in range(tag_length):\n",
    "                tag_u = self.tag_ls[i]\n",
    "                tag_v = self.tag_ls[j]\n",
    "                transition_matrix[i][j] = self.transmissions[(tag_u,tag_v)]/self.count[tag_u]\n",
    "        self.transition_matrix = pd.DataFrame(transition_matrix,index=self.tag_ls,columns=self.tag_ls)\n",
    "        \n",
    "        word_length = len(self.word_ls)\n",
    "        em_matrix = np.zeros((tag_length,word_length))\n",
    "        for i in range(tag_length):\n",
    "            for j in range(word_length):\n",
    "                tag = self.tag_ls[i]\n",
    "                word = self.word_ls[j]\n",
    "                em_matrix[i][j] = self.tag_word_count[(tag,word)]/self.count[tag]\n",
    "        self.em_matrix = pd.DataFrame(em_matrix,index=self.tag_ls,columns=self.word_ls)\n",
    "        pass\n",
    "    \n",
    "    def read_file(self,file,k):\n",
    "        from collections import defaultdict\n",
    "        seq = ['#START#']\n",
    "        f = open(file,'r',encoding='UTF-8')\n",
    "        tag_word_ls = []\n",
    "        word_count = defaultdict(int)\n",
    "        for line in f:\n",
    "            split = line.split(' ')\n",
    "            if len(split)<2:\n",
    "                #this is a line break\n",
    "                seq.append('#END#')\n",
    "                seq.append('#START#')\n",
    "                continue\n",
    "            word,tag = split\n",
    "            word = word.strip()\n",
    "            tag = tag.strip()\n",
    "            tag_word_ls.append([tag,word])\n",
    "            word_count[word]+=1\n",
    "            seq.append(tag)\n",
    "        f.close()\n",
    "        \n",
    "        #Emissions\n",
    "        for i in range(len(tag_word_ls)):\n",
    "            tag,word = tag_word_ls[i]\n",
    "            if word_count[word]<k:\n",
    "                tag_word_ls[i] = [tag,'#UNK#']\n",
    "        tag_word_count = defaultdict(int)\n",
    "        \n",
    "        words = []\n",
    "        for tag,word in tag_word_ls:\n",
    "            tag_word_count[tag,word]+=1\n",
    "            words.append(word)\n",
    "        self.words = set(words)\n",
    "        self.tag_word_count= tag_word_count\n",
    "        \n",
    "        #Transistions\n",
    "        del seq[-1] #delete last item from the list\n",
    "         #print(seq)\n",
    "        trans_dict = defaultdict(int)\n",
    "        count_u = defaultdict(int)\n",
    "        for i in range(len(seq)-1):\n",
    "            tag_u = seq[i]\n",
    "            count_u[tag_u] += 1 # need to count #END# too\n",
    "            if tag_u == \"#END#\":\n",
    "                continue\n",
    "            #if u is not #END# we count the transmission \n",
    "            tag_v = seq[i+1]\n",
    "            if (tag_u ==\"#START#\" and tag_v == \"#END#\"):\n",
    "                #check for empty blank lines at the end and dont count them\n",
    "                print('these are blank lines')\n",
    "                count_u[\"#START#\"] -= 1 #remove additional start\n",
    "                break\n",
    "            trans_dict[(tag_u,tag_v)] += 1\n",
    "        self.transmissions = trans_dict\n",
    "        self.count = count_u"
   ]
  },
  {
   "cell_type": "code",
   "execution_count": 7,
   "metadata": {},
   "outputs": [],
   "source": [
    "EN = Hmm('./EN/train')"
   ]
  },
  {
   "cell_type": "code",
   "execution_count": 8,
   "metadata": {},
   "outputs": [
    {
     "data": {
      "text/plain": [
       "0.018661098786376094"
      ]
     },
     "execution_count": 8,
     "metadata": {},
     "output_type": "execute_result"
    }
   ],
   "source": [
    "EN.transition_matrix.loc['#START#','B-VP']"
   ]
  },
  {
   "cell_type": "code",
   "execution_count": 9,
   "metadata": {},
   "outputs": [
    {
     "data": {
      "text/plain": [
       "array([0.00000000e+00, 5.42868328e-02, 1.08704163e-01, 2.60994389e-04,\n",
       "       0.00000000e+00, 2.25760146e-02, 6.48049067e-01, 3.26242986e-03,\n",
       "       0.00000000e+00, 0.00000000e+00, 0.00000000e+00, 0.00000000e+00,\n",
       "       1.30497194e-03, 1.86610988e-02, 0.00000000e+00, 0.00000000e+00,\n",
       "       0.00000000e+00, 0.00000000e+00, 1.41850450e-01, 0.00000000e+00,\n",
       "       1.04397755e-03, 0.00000000e+00, 0.00000000e+00])"
      ]
     },
     "execution_count": 9,
     "metadata": {},
     "output_type": "execute_result"
    }
   ],
   "source": [
    "EN.transition_matrix.values[0,:]"
   ]
  },
  {
   "cell_type": "code",
   "execution_count": 10,
   "metadata": {},
   "outputs": [
    {
     "data": {
      "text/html": [
       "<div>\n",
       "<style scoped>\n",
       "    .dataframe tbody tr th:only-of-type {\n",
       "        vertical-align: middle;\n",
       "    }\n",
       "\n",
       "    .dataframe tbody tr th {\n",
       "        vertical-align: top;\n",
       "    }\n",
       "\n",
       "    .dataframe thead th {\n",
       "        text-align: right;\n",
       "    }\n",
       "</style>\n",
       "<table border=\"1\" class=\"dataframe\">\n",
       "  <thead>\n",
       "    <tr style=\"text-align: right;\">\n",
       "      <th></th>\n",
       "      <th>#START#</th>\n",
       "      <th>B-ADVP</th>\n",
       "      <th>B-PP</th>\n",
       "      <th>B-CONJP</th>\n",
       "      <th>I-VP</th>\n",
       "      <th>B-SBAR</th>\n",
       "      <th>B-NP</th>\n",
       "      <th>B-ADJP</th>\n",
       "      <th>I-SBAR</th>\n",
       "      <th>I-ADVP</th>\n",
       "      <th>...</th>\n",
       "      <th>B-VP</th>\n",
       "      <th>I-ADJP</th>\n",
       "      <th>I-CONJP</th>\n",
       "      <th>I-PP</th>\n",
       "      <th>I-NP</th>\n",
       "      <th>O</th>\n",
       "      <th>I-INTJ</th>\n",
       "      <th>B-LST</th>\n",
       "      <th>B-PRT</th>\n",
       "      <th>#END#</th>\n",
       "    </tr>\n",
       "  </thead>\n",
       "  <tbody>\n",
       "    <tr>\n",
       "      <td>#START#</td>\n",
       "      <td>0.0</td>\n",
       "      <td>0.054287</td>\n",
       "      <td>0.108704</td>\n",
       "      <td>0.000261</td>\n",
       "      <td>0.000000</td>\n",
       "      <td>0.022576</td>\n",
       "      <td>0.648049</td>\n",
       "      <td>0.003262</td>\n",
       "      <td>0.000000</td>\n",
       "      <td>0.000000</td>\n",
       "      <td>...</td>\n",
       "      <td>0.018661</td>\n",
       "      <td>0.000000</td>\n",
       "      <td>0.000000</td>\n",
       "      <td>0.000000</td>\n",
       "      <td>0.000000</td>\n",
       "      <td>0.141850</td>\n",
       "      <td>0.000000</td>\n",
       "      <td>0.001044</td>\n",
       "      <td>0.000000</td>\n",
       "      <td>0.000000</td>\n",
       "    </tr>\n",
       "    <tr>\n",
       "      <td>B-ADVP</td>\n",
       "      <td>0.0</td>\n",
       "      <td>0.016269</td>\n",
       "      <td>0.170547</td>\n",
       "      <td>0.000561</td>\n",
       "      <td>0.000000</td>\n",
       "      <td>0.016269</td>\n",
       "      <td>0.210379</td>\n",
       "      <td>0.016550</td>\n",
       "      <td>0.000000</td>\n",
       "      <td>0.086957</td>\n",
       "      <td>...</td>\n",
       "      <td>0.215989</td>\n",
       "      <td>0.000000</td>\n",
       "      <td>0.000000</td>\n",
       "      <td>0.000000</td>\n",
       "      <td>0.000000</td>\n",
       "      <td>0.265358</td>\n",
       "      <td>0.000000</td>\n",
       "      <td>0.000000</td>\n",
       "      <td>0.000281</td>\n",
       "      <td>0.000842</td>\n",
       "    </tr>\n",
       "    <tr>\n",
       "      <td>B-PP</td>\n",
       "      <td>0.0</td>\n",
       "      <td>0.003318</td>\n",
       "      <td>0.018491</td>\n",
       "      <td>0.000000</td>\n",
       "      <td>0.000000</td>\n",
       "      <td>0.000979</td>\n",
       "      <td>0.928047</td>\n",
       "      <td>0.002611</td>\n",
       "      <td>0.000000</td>\n",
       "      <td>0.000000</td>\n",
       "      <td>...</td>\n",
       "      <td>0.026595</td>\n",
       "      <td>0.000000</td>\n",
       "      <td>0.000000</td>\n",
       "      <td>0.011258</td>\n",
       "      <td>0.000000</td>\n",
       "      <td>0.008484</td>\n",
       "      <td>0.000000</td>\n",
       "      <td>0.000000</td>\n",
       "      <td>0.000000</td>\n",
       "      <td>0.000218</td>\n",
       "    </tr>\n",
       "    <tr>\n",
       "      <td>B-CONJP</td>\n",
       "      <td>0.0</td>\n",
       "      <td>0.000000</td>\n",
       "      <td>0.000000</td>\n",
       "      <td>0.000000</td>\n",
       "      <td>0.000000</td>\n",
       "      <td>0.000000</td>\n",
       "      <td>0.000000</td>\n",
       "      <td>0.000000</td>\n",
       "      <td>0.000000</td>\n",
       "      <td>0.000000</td>\n",
       "      <td>...</td>\n",
       "      <td>0.000000</td>\n",
       "      <td>0.000000</td>\n",
       "      <td>0.938776</td>\n",
       "      <td>0.000000</td>\n",
       "      <td>0.000000</td>\n",
       "      <td>0.061224</td>\n",
       "      <td>0.000000</td>\n",
       "      <td>0.000000</td>\n",
       "      <td>0.000000</td>\n",
       "      <td>0.000000</td>\n",
       "    </tr>\n",
       "    <tr>\n",
       "      <td>I-VP</td>\n",
       "      <td>0.0</td>\n",
       "      <td>0.037602</td>\n",
       "      <td>0.148341</td>\n",
       "      <td>0.000197</td>\n",
       "      <td>0.327887</td>\n",
       "      <td>0.013190</td>\n",
       "      <td>0.355350</td>\n",
       "      <td>0.029038</td>\n",
       "      <td>0.000000</td>\n",
       "      <td>0.000000</td>\n",
       "      <td>...</td>\n",
       "      <td>0.008269</td>\n",
       "      <td>0.000000</td>\n",
       "      <td>0.000000</td>\n",
       "      <td>0.000000</td>\n",
       "      <td>0.000000</td>\n",
       "      <td>0.056698</td>\n",
       "      <td>0.000000</td>\n",
       "      <td>0.000000</td>\n",
       "      <td>0.023329</td>\n",
       "      <td>0.000098</td>\n",
       "    </tr>\n",
       "    <tr>\n",
       "      <td>B-SBAR</td>\n",
       "      <td>0.0</td>\n",
       "      <td>0.008952</td>\n",
       "      <td>0.014218</td>\n",
       "      <td>0.000000</td>\n",
       "      <td>0.000000</td>\n",
       "      <td>0.008425</td>\n",
       "      <td>0.872565</td>\n",
       "      <td>0.003160</td>\n",
       "      <td>0.025276</td>\n",
       "      <td>0.000000</td>\n",
       "      <td>...</td>\n",
       "      <td>0.038441</td>\n",
       "      <td>0.000000</td>\n",
       "      <td>0.000000</td>\n",
       "      <td>0.000000</td>\n",
       "      <td>0.000000</td>\n",
       "      <td>0.028436</td>\n",
       "      <td>0.000000</td>\n",
       "      <td>0.000527</td>\n",
       "      <td>0.000000</td>\n",
       "      <td>0.000000</td>\n",
       "    </tr>\n",
       "    <tr>\n",
       "      <td>B-NP</td>\n",
       "      <td>0.0</td>\n",
       "      <td>0.009809</td>\n",
       "      <td>0.058007</td>\n",
       "      <td>0.000085</td>\n",
       "      <td>0.000000</td>\n",
       "      <td>0.003403</td>\n",
       "      <td>0.028898</td>\n",
       "      <td>0.003213</td>\n",
       "      <td>0.000000</td>\n",
       "      <td>0.000000</td>\n",
       "      <td>...</td>\n",
       "      <td>0.130303</td>\n",
       "      <td>0.000000</td>\n",
       "      <td>0.000000</td>\n",
       "      <td>0.000000</td>\n",
       "      <td>0.684706</td>\n",
       "      <td>0.080964</td>\n",
       "      <td>0.000000</td>\n",
       "      <td>0.000000</td>\n",
       "      <td>0.000359</td>\n",
       "      <td>0.000233</td>\n",
       "    </tr>\n",
       "    <tr>\n",
       "      <td>B-ADJP</td>\n",
       "      <td>0.0</td>\n",
       "      <td>0.015991</td>\n",
       "      <td>0.244432</td>\n",
       "      <td>0.000000</td>\n",
       "      <td>0.000000</td>\n",
       "      <td>0.037693</td>\n",
       "      <td>0.051970</td>\n",
       "      <td>0.001142</td>\n",
       "      <td>0.000000</td>\n",
       "      <td>0.000000</td>\n",
       "      <td>...</td>\n",
       "      <td>0.110794</td>\n",
       "      <td>0.279840</td>\n",
       "      <td>0.000000</td>\n",
       "      <td>0.000000</td>\n",
       "      <td>0.000000</td>\n",
       "      <td>0.256996</td>\n",
       "      <td>0.000000</td>\n",
       "      <td>0.000000</td>\n",
       "      <td>0.000571</td>\n",
       "      <td>0.000571</td>\n",
       "    </tr>\n",
       "    <tr>\n",
       "      <td>I-SBAR</td>\n",
       "      <td>0.0</td>\n",
       "      <td>0.000000</td>\n",
       "      <td>0.020833</td>\n",
       "      <td>0.000000</td>\n",
       "      <td>0.000000</td>\n",
       "      <td>0.000000</td>\n",
       "      <td>0.958333</td>\n",
       "      <td>0.000000</td>\n",
       "      <td>0.000000</td>\n",
       "      <td>0.000000</td>\n",
       "      <td>...</td>\n",
       "      <td>0.020833</td>\n",
       "      <td>0.000000</td>\n",
       "      <td>0.000000</td>\n",
       "      <td>0.000000</td>\n",
       "      <td>0.000000</td>\n",
       "      <td>0.000000</td>\n",
       "      <td>0.000000</td>\n",
       "      <td>0.000000</td>\n",
       "      <td>0.000000</td>\n",
       "      <td>0.000000</td>\n",
       "    </tr>\n",
       "    <tr>\n",
       "      <td>I-ADVP</td>\n",
       "      <td>0.0</td>\n",
       "      <td>0.030303</td>\n",
       "      <td>0.154270</td>\n",
       "      <td>0.000000</td>\n",
       "      <td>0.000000</td>\n",
       "      <td>0.079890</td>\n",
       "      <td>0.187328</td>\n",
       "      <td>0.016529</td>\n",
       "      <td>0.000000</td>\n",
       "      <td>0.146006</td>\n",
       "      <td>...</td>\n",
       "      <td>0.057851</td>\n",
       "      <td>0.000000</td>\n",
       "      <td>0.000000</td>\n",
       "      <td>0.000000</td>\n",
       "      <td>0.000000</td>\n",
       "      <td>0.327824</td>\n",
       "      <td>0.000000</td>\n",
       "      <td>0.000000</td>\n",
       "      <td>0.000000</td>\n",
       "      <td>0.000000</td>\n",
       "    </tr>\n",
       "    <tr>\n",
       "      <td>I-UCP</td>\n",
       "      <td>0.0</td>\n",
       "      <td>0.000000</td>\n",
       "      <td>0.000000</td>\n",
       "      <td>0.000000</td>\n",
       "      <td>0.000000</td>\n",
       "      <td>0.000000</td>\n",
       "      <td>0.250000</td>\n",
       "      <td>0.000000</td>\n",
       "      <td>0.000000</td>\n",
       "      <td>0.000000</td>\n",
       "      <td>...</td>\n",
       "      <td>0.000000</td>\n",
       "      <td>0.000000</td>\n",
       "      <td>0.000000</td>\n",
       "      <td>0.000000</td>\n",
       "      <td>0.000000</td>\n",
       "      <td>0.000000</td>\n",
       "      <td>0.000000</td>\n",
       "      <td>0.000000</td>\n",
       "      <td>0.000000</td>\n",
       "      <td>0.000000</td>\n",
       "    </tr>\n",
       "    <tr>\n",
       "      <td>B-UCP</td>\n",
       "      <td>0.0</td>\n",
       "      <td>0.000000</td>\n",
       "      <td>0.000000</td>\n",
       "      <td>0.000000</td>\n",
       "      <td>0.000000</td>\n",
       "      <td>0.000000</td>\n",
       "      <td>0.000000</td>\n",
       "      <td>0.000000</td>\n",
       "      <td>0.000000</td>\n",
       "      <td>0.000000</td>\n",
       "      <td>...</td>\n",
       "      <td>0.000000</td>\n",
       "      <td>0.000000</td>\n",
       "      <td>0.000000</td>\n",
       "      <td>0.000000</td>\n",
       "      <td>0.000000</td>\n",
       "      <td>0.000000</td>\n",
       "      <td>0.000000</td>\n",
       "      <td>0.000000</td>\n",
       "      <td>0.000000</td>\n",
       "      <td>0.000000</td>\n",
       "    </tr>\n",
       "    <tr>\n",
       "      <td>B-INTJ</td>\n",
       "      <td>0.0</td>\n",
       "      <td>0.038462</td>\n",
       "      <td>0.038462</td>\n",
       "      <td>0.000000</td>\n",
       "      <td>0.000000</td>\n",
       "      <td>0.000000</td>\n",
       "      <td>0.038462</td>\n",
       "      <td>0.000000</td>\n",
       "      <td>0.000000</td>\n",
       "      <td>0.000000</td>\n",
       "      <td>...</td>\n",
       "      <td>0.076923</td>\n",
       "      <td>0.000000</td>\n",
       "      <td>0.000000</td>\n",
       "      <td>0.000000</td>\n",
       "      <td>0.000000</td>\n",
       "      <td>0.615385</td>\n",
       "      <td>0.192308</td>\n",
       "      <td>0.000000</td>\n",
       "      <td>0.000000</td>\n",
       "      <td>0.000000</td>\n",
       "    </tr>\n",
       "    <tr>\n",
       "      <td>B-VP</td>\n",
       "      <td>0.0</td>\n",
       "      <td>0.031214</td>\n",
       "      <td>0.098735</td>\n",
       "      <td>0.000164</td>\n",
       "      <td>0.373912</td>\n",
       "      <td>0.025574</td>\n",
       "      <td>0.345217</td>\n",
       "      <td>0.039209</td>\n",
       "      <td>0.000000</td>\n",
       "      <td>0.000000</td>\n",
       "      <td>...</td>\n",
       "      <td>0.007229</td>\n",
       "      <td>0.000000</td>\n",
       "      <td>0.000000</td>\n",
       "      <td>0.000000</td>\n",
       "      <td>0.000000</td>\n",
       "      <td>0.067411</td>\n",
       "      <td>0.000000</td>\n",
       "      <td>0.000000</td>\n",
       "      <td>0.011171</td>\n",
       "      <td>0.000055</td>\n",
       "    </tr>\n",
       "    <tr>\n",
       "      <td>I-ADJP</td>\n",
       "      <td>0.0</td>\n",
       "      <td>0.013937</td>\n",
       "      <td>0.285714</td>\n",
       "      <td>0.000000</td>\n",
       "      <td>0.000000</td>\n",
       "      <td>0.060976</td>\n",
       "      <td>0.088850</td>\n",
       "      <td>0.012195</td>\n",
       "      <td>0.000000</td>\n",
       "      <td>0.000000</td>\n",
       "      <td>...</td>\n",
       "      <td>0.069686</td>\n",
       "      <td>0.146341</td>\n",
       "      <td>0.000000</td>\n",
       "      <td>0.000000</td>\n",
       "      <td>0.000000</td>\n",
       "      <td>0.320557</td>\n",
       "      <td>0.000000</td>\n",
       "      <td>0.000000</td>\n",
       "      <td>0.000000</td>\n",
       "      <td>0.001742</td>\n",
       "    </tr>\n",
       "    <tr>\n",
       "      <td>I-CONJP</td>\n",
       "      <td>0.0</td>\n",
       "      <td>0.000000</td>\n",
       "      <td>0.109375</td>\n",
       "      <td>0.000000</td>\n",
       "      <td>0.000000</td>\n",
       "      <td>0.000000</td>\n",
       "      <td>0.437500</td>\n",
       "      <td>0.000000</td>\n",
       "      <td>0.000000</td>\n",
       "      <td>0.000000</td>\n",
       "      <td>...</td>\n",
       "      <td>0.156250</td>\n",
       "      <td>0.000000</td>\n",
       "      <td>0.281250</td>\n",
       "      <td>0.000000</td>\n",
       "      <td>0.000000</td>\n",
       "      <td>0.015625</td>\n",
       "      <td>0.000000</td>\n",
       "      <td>0.000000</td>\n",
       "      <td>0.000000</td>\n",
       "      <td>0.000000</td>\n",
       "    </tr>\n",
       "    <tr>\n",
       "      <td>I-PP</td>\n",
       "      <td>0.0</td>\n",
       "      <td>0.004484</td>\n",
       "      <td>0.062780</td>\n",
       "      <td>0.000000</td>\n",
       "      <td>0.000000</td>\n",
       "      <td>0.000000</td>\n",
       "      <td>0.784753</td>\n",
       "      <td>0.004484</td>\n",
       "      <td>0.000000</td>\n",
       "      <td>0.000000</td>\n",
       "      <td>...</td>\n",
       "      <td>0.031390</td>\n",
       "      <td>0.000000</td>\n",
       "      <td>0.000000</td>\n",
       "      <td>0.071749</td>\n",
       "      <td>0.000000</td>\n",
       "      <td>0.040359</td>\n",
       "      <td>0.000000</td>\n",
       "      <td>0.000000</td>\n",
       "      <td>0.000000</td>\n",
       "      <td>0.000000</td>\n",
       "    </tr>\n",
       "    <tr>\n",
       "      <td>I-NP</td>\n",
       "      <td>0.0</td>\n",
       "      <td>0.015332</td>\n",
       "      <td>0.156509</td>\n",
       "      <td>0.000201</td>\n",
       "      <td>0.000000</td>\n",
       "      <td>0.006375</td>\n",
       "      <td>0.047645</td>\n",
       "      <td>0.004103</td>\n",
       "      <td>0.000000</td>\n",
       "      <td>0.000000</td>\n",
       "      <td>...</td>\n",
       "      <td>0.134912</td>\n",
       "      <td>0.000000</td>\n",
       "      <td>0.000000</td>\n",
       "      <td>0.000000</td>\n",
       "      <td>0.406679</td>\n",
       "      <td>0.227327</td>\n",
       "      <td>0.000000</td>\n",
       "      <td>0.000000</td>\n",
       "      <td>0.000128</td>\n",
       "      <td>0.000788</td>\n",
       "    </tr>\n",
       "    <tr>\n",
       "      <td>O</td>\n",
       "      <td>0.0</td>\n",
       "      <td>0.029197</td>\n",
       "      <td>0.050142</td>\n",
       "      <td>0.001047</td>\n",
       "      <td>0.000000</td>\n",
       "      <td>0.016128</td>\n",
       "      <td>0.347185</td>\n",
       "      <td>0.008755</td>\n",
       "      <td>0.000000</td>\n",
       "      <td>0.000000</td>\n",
       "      <td>...</td>\n",
       "      <td>0.115030</td>\n",
       "      <td>0.000000</td>\n",
       "      <td>0.000000</td>\n",
       "      <td>0.000000</td>\n",
       "      <td>0.000000</td>\n",
       "      <td>0.113522</td>\n",
       "      <td>0.000000</td>\n",
       "      <td>0.000084</td>\n",
       "      <td>0.000042</td>\n",
       "      <td>0.318281</td>\n",
       "    </tr>\n",
       "    <tr>\n",
       "      <td>I-INTJ</td>\n",
       "      <td>0.0</td>\n",
       "      <td>0.000000</td>\n",
       "      <td>0.000000</td>\n",
       "      <td>0.000000</td>\n",
       "      <td>0.000000</td>\n",
       "      <td>0.000000</td>\n",
       "      <td>0.000000</td>\n",
       "      <td>0.000000</td>\n",
       "      <td>0.000000</td>\n",
       "      <td>0.000000</td>\n",
       "      <td>...</td>\n",
       "      <td>0.000000</td>\n",
       "      <td>0.000000</td>\n",
       "      <td>0.000000</td>\n",
       "      <td>0.000000</td>\n",
       "      <td>0.000000</td>\n",
       "      <td>0.714286</td>\n",
       "      <td>0.285714</td>\n",
       "      <td>0.000000</td>\n",
       "      <td>0.000000</td>\n",
       "      <td>0.000000</td>\n",
       "    </tr>\n",
       "    <tr>\n",
       "      <td>B-LST</td>\n",
       "      <td>0.0</td>\n",
       "      <td>0.000000</td>\n",
       "      <td>0.000000</td>\n",
       "      <td>0.000000</td>\n",
       "      <td>0.000000</td>\n",
       "      <td>0.000000</td>\n",
       "      <td>0.000000</td>\n",
       "      <td>0.000000</td>\n",
       "      <td>0.000000</td>\n",
       "      <td>0.000000</td>\n",
       "      <td>...</td>\n",
       "      <td>0.000000</td>\n",
       "      <td>0.000000</td>\n",
       "      <td>0.000000</td>\n",
       "      <td>0.000000</td>\n",
       "      <td>0.000000</td>\n",
       "      <td>1.000000</td>\n",
       "      <td>0.000000</td>\n",
       "      <td>0.000000</td>\n",
       "      <td>0.000000</td>\n",
       "      <td>0.000000</td>\n",
       "    </tr>\n",
       "    <tr>\n",
       "      <td>B-PRT</td>\n",
       "      <td>0.0</td>\n",
       "      <td>0.029915</td>\n",
       "      <td>0.241453</td>\n",
       "      <td>0.000000</td>\n",
       "      <td>0.000000</td>\n",
       "      <td>0.019231</td>\n",
       "      <td>0.506410</td>\n",
       "      <td>0.002137</td>\n",
       "      <td>0.000000</td>\n",
       "      <td>0.000000</td>\n",
       "      <td>...</td>\n",
       "      <td>0.042735</td>\n",
       "      <td>0.000000</td>\n",
       "      <td>0.000000</td>\n",
       "      <td>0.000000</td>\n",
       "      <td>0.000000</td>\n",
       "      <td>0.158120</td>\n",
       "      <td>0.000000</td>\n",
       "      <td>0.000000</td>\n",
       "      <td>0.000000</td>\n",
       "      <td>0.000000</td>\n",
       "    </tr>\n",
       "    <tr>\n",
       "      <td>#END#</td>\n",
       "      <td>0.0</td>\n",
       "      <td>0.000000</td>\n",
       "      <td>0.000000</td>\n",
       "      <td>0.000000</td>\n",
       "      <td>0.000000</td>\n",
       "      <td>0.000000</td>\n",
       "      <td>0.000000</td>\n",
       "      <td>0.000000</td>\n",
       "      <td>0.000000</td>\n",
       "      <td>0.000000</td>\n",
       "      <td>...</td>\n",
       "      <td>0.000000</td>\n",
       "      <td>0.000000</td>\n",
       "      <td>0.000000</td>\n",
       "      <td>0.000000</td>\n",
       "      <td>0.000000</td>\n",
       "      <td>0.000000</td>\n",
       "      <td>0.000000</td>\n",
       "      <td>0.000000</td>\n",
       "      <td>0.000000</td>\n",
       "      <td>0.000000</td>\n",
       "    </tr>\n",
       "  </tbody>\n",
       "</table>\n",
       "<p>23 rows × 23 columns</p>\n",
       "</div>"
      ],
      "text/plain": [
       "         #START#    B-ADVP      B-PP   B-CONJP      I-VP    B-SBAR      B-NP  \\\n",
       "#START#      0.0  0.054287  0.108704  0.000261  0.000000  0.022576  0.648049   \n",
       "B-ADVP       0.0  0.016269  0.170547  0.000561  0.000000  0.016269  0.210379   \n",
       "B-PP         0.0  0.003318  0.018491  0.000000  0.000000  0.000979  0.928047   \n",
       "B-CONJP      0.0  0.000000  0.000000  0.000000  0.000000  0.000000  0.000000   \n",
       "I-VP         0.0  0.037602  0.148341  0.000197  0.327887  0.013190  0.355350   \n",
       "B-SBAR       0.0  0.008952  0.014218  0.000000  0.000000  0.008425  0.872565   \n",
       "B-NP         0.0  0.009809  0.058007  0.000085  0.000000  0.003403  0.028898   \n",
       "B-ADJP       0.0  0.015991  0.244432  0.000000  0.000000  0.037693  0.051970   \n",
       "I-SBAR       0.0  0.000000  0.020833  0.000000  0.000000  0.000000  0.958333   \n",
       "I-ADVP       0.0  0.030303  0.154270  0.000000  0.000000  0.079890  0.187328   \n",
       "I-UCP        0.0  0.000000  0.000000  0.000000  0.000000  0.000000  0.250000   \n",
       "B-UCP        0.0  0.000000  0.000000  0.000000  0.000000  0.000000  0.000000   \n",
       "B-INTJ       0.0  0.038462  0.038462  0.000000  0.000000  0.000000  0.038462   \n",
       "B-VP         0.0  0.031214  0.098735  0.000164  0.373912  0.025574  0.345217   \n",
       "I-ADJP       0.0  0.013937  0.285714  0.000000  0.000000  0.060976  0.088850   \n",
       "I-CONJP      0.0  0.000000  0.109375  0.000000  0.000000  0.000000  0.437500   \n",
       "I-PP         0.0  0.004484  0.062780  0.000000  0.000000  0.000000  0.784753   \n",
       "I-NP         0.0  0.015332  0.156509  0.000201  0.000000  0.006375  0.047645   \n",
       "O            0.0  0.029197  0.050142  0.001047  0.000000  0.016128  0.347185   \n",
       "I-INTJ       0.0  0.000000  0.000000  0.000000  0.000000  0.000000  0.000000   \n",
       "B-LST        0.0  0.000000  0.000000  0.000000  0.000000  0.000000  0.000000   \n",
       "B-PRT        0.0  0.029915  0.241453  0.000000  0.000000  0.019231  0.506410   \n",
       "#END#        0.0  0.000000  0.000000  0.000000  0.000000  0.000000  0.000000   \n",
       "\n",
       "           B-ADJP    I-SBAR    I-ADVP  ...      B-VP    I-ADJP   I-CONJP  \\\n",
       "#START#  0.003262  0.000000  0.000000  ...  0.018661  0.000000  0.000000   \n",
       "B-ADVP   0.016550  0.000000  0.086957  ...  0.215989  0.000000  0.000000   \n",
       "B-PP     0.002611  0.000000  0.000000  ...  0.026595  0.000000  0.000000   \n",
       "B-CONJP  0.000000  0.000000  0.000000  ...  0.000000  0.000000  0.938776   \n",
       "I-VP     0.029038  0.000000  0.000000  ...  0.008269  0.000000  0.000000   \n",
       "B-SBAR   0.003160  0.025276  0.000000  ...  0.038441  0.000000  0.000000   \n",
       "B-NP     0.003213  0.000000  0.000000  ...  0.130303  0.000000  0.000000   \n",
       "B-ADJP   0.001142  0.000000  0.000000  ...  0.110794  0.279840  0.000000   \n",
       "I-SBAR   0.000000  0.000000  0.000000  ...  0.020833  0.000000  0.000000   \n",
       "I-ADVP   0.016529  0.000000  0.146006  ...  0.057851  0.000000  0.000000   \n",
       "I-UCP    0.000000  0.000000  0.000000  ...  0.000000  0.000000  0.000000   \n",
       "B-UCP    0.000000  0.000000  0.000000  ...  0.000000  0.000000  0.000000   \n",
       "B-INTJ   0.000000  0.000000  0.000000  ...  0.076923  0.000000  0.000000   \n",
       "B-VP     0.039209  0.000000  0.000000  ...  0.007229  0.000000  0.000000   \n",
       "I-ADJP   0.012195  0.000000  0.000000  ...  0.069686  0.146341  0.000000   \n",
       "I-CONJP  0.000000  0.000000  0.000000  ...  0.156250  0.000000  0.281250   \n",
       "I-PP     0.004484  0.000000  0.000000  ...  0.031390  0.000000  0.000000   \n",
       "I-NP     0.004103  0.000000  0.000000  ...  0.134912  0.000000  0.000000   \n",
       "O        0.008755  0.000000  0.000000  ...  0.115030  0.000000  0.000000   \n",
       "I-INTJ   0.000000  0.000000  0.000000  ...  0.000000  0.000000  0.000000   \n",
       "B-LST    0.000000  0.000000  0.000000  ...  0.000000  0.000000  0.000000   \n",
       "B-PRT    0.002137  0.000000  0.000000  ...  0.042735  0.000000  0.000000   \n",
       "#END#    0.000000  0.000000  0.000000  ...  0.000000  0.000000  0.000000   \n",
       "\n",
       "             I-PP      I-NP         O    I-INTJ     B-LST     B-PRT     #END#  \n",
       "#START#  0.000000  0.000000  0.141850  0.000000  0.001044  0.000000  0.000000  \n",
       "B-ADVP   0.000000  0.000000  0.265358  0.000000  0.000000  0.000281  0.000842  \n",
       "B-PP     0.011258  0.000000  0.008484  0.000000  0.000000  0.000000  0.000218  \n",
       "B-CONJP  0.000000  0.000000  0.061224  0.000000  0.000000  0.000000  0.000000  \n",
       "I-VP     0.000000  0.000000  0.056698  0.000000  0.000000  0.023329  0.000098  \n",
       "B-SBAR   0.000000  0.000000  0.028436  0.000000  0.000527  0.000000  0.000000  \n",
       "B-NP     0.000000  0.684706  0.080964  0.000000  0.000000  0.000359  0.000233  \n",
       "B-ADJP   0.000000  0.000000  0.256996  0.000000  0.000000  0.000571  0.000571  \n",
       "I-SBAR   0.000000  0.000000  0.000000  0.000000  0.000000  0.000000  0.000000  \n",
       "I-ADVP   0.000000  0.000000  0.327824  0.000000  0.000000  0.000000  0.000000  \n",
       "I-UCP    0.000000  0.000000  0.000000  0.000000  0.000000  0.000000  0.000000  \n",
       "B-UCP    0.000000  0.000000  0.000000  0.000000  0.000000  0.000000  0.000000  \n",
       "B-INTJ   0.000000  0.000000  0.615385  0.192308  0.000000  0.000000  0.000000  \n",
       "B-VP     0.000000  0.000000  0.067411  0.000000  0.000000  0.011171  0.000055  \n",
       "I-ADJP   0.000000  0.000000  0.320557  0.000000  0.000000  0.000000  0.001742  \n",
       "I-CONJP  0.000000  0.000000  0.015625  0.000000  0.000000  0.000000  0.000000  \n",
       "I-PP     0.071749  0.000000  0.040359  0.000000  0.000000  0.000000  0.000000  \n",
       "I-NP     0.000000  0.406679  0.227327  0.000000  0.000000  0.000128  0.000788  \n",
       "O        0.000000  0.000000  0.113522  0.000000  0.000084  0.000042  0.318281  \n",
       "I-INTJ   0.000000  0.000000  0.714286  0.285714  0.000000  0.000000  0.000000  \n",
       "B-LST    0.000000  0.000000  1.000000  0.000000  0.000000  0.000000  0.000000  \n",
       "B-PRT    0.000000  0.000000  0.158120  0.000000  0.000000  0.000000  0.000000  \n",
       "#END#    0.000000  0.000000  0.000000  0.000000  0.000000  0.000000  0.000000  \n",
       "\n",
       "[23 rows x 23 columns]"
      ]
     },
     "execution_count": 10,
     "metadata": {},
     "output_type": "execute_result"
    }
   ],
   "source": [
    "EN.transition_matrix"
   ]
  },
  {
   "cell_type": "code",
   "execution_count": 11,
   "metadata": {},
   "outputs": [
    {
     "data": {
      "text/plain": [
       "0.6480490669450607"
      ]
     },
     "execution_count": 11,
     "metadata": {},
     "output_type": "execute_result"
    }
   ],
   "source": [
    "EN.transition_matrix.loc['#START#','B-NP']"
   ]
  },
  {
   "cell_type": "code",
   "execution_count": 72,
   "metadata": {},
   "outputs": [],
   "source": [
    "def log(m):\n",
    "    m = np.clip(m, 1e-32, None)\n",
    "    x = np.log(m)\n",
    "    return x"
   ]
  },
  {
   "cell_type": "code",
   "execution_count": 205,
   "metadata": {},
   "outputs": [],
   "source": [
    "def vertebi_k(word_arr,Hmm,k=7):\n",
    "    \"\"\"\n",
    "    Followed pseudocode here\n",
    "    https://en.wikipedia.org/wiki/Viterbi_algorithm#Pseudocode\n",
    "    \"\"\"\n",
    "    S = Hmm.tag_ls[1:-1] #set of all possible tags remove #START# and #STOP#\n",
    "    \n",
    "    A = Hmm.transition_matrix.values[1:-1,1:-1] # A(tag_u_vector,tag_v)\n",
    "    B = Hmm.em_matrix[1:-1] # B(tag_u->word)\n",
    "    \n",
    "    T = len(S) # Total number unique tags\n",
    "    N = len(word_arr) # Length of sentence make sure no #START# and #STOP#\n",
    "    \n",
    "    T1 = np.zeros((T,N,k)) #probability table of most possible path to node i.e. store scores of each node\n",
    "    T2 = np.zeros((T,N,2)) # Table of paths where the ith row stores highest scoring paths to T1[i,j]\n",
    "    \n",
    "    #Handle first word and base case at the same time\n",
    "    word = word_arr[0]\n",
    "    if word not in Hmm.words:\n",
    "        word = '#UNK#'\n",
    "        \n",
    "    T1[:,0,:] = log(Hmm.transition_matrix.loc['#START#'][1:-1].values*B[word].values)[:,None]\n",
    "    \n",
    "    #Note A is vector operation\n",
    "    # Fill up each column by using previous column\n",
    "    # j is position of word\n",
    "    for j in range(1,N):\n",
    "        # i is position of tag\n",
    "        #ignore #START# and #END# tag when looping\n",
    "        word = word_arr[j]\n",
    "        if word not in Hmm.words:\n",
    "            word = '#UNK#'\n",
    "        for i in range(T):\n",
    "#             print((T1[:,j-1]+log(A[:,i]*B.loc[S[i],word])[:,None]).shape)\n",
    "#             print(np.sort(T1[:,j-1]+log(A[:,i]*B.loc[S[i],word])[:,None],axis=0)[::-1].shape)\n",
    "            T1[i][j] = np.sort((T1[:,j-1]+log(A[:,i]*B.loc[S[i],word])[:,None]).ravel())[::-1][:k]\n",
    "            T2[i,j,:] = np.dstack(np.unravel_index(np.argsort((T1[:,j-1]+log(A[:,i])[:,None]).ravel()),(T,k)))[0][::-1][:k]\n",
    "            \n",
    "#             T1[i][j] = np.sort(T1[:,j-1]+log(A[:,i]*B.loc[S[i],word]))[::-1][:k]\n",
    "#             T2[i][j] = np.argsort(T1[:,j-1]+log(A[:,i]))[::-1][:k]\n",
    "        \n",
    "    #handle last word to #END#\n",
    "    #no emission of #END# \n",
    "#     print(T1)\n",
    "#     print(T2)\n",
    "\n",
    "    best_row = np.argmax(T1[:,N-1]+log(Hmm.transition_matrix['#END#'].values[1:-1]))\n",
    "    ans=[]\n",
    "    curr_index = best_row\n",
    "    ans.append(S[curr_index])\n",
    "    for j in range(N-1,0,-1):\n",
    "        prev_index = T2[int(curr_index)][j]\n",
    "        ans.append(S[int(prev_index)])\n",
    "        curr_index = prev_index\n",
    "#         print(S[j])\n",
    "    ans = ans[::-1]\n",
    "#     print(T1)\n",
    "    return ans"
   ]
  },
  {
   "cell_type": "code",
   "execution_count": 206,
   "metadata": {},
   "outputs": [
    {
     "data": {
      "text/plain": [
       "8"
      ]
     },
     "execution_count": 206,
     "metadata": {},
     "output_type": "execute_result"
    }
   ],
   "source": [
    "word = \"Trump is the best president in the world\".split(' ')\n",
    "len(word)"
   ]
  },
  {
   "cell_type": "code",
   "execution_count": 207,
   "metadata": {
    "scrolled": false
   },
   "outputs": [
    {
     "ename": "ValueError",
     "evalue": "could not broadcast input array from shape (7,2) into shape (2)",
     "output_type": "error",
     "traceback": [
      "\u001b[1;31m---------------------------------------------------------------------------\u001b[0m",
      "\u001b[1;31mValueError\u001b[0m                                Traceback (most recent call last)",
      "\u001b[1;32m<ipython-input-207-da3cac8b8888>\u001b[0m in \u001b[0;36m<module>\u001b[1;34m\u001b[0m\n\u001b[1;32m----> 1\u001b[1;33m \u001b[0mvertebi_k\u001b[0m\u001b[1;33m(\u001b[0m\u001b[0mword\u001b[0m\u001b[1;33m,\u001b[0m\u001b[0mEN\u001b[0m\u001b[1;33m)\u001b[0m\u001b[1;33m\u001b[0m\u001b[1;33m\u001b[0m\u001b[0m\n\u001b[0m",
      "\u001b[1;32m<ipython-input-205-9771f1048b19>\u001b[0m in \u001b[0;36mvertebi_k\u001b[1;34m(word_arr, Hmm, k)\u001b[0m\n\u001b[0;32m     35\u001b[0m \u001b[1;31m#             print(np.sort(T1[:,j-1]+log(A[:,i]*B.loc[S[i],word])[:,None],axis=0)[::-1].shape)\u001b[0m\u001b[1;33m\u001b[0m\u001b[1;33m\u001b[0m\u001b[1;33m\u001b[0m\u001b[0m\n\u001b[0;32m     36\u001b[0m             \u001b[0mT1\u001b[0m\u001b[1;33m[\u001b[0m\u001b[0mi\u001b[0m\u001b[1;33m]\u001b[0m\u001b[1;33m[\u001b[0m\u001b[0mj\u001b[0m\u001b[1;33m]\u001b[0m \u001b[1;33m=\u001b[0m \u001b[0mnp\u001b[0m\u001b[1;33m.\u001b[0m\u001b[0msort\u001b[0m\u001b[1;33m(\u001b[0m\u001b[1;33m(\u001b[0m\u001b[0mT1\u001b[0m\u001b[1;33m[\u001b[0m\u001b[1;33m:\u001b[0m\u001b[1;33m,\u001b[0m\u001b[0mj\u001b[0m\u001b[1;33m-\u001b[0m\u001b[1;36m1\u001b[0m\u001b[1;33m]\u001b[0m\u001b[1;33m+\u001b[0m\u001b[0mlog\u001b[0m\u001b[1;33m(\u001b[0m\u001b[0mA\u001b[0m\u001b[1;33m[\u001b[0m\u001b[1;33m:\u001b[0m\u001b[1;33m,\u001b[0m\u001b[0mi\u001b[0m\u001b[1;33m]\u001b[0m\u001b[1;33m*\u001b[0m\u001b[0mB\u001b[0m\u001b[1;33m.\u001b[0m\u001b[0mloc\u001b[0m\u001b[1;33m[\u001b[0m\u001b[0mS\u001b[0m\u001b[1;33m[\u001b[0m\u001b[0mi\u001b[0m\u001b[1;33m]\u001b[0m\u001b[1;33m,\u001b[0m\u001b[0mword\u001b[0m\u001b[1;33m]\u001b[0m\u001b[1;33m)\u001b[0m\u001b[1;33m[\u001b[0m\u001b[1;33m:\u001b[0m\u001b[1;33m,\u001b[0m\u001b[1;32mNone\u001b[0m\u001b[1;33m]\u001b[0m\u001b[1;33m)\u001b[0m\u001b[1;33m.\u001b[0m\u001b[0mravel\u001b[0m\u001b[1;33m(\u001b[0m\u001b[1;33m)\u001b[0m\u001b[1;33m)\u001b[0m\u001b[1;33m[\u001b[0m\u001b[1;33m:\u001b[0m\u001b[1;33m:\u001b[0m\u001b[1;33m-\u001b[0m\u001b[1;36m1\u001b[0m\u001b[1;33m]\u001b[0m\u001b[1;33m[\u001b[0m\u001b[1;33m:\u001b[0m\u001b[0mk\u001b[0m\u001b[1;33m]\u001b[0m\u001b[1;33m\u001b[0m\u001b[1;33m\u001b[0m\u001b[0m\n\u001b[1;32m---> 37\u001b[1;33m             \u001b[0mT2\u001b[0m\u001b[1;33m[\u001b[0m\u001b[0mi\u001b[0m\u001b[1;33m,\u001b[0m\u001b[0mj\u001b[0m\u001b[1;33m,\u001b[0m\u001b[1;33m:\u001b[0m\u001b[1;33m]\u001b[0m \u001b[1;33m=\u001b[0m \u001b[0mnp\u001b[0m\u001b[1;33m.\u001b[0m\u001b[0mdstack\u001b[0m\u001b[1;33m(\u001b[0m\u001b[0mnp\u001b[0m\u001b[1;33m.\u001b[0m\u001b[0munravel_index\u001b[0m\u001b[1;33m(\u001b[0m\u001b[0mnp\u001b[0m\u001b[1;33m.\u001b[0m\u001b[0margsort\u001b[0m\u001b[1;33m(\u001b[0m\u001b[1;33m(\u001b[0m\u001b[0mT1\u001b[0m\u001b[1;33m[\u001b[0m\u001b[1;33m:\u001b[0m\u001b[1;33m,\u001b[0m\u001b[0mj\u001b[0m\u001b[1;33m-\u001b[0m\u001b[1;36m1\u001b[0m\u001b[1;33m]\u001b[0m\u001b[1;33m+\u001b[0m\u001b[0mlog\u001b[0m\u001b[1;33m(\u001b[0m\u001b[0mA\u001b[0m\u001b[1;33m[\u001b[0m\u001b[1;33m:\u001b[0m\u001b[1;33m,\u001b[0m\u001b[0mi\u001b[0m\u001b[1;33m]\u001b[0m\u001b[1;33m)\u001b[0m\u001b[1;33m[\u001b[0m\u001b[1;33m:\u001b[0m\u001b[1;33m,\u001b[0m\u001b[1;32mNone\u001b[0m\u001b[1;33m]\u001b[0m\u001b[1;33m)\u001b[0m\u001b[1;33m.\u001b[0m\u001b[0mravel\u001b[0m\u001b[1;33m(\u001b[0m\u001b[1;33m)\u001b[0m\u001b[1;33m)\u001b[0m\u001b[1;33m,\u001b[0m\u001b[1;33m(\u001b[0m\u001b[0mT\u001b[0m\u001b[1;33m,\u001b[0m\u001b[0mk\u001b[0m\u001b[1;33m)\u001b[0m\u001b[1;33m)\u001b[0m\u001b[1;33m)\u001b[0m\u001b[1;33m[\u001b[0m\u001b[1;36m0\u001b[0m\u001b[1;33m]\u001b[0m\u001b[1;33m[\u001b[0m\u001b[1;33m:\u001b[0m\u001b[1;33m:\u001b[0m\u001b[1;33m-\u001b[0m\u001b[1;36m1\u001b[0m\u001b[1;33m]\u001b[0m\u001b[1;33m[\u001b[0m\u001b[1;33m:\u001b[0m\u001b[0mk\u001b[0m\u001b[1;33m]\u001b[0m\u001b[1;33m\u001b[0m\u001b[1;33m\u001b[0m\u001b[0m\n\u001b[0m\u001b[0;32m     38\u001b[0m \u001b[1;33m\u001b[0m\u001b[0m\n\u001b[0;32m     39\u001b[0m \u001b[1;31m#             T1[i][j] = np.sort(T1[:,j-1]+log(A[:,i]*B.loc[S[i],word]))[::-1][:k]\u001b[0m\u001b[1;33m\u001b[0m\u001b[1;33m\u001b[0m\u001b[1;33m\u001b[0m\u001b[0m\n",
      "\u001b[1;31mValueError\u001b[0m: could not broadcast input array from shape (7,2) into shape (2)"
     ]
    }
   ],
   "source": [
    "vertebi_k(word,EN)"
   ]
  },
  {
   "cell_type": "code",
   "execution_count": 40,
   "metadata": {},
   "outputs": [],
   "source": [
    "LANG = ['AL','CN','EN','SG']\n",
    "eval_params = lambda lang: {'devin':f'./{lang}/dev.in','devout':f'./{lang}/dev.p3.out','ground_truth':f'./{lang}/dev.out','trainfile':f'./{lang}/train'}"
   ]
  },
  {
   "cell_type": "code",
   "execution_count": 41,
   "metadata": {},
   "outputs": [],
   "source": [
    "import os\n",
    "def pred_out(devin,devout,ground_truth,trainfile):\n",
    "    H = Hmm(trainfile)\n",
    "    file_object = open(devin, \"r\",encoding='UTF-8',)\n",
    "    ls=[[]]\n",
    "    index=0\n",
    "    test=[]\n",
    "    for line in file_object:\n",
    "        test.append(line.strip())\n",
    "        if (line.strip()==\"\"):\n",
    "            ls.append([])\n",
    "            index+=1\n",
    "        else:\n",
    "            ls[index].append(line.strip())\n",
    "    ls.pop(-1)\n",
    "    df = pd.DataFrame(test, columns = ['Word'])\n",
    "    \n",
    "    from tqdm.notebook import tqdm\n",
    "    predict=[]\n",
    "    for i in tqdm(ls):\n",
    "        for j in vertebi_k(i,H):\n",
    "            predict.append(j)\n",
    "        predict.append(\"\")\n",
    "    df['Tag'] = predict\n",
    "    \n",
    "    df.to_csv(devout, sep=\" \", index=False, header=False)\n",
    "    \n",
    "    if os.name == 'nt':#if it is on windows\n",
    "        !python ./EvalScript/evalResult.py {ground_truth} {devout}\n",
    "    else:\n",
    "        !python3 ./EvalScript/evalResult.py {ground_truth} {devout}"
   ]
  },
  {
   "cell_type": "code",
   "execution_count": 42,
   "metadata": {
    "scrolled": false
   },
   "outputs": [
    {
     "name": "stdout",
     "output_type": "stream",
     "text": [
      "AL\n"
     ]
    },
    {
     "data": {
      "application/vnd.jupyter.widget-view+json": {
       "model_id": "279fc053acf341cd8457b6fa8f6f63c0",
       "version_major": 2,
       "version_minor": 0
      },
      "text/plain": [
       "HBox(children=(IntProgress(value=0, max=1492), HTML(value='')))"
      ]
     },
     "metadata": {},
     "output_type": "display_data"
    },
    {
     "name": "stdout",
     "output_type": "stream",
     "text": [
      "\n",
      "\n",
      "#Entity in gold data: 8408\n",
      "#Entity in prediction: 8498\n",
      "\n",
      "#Correct Entity : 6740\n",
      "Entity  precision: 0.7931\n",
      "Entity  recall: 0.8016\n",
      "Entity  F: 0.7974\n",
      "\n",
      "#Correct Sentiment : 6087\n",
      "Sentiment  precision: 0.7163\n",
      "Sentiment  recall: 0.7240\n",
      "Sentiment  F: 0.7201\n",
      "---------------------------------\n",
      "CN\n"
     ]
    },
    {
     "data": {
      "application/vnd.jupyter.widget-view+json": {
       "model_id": "01c7c387c9164be085fab024f0807faa",
       "version_major": 2,
       "version_minor": 0
      },
      "text/plain": [
       "HBox(children=(IntProgress(value=0, max=642), HTML(value='')))"
      ]
     },
     "metadata": {},
     "output_type": "display_data"
    },
    {
     "ename": "KeyboardInterrupt",
     "evalue": "",
     "output_type": "error",
     "traceback": [
      "\u001b[1;31m---------------------------------------------------------------------------\u001b[0m",
      "\u001b[1;31mKeyboardInterrupt\u001b[0m                         Traceback (most recent call last)",
      "\u001b[1;32m<ipython-input-42-dd16bcca5f51>\u001b[0m in \u001b[0;36m<module>\u001b[1;34m\u001b[0m\n\u001b[0;32m      1\u001b[0m \u001b[1;32mfor\u001b[0m \u001b[0mlang\u001b[0m \u001b[1;32min\u001b[0m \u001b[0mLANG\u001b[0m\u001b[1;33m:\u001b[0m\u001b[1;33m\u001b[0m\u001b[1;33m\u001b[0m\u001b[0m\n\u001b[0;32m      2\u001b[0m     \u001b[0mprint\u001b[0m\u001b[1;33m(\u001b[0m\u001b[0mlang\u001b[0m\u001b[1;33m)\u001b[0m\u001b[1;33m\u001b[0m\u001b[1;33m\u001b[0m\u001b[0m\n\u001b[1;32m----> 3\u001b[1;33m     \u001b[0mpred_out\u001b[0m\u001b[1;33m(\u001b[0m\u001b[1;33m**\u001b[0m\u001b[0meval_params\u001b[0m\u001b[1;33m(\u001b[0m\u001b[0mlang\u001b[0m\u001b[1;33m)\u001b[0m\u001b[1;33m)\u001b[0m\u001b[1;33m\u001b[0m\u001b[1;33m\u001b[0m\u001b[0m\n\u001b[0m\u001b[0;32m      4\u001b[0m     \u001b[0mprint\u001b[0m\u001b[1;33m(\u001b[0m\u001b[1;34m'---------------------------------'\u001b[0m\u001b[1;33m)\u001b[0m\u001b[1;33m\u001b[0m\u001b[1;33m\u001b[0m\u001b[0m\n",
      "\u001b[1;32m<ipython-input-41-d06ccb67fe56>\u001b[0m in \u001b[0;36mpred_out\u001b[1;34m(devin, devout, ground_truth, trainfile)\u001b[0m\n\u001b[0;32m     19\u001b[0m     \u001b[0mpredict\u001b[0m\u001b[1;33m=\u001b[0m\u001b[1;33m[\u001b[0m\u001b[1;33m]\u001b[0m\u001b[1;33m\u001b[0m\u001b[1;33m\u001b[0m\u001b[0m\n\u001b[0;32m     20\u001b[0m     \u001b[1;32mfor\u001b[0m \u001b[0mi\u001b[0m \u001b[1;32min\u001b[0m \u001b[0mtqdm\u001b[0m\u001b[1;33m(\u001b[0m\u001b[0mls\u001b[0m\u001b[1;33m)\u001b[0m\u001b[1;33m:\u001b[0m\u001b[1;33m\u001b[0m\u001b[1;33m\u001b[0m\u001b[0m\n\u001b[1;32m---> 21\u001b[1;33m         \u001b[1;32mfor\u001b[0m \u001b[0mj\u001b[0m \u001b[1;32min\u001b[0m \u001b[0mvertebi_k\u001b[0m\u001b[1;33m(\u001b[0m\u001b[0mi\u001b[0m\u001b[1;33m,\u001b[0m\u001b[0mH\u001b[0m\u001b[1;33m)\u001b[0m\u001b[1;33m:\u001b[0m\u001b[1;33m\u001b[0m\u001b[1;33m\u001b[0m\u001b[0m\n\u001b[0m\u001b[0;32m     22\u001b[0m             \u001b[0mpredict\u001b[0m\u001b[1;33m.\u001b[0m\u001b[0mappend\u001b[0m\u001b[1;33m(\u001b[0m\u001b[0mj\u001b[0m\u001b[1;33m)\u001b[0m\u001b[1;33m\u001b[0m\u001b[1;33m\u001b[0m\u001b[0m\n\u001b[0;32m     23\u001b[0m         \u001b[0mpredict\u001b[0m\u001b[1;33m.\u001b[0m\u001b[0mappend\u001b[0m\u001b[1;33m(\u001b[0m\u001b[1;34m\"\"\u001b[0m\u001b[1;33m)\u001b[0m\u001b[1;33m\u001b[0m\u001b[1;33m\u001b[0m\u001b[0m\n",
      "\u001b[1;32m<ipython-input-37-d24a73b98bf2>\u001b[0m in \u001b[0;36mvertebi_k\u001b[1;34m(word_arr, Hmm, k)\u001b[0m\n\u001b[0;32m     33\u001b[0m         \u001b[1;32mfor\u001b[0m \u001b[0mi\u001b[0m \u001b[1;32min\u001b[0m \u001b[0mrange\u001b[0m\u001b[1;33m(\u001b[0m\u001b[0mT\u001b[0m\u001b[1;33m)\u001b[0m\u001b[1;33m:\u001b[0m\u001b[1;33m\u001b[0m\u001b[1;33m\u001b[0m\u001b[0m\n\u001b[0;32m     34\u001b[0m             \u001b[0mT1\u001b[0m\u001b[1;33m[\u001b[0m\u001b[0mi\u001b[0m\u001b[1;33m]\u001b[0m\u001b[1;33m[\u001b[0m\u001b[0mj\u001b[0m\u001b[1;33m]\u001b[0m \u001b[1;33m=\u001b[0m \u001b[0mnp\u001b[0m\u001b[1;33m.\u001b[0m\u001b[0mmax\u001b[0m\u001b[1;33m(\u001b[0m\u001b[0mT1\u001b[0m\u001b[1;33m[\u001b[0m\u001b[1;33m:\u001b[0m\u001b[1;33m,\u001b[0m\u001b[0mj\u001b[0m\u001b[1;33m-\u001b[0m\u001b[1;36m1\u001b[0m\u001b[1;33m]\u001b[0m\u001b[1;33m+\u001b[0m\u001b[0mlog\u001b[0m\u001b[1;33m(\u001b[0m\u001b[0mA\u001b[0m\u001b[1;33m[\u001b[0m\u001b[1;33m:\u001b[0m\u001b[1;33m,\u001b[0m\u001b[0mi\u001b[0m\u001b[1;33m]\u001b[0m\u001b[1;33m*\u001b[0m\u001b[0mB\u001b[0m\u001b[1;33m.\u001b[0m\u001b[0mloc\u001b[0m\u001b[1;33m[\u001b[0m\u001b[0mS\u001b[0m\u001b[1;33m[\u001b[0m\u001b[0mi\u001b[0m\u001b[1;33m]\u001b[0m\u001b[1;33m,\u001b[0m\u001b[0mword\u001b[0m\u001b[1;33m]\u001b[0m\u001b[1;33m)\u001b[0m\u001b[1;33m)\u001b[0m\u001b[1;33m\u001b[0m\u001b[1;33m\u001b[0m\u001b[0m\n\u001b[1;32m---> 35\u001b[1;33m             \u001b[0mT2\u001b[0m\u001b[1;33m[\u001b[0m\u001b[0mi\u001b[0m\u001b[1;33m]\u001b[0m\u001b[1;33m[\u001b[0m\u001b[0mj\u001b[0m\u001b[1;33m]\u001b[0m \u001b[1;33m=\u001b[0m \u001b[0mnp\u001b[0m\u001b[1;33m.\u001b[0m\u001b[0margmax\u001b[0m\u001b[1;33m(\u001b[0m\u001b[0mT1\u001b[0m\u001b[1;33m[\u001b[0m\u001b[1;33m:\u001b[0m\u001b[1;33m,\u001b[0m\u001b[0mj\u001b[0m\u001b[1;33m-\u001b[0m\u001b[1;36m1\u001b[0m\u001b[1;33m]\u001b[0m\u001b[1;33m+\u001b[0m\u001b[0mlog\u001b[0m\u001b[1;33m(\u001b[0m\u001b[0mA\u001b[0m\u001b[1;33m[\u001b[0m\u001b[1;33m:\u001b[0m\u001b[1;33m,\u001b[0m\u001b[0mi\u001b[0m\u001b[1;33m]\u001b[0m\u001b[1;33m)\u001b[0m\u001b[1;33m)\u001b[0m\u001b[1;33m\u001b[0m\u001b[1;33m\u001b[0m\u001b[0m\n\u001b[0m\u001b[0;32m     36\u001b[0m \u001b[1;33m\u001b[0m\u001b[0m\n\u001b[0;32m     37\u001b[0m     \u001b[1;31m#handle last word to #END#\u001b[0m\u001b[1;33m\u001b[0m\u001b[1;33m\u001b[0m\u001b[1;33m\u001b[0m\u001b[0m\n",
      "\u001b[1;32m<__array_function__ internals>\u001b[0m in \u001b[0;36margmax\u001b[1;34m(*args, **kwargs)\u001b[0m\n",
      "\u001b[1;32m~\\Anaconda3\\lib\\site-packages\\numpy\\core\\fromnumeric.py\u001b[0m in \u001b[0;36margmax\u001b[1;34m(a, axis, out)\u001b[0m\n\u001b[0;32m   1151\u001b[0m \u001b[1;33m\u001b[0m\u001b[0m\n\u001b[0;32m   1152\u001b[0m     \"\"\"\n\u001b[1;32m-> 1153\u001b[1;33m     \u001b[1;32mreturn\u001b[0m \u001b[0m_wrapfunc\u001b[0m\u001b[1;33m(\u001b[0m\u001b[0ma\u001b[0m\u001b[1;33m,\u001b[0m \u001b[1;34m'argmax'\u001b[0m\u001b[1;33m,\u001b[0m \u001b[0maxis\u001b[0m\u001b[1;33m=\u001b[0m\u001b[0maxis\u001b[0m\u001b[1;33m,\u001b[0m \u001b[0mout\u001b[0m\u001b[1;33m=\u001b[0m\u001b[0mout\u001b[0m\u001b[1;33m)\u001b[0m\u001b[1;33m\u001b[0m\u001b[1;33m\u001b[0m\u001b[0m\n\u001b[0m\u001b[0;32m   1154\u001b[0m \u001b[1;33m\u001b[0m\u001b[0m\n\u001b[0;32m   1155\u001b[0m \u001b[1;33m\u001b[0m\u001b[0m\n",
      "\u001b[1;32m~\\Anaconda3\\lib\\site-packages\\numpy\\core\\fromnumeric.py\u001b[0m in \u001b[0;36m_wrapfunc\u001b[1;34m(obj, method, *args, **kwds)\u001b[0m\n\u001b[0;32m     59\u001b[0m \u001b[1;33m\u001b[0m\u001b[0m\n\u001b[0;32m     60\u001b[0m     \u001b[1;32mtry\u001b[0m\u001b[1;33m:\u001b[0m\u001b[1;33m\u001b[0m\u001b[1;33m\u001b[0m\u001b[0m\n\u001b[1;32m---> 61\u001b[1;33m         \u001b[1;32mreturn\u001b[0m \u001b[0mbound\u001b[0m\u001b[1;33m(\u001b[0m\u001b[1;33m*\u001b[0m\u001b[0margs\u001b[0m\u001b[1;33m,\u001b[0m \u001b[1;33m**\u001b[0m\u001b[0mkwds\u001b[0m\u001b[1;33m)\u001b[0m\u001b[1;33m\u001b[0m\u001b[1;33m\u001b[0m\u001b[0m\n\u001b[0m\u001b[0;32m     62\u001b[0m     \u001b[1;32mexcept\u001b[0m \u001b[0mTypeError\u001b[0m\u001b[1;33m:\u001b[0m\u001b[1;33m\u001b[0m\u001b[1;33m\u001b[0m\u001b[0m\n\u001b[0;32m     63\u001b[0m         \u001b[1;31m# A TypeError occurs if the object does have such a method in its\u001b[0m\u001b[1;33m\u001b[0m\u001b[1;33m\u001b[0m\u001b[1;33m\u001b[0m\u001b[0m\n",
      "\u001b[1;31mKeyboardInterrupt\u001b[0m: "
     ]
    }
   ],
   "source": [
    "for lang in LANG:\n",
    "    print(lang)\n",
    "    pred_out(**eval_params(lang))\n",
    "    print('---------------------------------')"
   ]
  },
  {
   "cell_type": "code",
   "execution_count": 62,
   "metadata": {},
   "outputs": [],
   "source": [
    "a = np.random.rand(3,3)"
   ]
  },
  {
   "cell_type": "code",
   "execution_count": 63,
   "metadata": {},
   "outputs": [
    {
     "data": {
      "text/plain": [
       "array([[0.58554262, 0.15672213, 0.05409078],\n",
       "       [0.25433011, 0.13347871, 0.17217374],\n",
       "       [0.37576197, 0.75958957, 0.09796061]])"
      ]
     },
     "execution_count": 63,
     "metadata": {},
     "output_type": "execute_result"
    }
   ],
   "source": [
    "a"
   ]
  },
  {
   "cell_type": "code",
   "execution_count": 79,
   "metadata": {},
   "outputs": [
    {
     "data": {
      "text/plain": [
       "array([[[0.58554262, 0.58554262, 0.58554262, 0.58554262, 0.58554262,\n",
       "         0.58554262, 0.58554262],\n",
       "        [0.15672213, 0.15672213, 0.15672213, 0.15672213, 0.15672213,\n",
       "         0.15672213, 0.15672213],\n",
       "        [0.05409078, 0.05409078, 0.05409078, 0.05409078, 0.05409078,\n",
       "         0.05409078, 0.05409078]],\n",
       "\n",
       "       [[0.25433011, 0.25433011, 0.25433011, 0.25433011, 0.25433011,\n",
       "         0.25433011, 0.25433011],\n",
       "        [0.13347871, 0.13347871, 0.13347871, 0.13347871, 0.13347871,\n",
       "         0.13347871, 0.13347871],\n",
       "        [0.17217374, 0.17217374, 0.17217374, 0.17217374, 0.17217374,\n",
       "         0.17217374, 0.17217374]],\n",
       "\n",
       "       [[0.37576197, 0.37576197, 0.37576197, 0.37576197, 0.37576197,\n",
       "         0.37576197, 0.37576197],\n",
       "        [0.75958957, 0.75958957, 0.75958957, 0.75958957, 0.75958957,\n",
       "         0.75958957, 0.75958957],\n",
       "        [0.09796061, 0.09796061, 0.09796061, 0.09796061, 0.09796061,\n",
       "         0.09796061, 0.09796061]]])"
      ]
     },
     "execution_count": 79,
     "metadata": {},
     "output_type": "execute_result"
    }
   ],
   "source": [
    "np.repeat(a[:,:,None],7,axis=2)"
   ]
  },
  {
   "cell_type": "code",
   "execution_count": 204,
   "metadata": {},
   "outputs": [],
   "source": [
    "b= np.arange(28,1,-1)"
   ]
  },
  {
   "cell_type": "code",
   "execution_count": 205,
   "metadata": {},
   "outputs": [],
   "source": [
    "b = b.reshape(3,3,3)"
   ]
  },
  {
   "cell_type": "code",
   "execution_count": 206,
   "metadata": {},
   "outputs": [
    {
     "name": "stdout",
     "output_type": "stream",
     "text": [
      "\n",
      "\n",
      "\t28 27 26 \t25 24 23 \t22 21 20 \n",
      "\n",
      "\t19 18 17 \t16 15 14 \t13 12 11 \n",
      "\n",
      "\t10 9 8 \t7 6 5 \t4 3 2 "
     ]
    }
   ],
   "source": [
    "for i in b:\n",
    "    print('\\n')\n",
    "    for j in i:\n",
    "        print('',end= '\\t')\n",
    "        for k in j:\n",
    "            print(k,end= ' ')"
   ]
  },
  {
   "cell_type": "code",
   "execution_count": 207,
   "metadata": {},
   "outputs": [],
   "source": [
    "b = np.max(b,axis=2)"
   ]
  },
  {
   "cell_type": "code",
   "execution_count": 221,
   "metadata": {},
   "outputs": [
    {
     "data": {
      "text/plain": [
       "array([[28, 25, 22],\n",
       "       [19, 16, 13],\n",
       "       [10,  7,  4]])"
      ]
     },
     "execution_count": 221,
     "metadata": {},
     "output_type": "execute_result"
    }
   ],
   "source": [
    "b"
   ]
  },
  {
   "cell_type": "code",
   "execution_count": 224,
   "metadata": {},
   "outputs": [
    {
     "data": {
      "text/plain": [
       "array([28, 25, 22, 19, 16, 13, 10,  7,  4])"
      ]
     },
     "execution_count": 224,
     "metadata": {},
     "output_type": "execute_result"
    }
   ],
   "source": [
    "b.reshape(9)"
   ]
  },
  {
   "cell_type": "code",
   "execution_count": 284,
   "metadata": {},
   "outputs": [],
   "source": [
    "b[1][1] =100"
   ]
  },
  {
   "cell_type": "code",
   "execution_count": 270,
   "metadata": {},
   "outputs": [
    {
     "data": {
      "text/plain": [
       "array([[[2, 2],\n",
       "        [2, 1],\n",
       "        [2, 0],\n",
       "        [1, 2],\n",
       "        [1, 0],\n",
       "        [0, 2],\n",
       "        [0, 1],\n",
       "        [0, 0],\n",
       "        [1, 1]]], dtype=int64)"
      ]
     },
     "execution_count": 270,
     "metadata": {},
     "output_type": "execute_result"
    }
   ],
   "source": [
    "np.dstack(np.unravel_index(b.ravel().argsort(),b.shape))"
   ]
  },
  {
   "cell_type": "code",
   "execution_count": 285,
   "metadata": {},
   "outputs": [
    {
     "data": {
      "text/plain": [
       "array([[  4,   7,  10],\n",
       "       [ 13, 100,  22],\n",
       "       [ 25,  28, 100]])"
      ]
     },
     "execution_count": 285,
     "metadata": {},
     "output_type": "execute_result"
    }
   ],
   "source": [
    "b"
   ]
  },
  {
   "cell_type": "code",
   "execution_count": 297,
   "metadata": {},
   "outputs": [
    {
     "data": {
      "text/plain": [
       "array([  4,   7,  10,  13,  22,  25,  28, 100, 100])"
      ]
     },
     "execution_count": 297,
     "metadata": {},
     "output_type": "execute_result"
    }
   ],
   "source": [
    "np.sort(b.ravel())"
   ]
  },
  {
   "cell_type": "code",
   "execution_count": 279,
   "metadata": {},
   "outputs": [
    {
     "data": {
      "text/plain": [
       "array([  4,   7,  10,  13,  19,  22,  25,  28, 100])"
      ]
     },
     "execution_count": 279,
     "metadata": {},
     "output_type": "execute_result"
    }
   ],
   "source": [
    "np.sort(b.ravel())"
   ]
  },
  {
   "cell_type": "code",
   "execution_count": 289,
   "metadata": {},
   "outputs": [
    {
     "data": {
      "text/plain": [
       "array([0, 1, 2, 3, 5, 6, 7, 4, 8], dtype=int64)"
      ]
     },
     "execution_count": 289,
     "metadata": {},
     "output_type": "execute_result"
    }
   ],
   "source": [
    "b.ravel().argsort()"
   ]
  },
  {
   "cell_type": "code",
   "execution_count": 295,
   "metadata": {},
   "outputs": [
    {
     "data": {
      "text/plain": [
       "array([  4,   7,  10,  13,  22,  25,  28, 100, 100])"
      ]
     },
     "execution_count": 295,
     "metadata": {},
     "output_type": "execute_result"
    }
   ],
   "source": [
    "np.sort(b.ravel())"
   ]
  },
  {
   "cell_type": "code",
   "execution_count": 52,
   "metadata": {},
   "outputs": [],
   "source": [
    "a = np.array([[1,2],[3,4]])"
   ]
  },
  {
   "cell_type": "code",
   "execution_count": 53,
   "metadata": {},
   "outputs": [],
   "source": [
    "b =  np.array([1,2])"
   ]
  },
  {
   "cell_type": "code",
   "execution_count": 54,
   "metadata": {},
   "outputs": [
    {
     "data": {
      "text/plain": [
       "array([[2, 4],\n",
       "       [4, 6]])"
      ]
     },
     "execution_count": 54,
     "metadata": {},
     "output_type": "execute_result"
    }
   ],
   "source": [
    "a+b"
   ]
  },
  {
   "cell_type": "code",
   "execution_count": 55,
   "metadata": {},
   "outputs": [
    {
     "data": {
      "text/plain": [
       "(2,)"
      ]
     },
     "execution_count": 55,
     "metadata": {},
     "output_type": "execute_result"
    }
   ],
   "source": [
    "b.shape"
   ]
  },
  {
   "cell_type": "code",
   "execution_count": 56,
   "metadata": {},
   "outputs": [
    {
     "data": {
      "text/plain": [
       "(2, 2)"
      ]
     },
     "execution_count": 56,
     "metadata": {},
     "output_type": "execute_result"
    }
   ],
   "source": [
    "a.shape"
   ]
  },
  {
   "cell_type": "code",
   "execution_count": 97,
   "metadata": {},
   "outputs": [],
   "source": [
    "a = np.random.rand(21,7)"
   ]
  },
  {
   "cell_type": "code",
   "execution_count": 98,
   "metadata": {},
   "outputs": [],
   "source": [
    "b = np.random.rand(21,)"
   ]
  },
  {
   "cell_type": "code",
   "execution_count": 99,
   "metadata": {},
   "outputs": [
    {
     "data": {
      "text/plain": [
       "array([[0.43763193, 0.2942224 , 0.14604834, 0.14865289, 0.10056121,\n",
       "        0.63419056, 0.82718944],\n",
       "       [0.32016971, 0.9008598 , 0.62396608, 0.37911076, 0.45469811,\n",
       "        0.79266094, 0.25555683],\n",
       "       [0.76534203, 0.78968928, 0.32983063, 0.21812949, 0.20154187,\n",
       "        0.79341467, 0.33641871],\n",
       "       [0.35947107, 0.74394   , 0.08892166, 0.8499492 , 0.37100268,\n",
       "        0.66028738, 0.01629692],\n",
       "       [0.53681829, 0.17292918, 0.99911889, 0.33802716, 0.13687957,\n",
       "        0.96098373, 0.2357746 ],\n",
       "       [0.07010023, 0.17386769, 0.55485796, 0.99067451, 0.64811139,\n",
       "        0.44932112, 0.43694332],\n",
       "       [0.27465857, 0.89330206, 0.3862332 , 0.24831904, 0.28223968,\n",
       "        0.14811862, 0.74228863],\n",
       "       [0.16324043, 0.32356391, 0.63227476, 0.13206381, 0.07465467,\n",
       "        0.65916669, 0.55699379],\n",
       "       [0.69473633, 0.37262897, 0.12420884, 0.39907379, 0.71729547,\n",
       "        0.08297081, 0.10463308],\n",
       "       [0.4181538 , 0.78176689, 0.59216056, 0.9019243 , 0.31953277,\n",
       "        0.4287263 , 0.44581574],\n",
       "       [0.33039005, 0.71215593, 0.16426653, 0.36744239, 0.52060994,\n",
       "        0.76459682, 0.06120041],\n",
       "       [0.05829275, 0.01740894, 0.1134816 , 0.53679531, 0.16751076,\n",
       "        0.00624916, 0.74487031],\n",
       "       [0.60395554, 0.75580114, 0.72342069, 0.39313711, 0.28184354,\n",
       "        0.63552435, 0.77899443],\n",
       "       [0.77865487, 0.67132655, 0.46573432, 0.61478794, 0.68170505,\n",
       "        0.80196053, 0.59738012],\n",
       "       [0.79848768, 0.52034273, 0.10315991, 0.89644027, 0.7076544 ,\n",
       "        0.76399134, 0.43358754],\n",
       "       [0.53807905, 0.98152095, 0.33936242, 0.34025911, 0.27242419,\n",
       "        0.2283999 , 0.20890368],\n",
       "       [0.02819902, 0.01733392, 0.78554088, 0.3775342 , 0.28506089,\n",
       "        0.41579834, 0.84590184],\n",
       "       [0.3236618 , 0.83337667, 0.6001908 , 0.22183616, 0.33203172,\n",
       "        0.0661836 , 0.88877977],\n",
       "       [0.18238078, 0.4475568 , 0.0606407 , 0.15172706, 0.51860794,\n",
       "        0.3176658 , 0.25879595],\n",
       "       [0.1185347 , 0.97766861, 0.55222593, 0.91176283, 0.28793334,\n",
       "        0.34810803, 0.79170551],\n",
       "       [0.99825076, 0.59303076, 0.15107402, 0.29628487, 0.84681319,\n",
       "        0.80893725, 0.2009418 ]])"
      ]
     },
     "execution_count": 99,
     "metadata": {},
     "output_type": "execute_result"
    }
   ],
   "source": [
    "a"
   ]
  },
  {
   "cell_type": "code",
   "execution_count": 100,
   "metadata": {},
   "outputs": [
    {
     "data": {
      "text/plain": [
       "array([0.90603144, 0.04727357, 0.63450097, 0.21101138, 0.7411254 ,\n",
       "       0.32596287, 0.58573164, 0.49107245, 0.24514114, 0.91590703,\n",
       "       0.75862623, 0.37531515, 0.86220542, 0.85173559, 0.71639988,\n",
       "       0.05787269, 0.95064001, 0.77071938, 0.86489043, 0.13326636,\n",
       "       0.88307819])"
      ]
     },
     "execution_count": 100,
     "metadata": {},
     "output_type": "execute_result"
    }
   ],
   "source": [
    "b"
   ]
  },
  {
   "cell_type": "code",
   "execution_count": 114,
   "metadata": {},
   "outputs": [
    {
     "data": {
      "text/plain": [
       "(21, 7)"
      ]
     },
     "execution_count": 114,
     "metadata": {},
     "output_type": "execute_result"
    }
   ],
   "source": [
    "(a + b[:,None]).shape"
   ]
  },
  {
   "cell_type": "code",
   "execution_count": null,
   "metadata": {},
   "outputs": [],
   "source": []
  }
 ],
 "metadata": {
  "kernelspec": {
   "display_name": "Python 3",
   "language": "python",
   "name": "python3"
  },
  "language_info": {
   "codemirror_mode": {
    "name": "ipython",
    "version": 3
   },
   "file_extension": ".py",
   "mimetype": "text/x-python",
   "name": "python",
   "nbconvert_exporter": "python",
   "pygments_lexer": "ipython3",
   "version": "3.7.4"
  },
  "varInspector": {
   "cols": {
    "lenName": 16,
    "lenType": 16,
    "lenVar": 40
   },
   "kernels_config": {
    "python": {
     "delete_cmd_postfix": "",
     "delete_cmd_prefix": "del ",
     "library": "var_list.py",
     "varRefreshCmd": "print(var_dic_list())"
    },
    "r": {
     "delete_cmd_postfix": ") ",
     "delete_cmd_prefix": "rm(",
     "library": "var_list.r",
     "varRefreshCmd": "cat(var_dic_list()) "
    }
   },
   "position": {
    "height": "421.823px",
    "left": "1124.16px",
    "right": "20px",
    "top": "157.992px",
    "width": "448.32px"
   },
   "types_to_exclude": [
    "module",
    "function",
    "builtin_function_or_method",
    "instance",
    "_Feature"
   ],
   "window_display": false
  }
 },
 "nbformat": 4,
 "nbformat_minor": 2
}
